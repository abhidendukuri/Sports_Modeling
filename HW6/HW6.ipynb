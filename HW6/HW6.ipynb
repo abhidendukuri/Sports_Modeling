{
  "nbformat": 4,
  "nbformat_minor": 0,
  "metadata": {
    "colab": {
      "name": "HW6.ipynb",
      "provenance": [],
      "collapsed_sections": [],
      "authorship_tag": "ABX9TyOlegxIt1ka5Lbo5rog8hHz",
      "include_colab_link": true
    },
    "kernelspec": {
      "name": "python3",
      "display_name": "Python 3"
    },
    "language_info": {
      "name": "python"
    }
  },
  "cells": [
    {
      "cell_type": "markdown",
      "metadata": {
        "id": "view-in-github",
        "colab_type": "text"
      },
      "source": [
        "<a href=\"https://colab.research.google.com/github/abhidendukuri/Sports_Modeling/blob/main/HW6.ipynb\" target=\"_parent\"><img src=\"https://colab.research.google.com/assets/colab-badge.svg\" alt=\"Open In Colab\"/></a>"
      ]
    },
    {
      "cell_type": "code",
      "metadata": {
        "id": "Ars1k2DyDpuZ",
        "colab": {
          "base_uri": "https://localhost:8080/"
        },
        "outputId": "b813e5cc-7db3-4543-e475-ba84d10eacfb"
      },
      "source": [
        "import numpy as np\n",
        "import pandas as pd\n",
        "import statsmodels.api as sm\n",
        "import statsmodels.formula.api as smf\n"
      ],
      "execution_count": 1,
      "outputs": [
        {
          "output_type": "stream",
          "text": [
            "/usr/local/lib/python3.7/dist-packages/statsmodels/tools/_testing.py:19: FutureWarning: pandas.util.testing is deprecated. Use the functions in the public API at pandas.testing instead.\n",
            "  import pandas.util.testing as tm\n"
          ],
          "name": "stderr"
        }
      ]
    },
    {
      "cell_type": "code",
      "metadata": {
        "colab": {
          "base_uri": "https://localhost:8080/",
          "height": 419
        },
        "id": "HUFsTjbOA6ur",
        "outputId": "7ce624ea-65c5-4ec2-91f2-a23be8352575"
      },
      "source": [
        "df = pd.read_csv('pitchers17.csv')"
      ],
      "execution_count": 2,
      "outputs": [
        {
          "output_type": "execute_result",
          "data": {
            "text/html": [
              "<div>\n",
              "<style scoped>\n",
              "    .dataframe tbody tr th:only-of-type {\n",
              "        vertical-align: middle;\n",
              "    }\n",
              "\n",
              "    .dataframe tbody tr th {\n",
              "        vertical-align: top;\n",
              "    }\n",
              "\n",
              "    .dataframe thead th {\n",
              "        text-align: right;\n",
              "    }\n",
              "</style>\n",
              "<table border=\"1\" class=\"dataframe\">\n",
              "  <thead>\n",
              "    <tr style=\"text-align: right;\">\n",
              "      <th></th>\n",
              "      <th>pitcher</th>\n",
              "      <th>y</th>\n",
              "      <th>bf</th>\n",
              "      <th>bb</th>\n",
              "      <th>k</th>\n",
              "      <th>hr</th>\n",
              "      <th>h</th>\n",
              "      <th>lo</th>\n",
              "      <th>po</th>\n",
              "      <th>fo</th>\n",
              "      <th>go</th>\n",
              "    </tr>\n",
              "  </thead>\n",
              "  <tbody>\n",
              "    <tr>\n",
              "      <th>0</th>\n",
              "      <td>Aardsma_David_430911</td>\n",
              "      <td>2012</td>\n",
              "      <td>5</td>\n",
              "      <td>1</td>\n",
              "      <td>1</td>\n",
              "      <td>1</td>\n",
              "      <td>1</td>\n",
              "      <td>0</td>\n",
              "      <td>0</td>\n",
              "      <td>0</td>\n",
              "      <td>2</td>\n",
              "    </tr>\n",
              "    <tr>\n",
              "      <th>1</th>\n",
              "      <td>Aardsma_David_430911</td>\n",
              "      <td>2013</td>\n",
              "      <td>172</td>\n",
              "      <td>13</td>\n",
              "      <td>36</td>\n",
              "      <td>7</td>\n",
              "      <td>39</td>\n",
              "      <td>12</td>\n",
              "      <td>8</td>\n",
              "      <td>28</td>\n",
              "      <td>28</td>\n",
              "    </tr>\n",
              "    <tr>\n",
              "      <th>2</th>\n",
              "      <td>Aardsma_David_430911</td>\n",
              "      <td>2015</td>\n",
              "      <td>126</td>\n",
              "      <td>11</td>\n",
              "      <td>35</td>\n",
              "      <td>6</td>\n",
              "      <td>25</td>\n",
              "      <td>9</td>\n",
              "      <td>5</td>\n",
              "      <td>21</td>\n",
              "      <td>17</td>\n",
              "    </tr>\n",
              "    <tr>\n",
              "      <th>3</th>\n",
              "      <td>Abad_Fernando_472551</td>\n",
              "      <td>2012</td>\n",
              "      <td>207</td>\n",
              "      <td>18</td>\n",
              "      <td>38</td>\n",
              "      <td>6</td>\n",
              "      <td>56</td>\n",
              "      <td>4</td>\n",
              "      <td>16</td>\n",
              "      <td>28</td>\n",
              "      <td>38</td>\n",
              "    </tr>\n",
              "    <tr>\n",
              "      <th>4</th>\n",
              "      <td>Abad_Fernando_472551</td>\n",
              "      <td>2013</td>\n",
              "      <td>166</td>\n",
              "      <td>10</td>\n",
              "      <td>32</td>\n",
              "      <td>3</td>\n",
              "      <td>42</td>\n",
              "      <td>11</td>\n",
              "      <td>17</td>\n",
              "      <td>22</td>\n",
              "      <td>29</td>\n",
              "    </tr>\n",
              "    <tr>\n",
              "      <th>...</th>\n",
              "      <td>...</td>\n",
              "      <td>...</td>\n",
              "      <td>...</td>\n",
              "      <td>...</td>\n",
              "      <td>...</td>\n",
              "      <td>...</td>\n",
              "      <td>...</td>\n",
              "      <td>...</td>\n",
              "      <td>...</td>\n",
              "      <td>...</td>\n",
              "      <td>...</td>\n",
              "    </tr>\n",
              "    <tr>\n",
              "      <th>4260</th>\n",
              "      <td>Zych_Tony_543964</td>\n",
              "      <td>2017</td>\n",
              "      <td>170</td>\n",
              "      <td>18</td>\n",
              "      <td>35</td>\n",
              "      <td>2</td>\n",
              "      <td>30</td>\n",
              "      <td>9</td>\n",
              "      <td>9</td>\n",
              "      <td>16</td>\n",
              "      <td>47</td>\n",
              "    </tr>\n",
              "    <tr>\n",
              "      <th>4261</th>\n",
              "      <td>deGrom_Jacob_594798</td>\n",
              "      <td>2014</td>\n",
              "      <td>563</td>\n",
              "      <td>41</td>\n",
              "      <td>144</td>\n",
              "      <td>7</td>\n",
              "      <td>117</td>\n",
              "      <td>32</td>\n",
              "      <td>19</td>\n",
              "      <td>67</td>\n",
              "      <td>126</td>\n",
              "    </tr>\n",
              "    <tr>\n",
              "      <th>4262</th>\n",
              "      <td>deGrom_Jacob_594798</td>\n",
              "      <td>2015</td>\n",
              "      <td>749</td>\n",
              "      <td>36</td>\n",
              "      <td>205</td>\n",
              "      <td>16</td>\n",
              "      <td>149</td>\n",
              "      <td>47</td>\n",
              "      <td>35</td>\n",
              "      <td>90</td>\n",
              "      <td>161</td>\n",
              "    </tr>\n",
              "    <tr>\n",
              "      <th>4263</th>\n",
              "      <td>deGrom_Jacob_594798</td>\n",
              "      <td>2016</td>\n",
              "      <td>604</td>\n",
              "      <td>36</td>\n",
              "      <td>143</td>\n",
              "      <td>15</td>\n",
              "      <td>142</td>\n",
              "      <td>36</td>\n",
              "      <td>25</td>\n",
              "      <td>68</td>\n",
              "      <td>137</td>\n",
              "    </tr>\n",
              "    <tr>\n",
              "      <th>4264</th>\n",
              "      <td>deGrom_Jacob_594798</td>\n",
              "      <td>2017</td>\n",
              "      <td>822</td>\n",
              "      <td>54</td>\n",
              "      <td>239</td>\n",
              "      <td>28</td>\n",
              "      <td>180</td>\n",
              "      <td>45</td>\n",
              "      <td>30</td>\n",
              "      <td>83</td>\n",
              "      <td>178</td>\n",
              "    </tr>\n",
              "  </tbody>\n",
              "</table>\n",
              "<p>4265 rows × 11 columns</p>\n",
              "</div>"
            ],
            "text/plain": [
              "                   pitcher     y   bf  bb    k  hr    h  lo  po  fo   go\n",
              "0     Aardsma_David_430911  2012    5   1    1   1    1   0   0   0    2\n",
              "1     Aardsma_David_430911  2013  172  13   36   7   39  12   8  28   28\n",
              "2     Aardsma_David_430911  2015  126  11   35   6   25   9   5  21   17\n",
              "3     Abad_Fernando_472551  2012  207  18   38   6   56   4  16  28   38\n",
              "4     Abad_Fernando_472551  2013  166  10   32   3   42  11  17  22   29\n",
              "...                    ...   ...  ...  ..  ...  ..  ...  ..  ..  ..  ...\n",
              "4260      Zych_Tony_543964  2017  170  18   35   2   30   9   9  16   47\n",
              "4261   deGrom_Jacob_594798  2014  563  41  144   7  117  32  19  67  126\n",
              "4262   deGrom_Jacob_594798  2015  749  36  205  16  149  47  35  90  161\n",
              "4263   deGrom_Jacob_594798  2016  604  36  143  15  142  36  25  68  137\n",
              "4264   deGrom_Jacob_594798  2017  822  54  239  28  180  45  30  83  178\n",
              "\n",
              "[4265 rows x 11 columns]"
            ]
          },
          "metadata": {
            "tags": []
          },
          "execution_count": 2
        }
      ]
    },
    {
      "cell_type": "markdown",
      "metadata": {
        "id": "ZcJgGrQZGq0Q"
      },
      "source": [
        "# 2a."
      ]
    },
    {
      "cell_type": "code",
      "metadata": {
        "colab": {
          "base_uri": "https://localhost:8080/"
        },
        "id": "Mmlt4IGxA93K",
        "outputId": "63ebdea0-3ea5-4d8a-a1e8-116bad5f9e4f"
      },
      "source": [
        "p_bb = sum(df.bb) / sum(df.bf)\n",
        "p_k = sum(df.k) / sum(df.bf)\n",
        "cp_k = sum(df.k) / sum(df.bf - df.bb)\n",
        "a_hr = sum(df.hr) / sum(df.bf)\n",
        "cp_hr = sum(df.hr) / sum(df.bf - df.bb - df.k)\n",
        "cp_h = sum(df.h - df.hr) / sum(df.bf - df.bb - df.k - df.hr)\n",
        "\n",
        "p_bb, p_k, cp_k, a_hr, cp_hr, cp_h"
      ],
      "execution_count": 3,
      "outputs": [
        {
          "output_type": "execute_result",
          "data": {
            "text/plain": [
              "(0.07491447652363538,\n",
              " 0.2063503168798128,\n",
              " 0.22306079994028244,\n",
              " 0.027626467982645436,\n",
              " 0.03843761614721209,\n",
              " 0.2914712660905554)"
            ]
          },
          "metadata": {
            "tags": []
          },
          "execution_count": 3
        }
      ]
    },
    {
      "cell_type": "code",
      "metadata": {
        "id": "l8VO1KRsZuwf"
      },
      "source": [
        "df2 = df.groupby(['pitcher', 'y']).sum().reset_index()\n",
        "df2['bbrate'] = df2.bb / df2.bf\n",
        "df2['krate'] = df2.k / (df2.bf - df2.bb)\n",
        "df2['hrrate'] = df2.hr / (df2.bf - df2.bb - df2.k)\n",
        "df2['hrate'] = (df2.h - df2.hr) / (df2.bf - df2.bb - df2.k - df2.hr)\n",
        "\n",
        "# Additional Columns for Q3\n",
        "df2['lorate'] = df2.lo / (df2.bf - df2.bb - df2.k - df2.hr)\n",
        "df2['porate'] = df2.po / (df2.bf - df2.bb - df2.k - df2.hr)\n",
        "df2['forate'] = df2.fo / (df2.bf - df2.bb - df2.k - df2.hr)\n",
        "df2['gorate'] = df2.go / (df2.bf - df2.bb - df2.k - df2.hr)\n",
        "\n",
        "\n",
        "df_1b = df2[['y', 'pitcher', 'bf', 'krate']][(df2.y > 2015) & (df2.bf >= 500)].sort_values('krate', ascending=False)\n",
        "df_1c = df2[['y', 'pitcher', 'bf', 'hrate']][(df2.y > 2015) & (df2.bf >= 500)].sort_values('hrate', ascending=False)\n"
      ],
      "execution_count": 4,
      "outputs": []
    },
    {
      "cell_type": "markdown",
      "metadata": {
        "id": "iDyOT8oUGpKx"
      },
      "source": [
        "# 2b."
      ]
    },
    {
      "cell_type": "code",
      "metadata": {
        "colab": {
          "base_uri": "https://localhost:8080/",
          "height": 359
        },
        "id": "-wC0Kn3Qa-OD",
        "outputId": "b3744d3c-9400-4851-c152-db96995b5e5a"
      },
      "source": [
        "df_1b[df_1b.y == 2016].reset_index().head(10)"
      ],
      "execution_count": 6,
      "outputs": [
        {
          "output_type": "execute_result",
          "data": {
            "text/html": [
              "<div>\n",
              "<style scoped>\n",
              "    .dataframe tbody tr th:only-of-type {\n",
              "        vertical-align: middle;\n",
              "    }\n",
              "\n",
              "    .dataframe tbody tr th {\n",
              "        vertical-align: top;\n",
              "    }\n",
              "\n",
              "    .dataframe thead th {\n",
              "        text-align: right;\n",
              "    }\n",
              "</style>\n",
              "<table border=\"1\" class=\"dataframe\">\n",
              "  <thead>\n",
              "    <tr style=\"text-align: right;\">\n",
              "      <th></th>\n",
              "      <th>index</th>\n",
              "      <th>y</th>\n",
              "      <th>pitcher</th>\n",
              "      <th>bf</th>\n",
              "      <th>krate</th>\n",
              "    </tr>\n",
              "  </thead>\n",
              "  <tbody>\n",
              "    <tr>\n",
              "      <th>0</th>\n",
              "      <td>1190</td>\n",
              "      <td>2016</td>\n",
              "      <td>Fernandez_Jose_605228</td>\n",
              "      <td>731</td>\n",
              "      <td>0.370968</td>\n",
              "    </tr>\n",
              "    <tr>\n",
              "      <th>1</th>\n",
              "      <td>3524</td>\n",
              "      <td>2016</td>\n",
              "      <td>Scherzer_Max_453286</td>\n",
              "      <td>900</td>\n",
              "      <td>0.335697</td>\n",
              "    </tr>\n",
              "    <tr>\n",
              "      <th>2</th>\n",
              "      <td>3721</td>\n",
              "      <td>2016</td>\n",
              "      <td>Strasburg_Stephen_544931</td>\n",
              "      <td>597</td>\n",
              "      <td>0.330325</td>\n",
              "    </tr>\n",
              "    <tr>\n",
              "      <th>3</th>\n",
              "      <td>2021</td>\n",
              "      <td>2016</td>\n",
              "      <td>Kershaw_Clayton_477132</td>\n",
              "      <td>543</td>\n",
              "      <td>0.322702</td>\n",
              "    </tr>\n",
              "    <tr>\n",
              "      <th>4</th>\n",
              "      <td>3775</td>\n",
              "      <td>2016</td>\n",
              "      <td>Syndergaard_Noah_592789</td>\n",
              "      <td>742</td>\n",
              "      <td>0.310984</td>\n",
              "    </tr>\n",
              "    <tr>\n",
              "      <th>5</th>\n",
              "      <td>3183</td>\n",
              "      <td>2016</td>\n",
              "      <td>Ray_Robbie_592662</td>\n",
              "      <td>772</td>\n",
              "      <td>0.309220</td>\n",
              "    </tr>\n",
              "    <tr>\n",
              "      <th>6</th>\n",
              "      <td>3445</td>\n",
              "      <td>2016</td>\n",
              "      <td>Salazar_Danny_517593</td>\n",
              "      <td>581</td>\n",
              "      <td>0.309021</td>\n",
              "    </tr>\n",
              "    <tr>\n",
              "      <th>7</th>\n",
              "      <td>3942</td>\n",
              "      <td>2016</td>\n",
              "      <td>Velasquez_Vincent_592826</td>\n",
              "      <td>550</td>\n",
              "      <td>0.300395</td>\n",
              "    </tr>\n",
              "    <tr>\n",
              "      <th>8</th>\n",
              "      <td>3964</td>\n",
              "      <td>2016</td>\n",
              "      <td>Verlander_Justin_434378</td>\n",
              "      <td>902</td>\n",
              "      <td>0.300236</td>\n",
              "    </tr>\n",
              "    <tr>\n",
              "      <th>9</th>\n",
              "      <td>120</td>\n",
              "      <td>2016</td>\n",
              "      <td>Archer_Chris_502042</td>\n",
              "      <td>850</td>\n",
              "      <td>0.297573</td>\n",
              "    </tr>\n",
              "  </tbody>\n",
              "</table>\n",
              "</div>"
            ],
            "text/plain": [
              "   index     y                   pitcher   bf     krate\n",
              "0   1190  2016     Fernandez_Jose_605228  731  0.370968\n",
              "1   3524  2016       Scherzer_Max_453286  900  0.335697\n",
              "2   3721  2016  Strasburg_Stephen_544931  597  0.330325\n",
              "3   2021  2016    Kershaw_Clayton_477132  543  0.322702\n",
              "4   3775  2016   Syndergaard_Noah_592789  742  0.310984\n",
              "5   3183  2016         Ray_Robbie_592662  772  0.309220\n",
              "6   3445  2016      Salazar_Danny_517593  581  0.309021\n",
              "7   3942  2016  Velasquez_Vincent_592826  550  0.300395\n",
              "8   3964  2016   Verlander_Justin_434378  902  0.300236\n",
              "9    120  2016       Archer_Chris_502042  850  0.297573"
            ]
          },
          "metadata": {
            "tags": []
          },
          "execution_count": 6
        }
      ]
    },
    {
      "cell_type": "code",
      "metadata": {
        "colab": {
          "base_uri": "https://localhost:8080/",
          "height": 359
        },
        "id": "TtZu8VCdbGet",
        "outputId": "2927de42-4abb-41ad-9a66-8a294c8f8e6c"
      },
      "source": [
        "df_1b[df_1b.y == 2017].reset_index().head(10)"
      ],
      "execution_count": 7,
      "outputs": [
        {
          "output_type": "execute_result",
          "data": {
            "text/html": [
              "<div>\n",
              "<style scoped>\n",
              "    .dataframe tbody tr th:only-of-type {\n",
              "        vertical-align: middle;\n",
              "    }\n",
              "\n",
              "    .dataframe tbody tr th {\n",
              "        vertical-align: top;\n",
              "    }\n",
              "\n",
              "    .dataframe thead th {\n",
              "        text-align: right;\n",
              "    }\n",
              "</style>\n",
              "<table border=\"1\" class=\"dataframe\">\n",
              "  <thead>\n",
              "    <tr style=\"text-align: right;\">\n",
              "      <th></th>\n",
              "      <th>index</th>\n",
              "      <th>y</th>\n",
              "      <th>pitcher</th>\n",
              "      <th>bf</th>\n",
              "      <th>krate</th>\n",
              "    </tr>\n",
              "  </thead>\n",
              "  <tbody>\n",
              "    <tr>\n",
              "      <th>0</th>\n",
              "      <td>3452</td>\n",
              "      <td>2017</td>\n",
              "      <td>Sale_Chris_519242</td>\n",
              "      <td>851</td>\n",
              "      <td>0.381188</td>\n",
              "    </tr>\n",
              "    <tr>\n",
              "      <th>1</th>\n",
              "      <td>3525</td>\n",
              "      <td>2017</td>\n",
              "      <td>Scherzer_Max_453286</td>\n",
              "      <td>778</td>\n",
              "      <td>0.369655</td>\n",
              "    </tr>\n",
              "    <tr>\n",
              "      <th>2</th>\n",
              "      <td>3184</td>\n",
              "      <td>2017</td>\n",
              "      <td>Ray_Robbie_592662</td>\n",
              "      <td>662</td>\n",
              "      <td>0.367003</td>\n",
              "    </tr>\n",
              "    <tr>\n",
              "      <th>3</th>\n",
              "      <td>2058</td>\n",
              "      <td>2017</td>\n",
              "      <td>Kluber_Corey_446372</td>\n",
              "      <td>775</td>\n",
              "      <td>0.357625</td>\n",
              "    </tr>\n",
              "    <tr>\n",
              "      <th>4</th>\n",
              "      <td>1754</td>\n",
              "      <td>2017</td>\n",
              "      <td>Hill_Rich_448179</td>\n",
              "      <td>551</td>\n",
              "      <td>0.330020</td>\n",
              "    </tr>\n",
              "    <tr>\n",
              "      <th>5</th>\n",
              "      <td>2948</td>\n",
              "      <td>2017</td>\n",
              "      <td>Peacock_Brad_502748</td>\n",
              "      <td>546</td>\n",
              "      <td>0.329243</td>\n",
              "    </tr>\n",
              "    <tr>\n",
              "      <th>6</th>\n",
              "      <td>121</td>\n",
              "      <td>2017</td>\n",
              "      <td>Archer_Chris_502042</td>\n",
              "      <td>852</td>\n",
              "      <td>0.314394</td>\n",
              "    </tr>\n",
              "    <tr>\n",
              "      <th>7</th>\n",
              "      <td>3556</td>\n",
              "      <td>2017</td>\n",
              "      <td>Severino_Luis_622663</td>\n",
              "      <td>783</td>\n",
              "      <td>0.314208</td>\n",
              "    </tr>\n",
              "    <tr>\n",
              "      <th>8</th>\n",
              "      <td>3722</td>\n",
              "      <td>2017</td>\n",
              "      <td>Strasburg_Stephen_544931</td>\n",
              "      <td>696</td>\n",
              "      <td>0.311927</td>\n",
              "    </tr>\n",
              "    <tr>\n",
              "      <th>9</th>\n",
              "      <td>2022</td>\n",
              "      <td>2017</td>\n",
              "      <td>Kershaw_Clayton_477132</td>\n",
              "      <td>679</td>\n",
              "      <td>0.311248</td>\n",
              "    </tr>\n",
              "  </tbody>\n",
              "</table>\n",
              "</div>"
            ],
            "text/plain": [
              "   index     y                   pitcher   bf     krate\n",
              "0   3452  2017         Sale_Chris_519242  851  0.381188\n",
              "1   3525  2017       Scherzer_Max_453286  778  0.369655\n",
              "2   3184  2017         Ray_Robbie_592662  662  0.367003\n",
              "3   2058  2017       Kluber_Corey_446372  775  0.357625\n",
              "4   1754  2017          Hill_Rich_448179  551  0.330020\n",
              "5   2948  2017       Peacock_Brad_502748  546  0.329243\n",
              "6    121  2017       Archer_Chris_502042  852  0.314394\n",
              "7   3556  2017      Severino_Luis_622663  783  0.314208\n",
              "8   3722  2017  Strasburg_Stephen_544931  696  0.311927\n",
              "9   2022  2017    Kershaw_Clayton_477132  679  0.311248"
            ]
          },
          "metadata": {
            "tags": []
          },
          "execution_count": 7
        }
      ]
    },
    {
      "cell_type": "markdown",
      "metadata": {
        "id": "TWmarOFYGm6a"
      },
      "source": [
        "# 2c."
      ]
    },
    {
      "cell_type": "code",
      "metadata": {
        "colab": {
          "base_uri": "https://localhost:8080/",
          "height": 359
        },
        "id": "w6TCZy2Ob70P",
        "outputId": "88caf850-6c68-4b70-97ea-429853c68602"
      },
      "source": [
        "df_1c[df_1c.y == 2016].reset_index().head(10)"
      ],
      "execution_count": 8,
      "outputs": [
        {
          "output_type": "execute_result",
          "data": {
            "text/html": [
              "<div>\n",
              "<style scoped>\n",
              "    .dataframe tbody tr th:only-of-type {\n",
              "        vertical-align: middle;\n",
              "    }\n",
              "\n",
              "    .dataframe tbody tr th {\n",
              "        vertical-align: top;\n",
              "    }\n",
              "\n",
              "    .dataframe thead th {\n",
              "        text-align: right;\n",
              "    }\n",
              "</style>\n",
              "<table border=\"1\" class=\"dataframe\">\n",
              "  <thead>\n",
              "    <tr style=\"text-align: right;\">\n",
              "      <th></th>\n",
              "      <th>index</th>\n",
              "      <th>y</th>\n",
              "      <th>pitcher</th>\n",
              "      <th>bf</th>\n",
              "      <th>hrate</th>\n",
              "    </tr>\n",
              "  </thead>\n",
              "  <tbody>\n",
              "    <tr>\n",
              "      <th>0</th>\n",
              "      <td>3183</td>\n",
              "      <td>2016</td>\n",
              "      <td>Ray_Robbie_592662</td>\n",
              "      <td>772</td>\n",
              "      <td>0.347732</td>\n",
              "    </tr>\n",
              "    <tr>\n",
              "      <th>1</th>\n",
              "      <td>2939</td>\n",
              "      <td>2016</td>\n",
              "      <td>Paxton_James_572020</td>\n",
              "      <td>508</td>\n",
              "      <td>0.346260</td>\n",
              "    </tr>\n",
              "    <tr>\n",
              "      <th>2</th>\n",
              "      <td>2958</td>\n",
              "      <td>2016</td>\n",
              "      <td>Pelfrey_Mike_460059</td>\n",
              "      <td>541</td>\n",
              "      <td>0.341981</td>\n",
              "    </tr>\n",
              "    <tr>\n",
              "      <th>3</th>\n",
              "      <td>759</td>\n",
              "      <td>2016</td>\n",
              "      <td>Cole_Gerrit_543037</td>\n",
              "      <td>503</td>\n",
              "      <td>0.339726</td>\n",
              "    </tr>\n",
              "    <tr>\n",
              "      <th>4</th>\n",
              "      <td>2980</td>\n",
              "      <td>2016</td>\n",
              "      <td>Perdomo_Luis_606131</td>\n",
              "      <td>655</td>\n",
              "      <td>0.336066</td>\n",
              "    </tr>\n",
              "    <tr>\n",
              "      <th>5</th>\n",
              "      <td>2511</td>\n",
              "      <td>2016</td>\n",
              "      <td>McHugh_Collin_543521</td>\n",
              "      <td>795</td>\n",
              "      <td>0.335185</td>\n",
              "    </tr>\n",
              "    <tr>\n",
              "      <th>6</th>\n",
              "      <td>412</td>\n",
              "      <td>2016</td>\n",
              "      <td>Bradley_Archie_605151</td>\n",
              "      <td>630</td>\n",
              "      <td>0.334951</td>\n",
              "    </tr>\n",
              "    <tr>\n",
              "      <th>7</th>\n",
              "      <td>1047</td>\n",
              "      <td>2016</td>\n",
              "      <td>Duffey_Tyler_608648</td>\n",
              "      <td>593</td>\n",
              "      <td>0.334118</td>\n",
              "    </tr>\n",
              "    <tr>\n",
              "      <th>8</th>\n",
              "      <td>4009</td>\n",
              "      <td>2016</td>\n",
              "      <td>Wacha_Michael_608379</td>\n",
              "      <td>600</td>\n",
              "      <td>0.333333</td>\n",
              "    </tr>\n",
              "    <tr>\n",
              "      <th>9</th>\n",
              "      <td>3775</td>\n",
              "      <td>2016</td>\n",
              "      <td>Syndergaard_Noah_592789</td>\n",
              "      <td>742</td>\n",
              "      <td>0.332627</td>\n",
              "    </tr>\n",
              "  </tbody>\n",
              "</table>\n",
              "</div>"
            ],
            "text/plain": [
              "   index     y                  pitcher   bf     hrate\n",
              "0   3183  2016        Ray_Robbie_592662  772  0.347732\n",
              "1   2939  2016      Paxton_James_572020  508  0.346260\n",
              "2   2958  2016      Pelfrey_Mike_460059  541  0.341981\n",
              "3    759  2016       Cole_Gerrit_543037  503  0.339726\n",
              "4   2980  2016      Perdomo_Luis_606131  655  0.336066\n",
              "5   2511  2016     McHugh_Collin_543521  795  0.335185\n",
              "6    412  2016    Bradley_Archie_605151  630  0.334951\n",
              "7   1047  2016      Duffey_Tyler_608648  593  0.334118\n",
              "8   4009  2016     Wacha_Michael_608379  600  0.333333\n",
              "9   3775  2016  Syndergaard_Noah_592789  742  0.332627"
            ]
          },
          "metadata": {
            "tags": []
          },
          "execution_count": 8
        }
      ]
    },
    {
      "cell_type": "code",
      "metadata": {
        "colab": {
          "base_uri": "https://localhost:8080/",
          "height": 359
        },
        "id": "s8e73JMub-tf",
        "outputId": "fb6c5446-4a53-4ff9-cb68-78f0ec22f1ed"
      },
      "source": [
        "df_1c[df_1c.y == 2017].reset_index().head(10)"
      ],
      "execution_count": 9,
      "outputs": [
        {
          "output_type": "execute_result",
          "data": {
            "text/html": [
              "<div>\n",
              "<style scoped>\n",
              "    .dataframe tbody tr th:only-of-type {\n",
              "        vertical-align: middle;\n",
              "    }\n",
              "\n",
              "    .dataframe tbody tr th {\n",
              "        vertical-align: top;\n",
              "    }\n",
              "\n",
              "    .dataframe thead th {\n",
              "        text-align: right;\n",
              "    }\n",
              "</style>\n",
              "<table border=\"1\" class=\"dataframe\">\n",
              "  <thead>\n",
              "    <tr style=\"text-align: right;\">\n",
              "      <th></th>\n",
              "      <th>index</th>\n",
              "      <th>y</th>\n",
              "      <th>pitcher</th>\n",
              "      <th>bf</th>\n",
              "      <th>hrate</th>\n",
              "    </tr>\n",
              "  </thead>\n",
              "  <tbody>\n",
              "    <tr>\n",
              "      <th>0</th>\n",
              "      <td>2619</td>\n",
              "      <td>2017</td>\n",
              "      <td>Montero_Rafael_606160</td>\n",
              "      <td>545</td>\n",
              "      <td>0.361345</td>\n",
              "    </tr>\n",
              "    <tr>\n",
              "      <th>1</th>\n",
              "      <td>3778</td>\n",
              "      <td>2017</td>\n",
              "      <td>Taillon_Jameson_592791</td>\n",
              "      <td>584</td>\n",
              "      <td>0.348148</td>\n",
              "    </tr>\n",
              "    <tr>\n",
              "      <th>2</th>\n",
              "      <td>3223</td>\n",
              "      <td>2017</td>\n",
              "      <td>Richard_Clayton_453385</td>\n",
              "      <td>852</td>\n",
              "      <td>0.346154</td>\n",
              "    </tr>\n",
              "    <tr>\n",
              "      <th>3</th>\n",
              "      <td>248</td>\n",
              "      <td>2017</td>\n",
              "      <td>Bauer_Trevor_545333</td>\n",
              "      <td>749</td>\n",
              "      <td>0.333333</td>\n",
              "    </tr>\n",
              "    <tr>\n",
              "      <th>4</th>\n",
              "      <td>2722</td>\n",
              "      <td>2017</td>\n",
              "      <td>Nelson_Jimmy_519076</td>\n",
              "      <td>727</td>\n",
              "      <td>0.333333</td>\n",
              "    </tr>\n",
              "    <tr>\n",
              "      <th>5</th>\n",
              "      <td>1361</td>\n",
              "      <td>2017</td>\n",
              "      <td>Gausman_Kevin_592332</td>\n",
              "      <td>816</td>\n",
              "      <td>0.331471</td>\n",
              "    </tr>\n",
              "    <tr>\n",
              "      <th>6</th>\n",
              "      <td>2564</td>\n",
              "      <td>2017</td>\n",
              "      <td>Miley_Wade_489119</td>\n",
              "      <td>727</td>\n",
              "      <td>0.329060</td>\n",
              "    </tr>\n",
              "    <tr>\n",
              "      <th>7</th>\n",
              "      <td>3055</td>\n",
              "      <td>2017</td>\n",
              "      <td>Pivetta_Nick_601713</td>\n",
              "      <td>584</td>\n",
              "      <td>0.328729</td>\n",
              "    </tr>\n",
              "    <tr>\n",
              "      <th>8</th>\n",
              "      <td>788</td>\n",
              "      <td>2017</td>\n",
              "      <td>Colon_Bartolo_112526</td>\n",
              "      <td>648</td>\n",
              "      <td>0.328629</td>\n",
              "    </tr>\n",
              "    <tr>\n",
              "      <th>9</th>\n",
              "      <td>396</td>\n",
              "      <td>2017</td>\n",
              "      <td>Boyd_Matt_571510</td>\n",
              "      <td>602</td>\n",
              "      <td>0.327830</td>\n",
              "    </tr>\n",
              "  </tbody>\n",
              "</table>\n",
              "</div>"
            ],
            "text/plain": [
              "   index     y                 pitcher   bf     hrate\n",
              "0   2619  2017   Montero_Rafael_606160  545  0.361345\n",
              "1   3778  2017  Taillon_Jameson_592791  584  0.348148\n",
              "2   3223  2017  Richard_Clayton_453385  852  0.346154\n",
              "3    248  2017     Bauer_Trevor_545333  749  0.333333\n",
              "4   2722  2017     Nelson_Jimmy_519076  727  0.333333\n",
              "5   1361  2017    Gausman_Kevin_592332  816  0.331471\n",
              "6   2564  2017       Miley_Wade_489119  727  0.329060\n",
              "7   3055  2017     Pivetta_Nick_601713  584  0.328729\n",
              "8    788  2017    Colon_Bartolo_112526  648  0.328629\n",
              "9    396  2017        Boyd_Matt_571510  602  0.327830"
            ]
          },
          "metadata": {
            "tags": []
          },
          "execution_count": 9
        }
      ]
    },
    {
      "cell_type": "code",
      "metadata": {
        "id": "myN-My96dxpc"
      },
      "source": [
        "df2['bbrate_prev'] = np.NaN\n",
        "bfs = {k:0 for k in df2.pitcher.unique()}\n",
        "\n",
        "\n",
        "for i in range(len(df2)):\n",
        "  bf = df2.loc[i, 'bf']\n",
        "  year = df2.loc[i, 'y']\n",
        "  pitcher = df2.loc[i, 'pitcher']\n",
        "\n",
        "  prev_bf = bfs[pitcher]\n",
        "\n",
        "  if bf >= 200 and prev_bf >= 200:\n",
        "    bbrate_prev = df2[(df2.y == year - 1) & (df2.pitcher == pitcher)]['bbrate'].values \n",
        "    krate_prev = df2[(df2.y == year - 1) & (df2.pitcher == pitcher)]['krate'].values\n",
        "    hrrate_prev = df2[(df2.y == year - 1) & (df2.pitcher == pitcher)]['hrrate'].values\n",
        "    hrate_prev = df2[(df2.y == year - 1) & (df2.pitcher == pitcher)]['hrate'].values\n",
        "\n",
        "    lorate_prev = df2[(df2.y == year - 1) & (df2.pitcher == pitcher)]['lorate'].values \n",
        "    porate_prev = df2[(df2.y == year - 1) & (df2.pitcher == pitcher)]['porate'].values\n",
        "    forate_prev = df2[(df2.y == year - 1) & (df2.pitcher == pitcher)]['forate'].values\n",
        "    gorate_prev = df2[(df2.y == year - 1) & (df2.pitcher == pitcher)]['gorate'].values    \n",
        "\n",
        "\n",
        "    try:\n",
        "      df2.loc[i, 'bbrate_prev'] = bbrate_prev\n",
        "      df2.loc[i, 'krate_prev'] = krate_prev\n",
        "      df2.loc[i, 'hrrate_prev'] = hrrate_prev\n",
        "      df2.loc[i, 'hrate_prev'] = hrate_prev\n",
        "\n",
        "      df2.loc[i, 'lorate_prev'] = lorate_prev\n",
        "      df2.loc[i, 'porate_prev'] = porate_prev\n",
        "      df2.loc[i, 'forate_prev'] = forate_prev\n",
        "      df2.loc[i, 'gorate_prev'] = gorate_prev\n",
        "    except:\n",
        "      continue\n",
        "  \n",
        "  bfs[pitcher] = bf\n",
        "\n"
      ],
      "execution_count": 10,
      "outputs": []
    },
    {
      "cell_type": "code",
      "metadata": {
        "id": "op5qiFPudCZe"
      },
      "source": [
        "def forward_selected(data, response):\n",
        "    \"\"\"Linear model designed by forward selection.\n",
        "\n",
        "    Parameters:\n",
        "    -----------\n",
        "    data : pandas DataFrame with all possible predictors and response\n",
        "\n",
        "    response: string, name of response column in data\n",
        "\n",
        "    Returns:\n",
        "    --------\n",
        "    model: an \"optimal\" fitted statsmodels linear model\n",
        "           with an intercept\n",
        "           selected by forward selection\n",
        "           evaluated by adjusted R-squared\n",
        "    \"\"\"\n",
        "    remaining = set(data.iloc[:, -8:].columns)\n",
        "    \n",
        "    selected = []\n",
        "    currScore, maxScore = 0.0, 0.0\n",
        "    while remaining and currScore == maxScore:\n",
        "        scores_with_cols = []\n",
        "        for col in remaining:\n",
        "            formula = \"{} ~ {} + 1\".format(response,\n",
        "                                           ' + '.join(selected + [col]))\n",
        "            score = smf.ols(formula, data).fit().rsquared_adj\n",
        "            scores_with_cols.append((score, col))\n",
        "        scores_with_cols.sort()\n",
        "        maxScore, best_col = scores_with_cols.pop()\n",
        "        if currScore < maxScore:\n",
        "            remaining.remove(best_col)\n",
        "            selected.append(best_col)\n",
        "            currScore = maxScore\n",
        "    formula = \"{} ~ {} + 1\".format(response,\n",
        "                                   ' + '.join(selected))\n",
        "    \n",
        "    model = smf.ols(formula, data).fit()\n",
        "    \n",
        "    return selected, model"
      ],
      "execution_count": 12,
      "outputs": []
    },
    {
      "cell_type": "markdown",
      "metadata": {
        "id": "iQhweoDUTEkx"
      },
      "source": [
        "# 3a."
      ]
    },
    {
      "cell_type": "code",
      "metadata": {
        "colab": {
          "base_uri": "https://localhost:8080/"
        },
        "id": "YV87CighlPBf",
        "outputId": "3b420e18-d5db-45bb-8a12-bd5f59de9e1c"
      },
      "source": [
        "df_3a = df2.dropna()\n",
        "result = smf.ols('bbrate ~ bbrate_prev', data=df_3a).fit()\n",
        "print(result.summary())\n",
        "print('R-squared:', result.rsquared_adj)"
      ],
      "execution_count": 13,
      "outputs": [
        {
          "output_type": "stream",
          "text": [
            "                            OLS Regression Results                            \n",
            "==============================================================================\n",
            "Dep. Variable:                 bbrate   R-squared:                       0.286\n",
            "Model:                            OLS   Adj. R-squared:                  0.285\n",
            "Method:                 Least Squares   F-statistic:                     475.1\n",
            "Date:                Thu, 01 Apr 2021   Prob (F-statistic):           7.22e-89\n",
            "Time:                        16:04:57   Log-Likelihood:                 3034.6\n",
            "No. Observations:                1189   AIC:                            -6065.\n",
            "Df Residuals:                    1187   BIC:                            -6055.\n",
            "Df Model:                           1                                         \n",
            "Covariance Type:            nonrobust                                         \n",
            "===============================================================================\n",
            "                  coef    std err          t      P>|t|      [0.025      0.975]\n",
            "-------------------------------------------------------------------------------\n",
            "Intercept       0.0335      0.002     17.934      0.000       0.030       0.037\n",
            "bbrate_prev     0.5474      0.025     21.797      0.000       0.498       0.597\n",
            "==============================================================================\n",
            "Omnibus:                       39.471   Durbin-Watson:                   2.069\n",
            "Prob(Omnibus):                  0.000   Jarque-Bera (JB):               47.781\n",
            "Skew:                           0.379   Prob(JB):                     4.21e-11\n",
            "Kurtosis:                       3.624   Cond. No.                         46.1\n",
            "==============================================================================\n",
            "\n",
            "Warnings:\n",
            "[1] Standard Errors assume that the covariance matrix of the errors is correctly specified.\n",
            "R-squared: 0.285252237939405\n"
          ],
          "name": "stdout"
        }
      ]
    },
    {
      "cell_type": "code",
      "metadata": {
        "colab": {
          "base_uri": "https://localhost:8080/"
        },
        "id": "th2gUM1AexSd",
        "outputId": "02305c59-a964-4c86-cb1d-d7016e3affd1"
      },
      "source": [
        "cols, result = forward_selected(df2, 'bbrate')\n",
        "print('Selected Columns:', cols)\n",
        "print(result.summary())\n",
        "print('R-squared:', result.rsquared_adj)"
      ],
      "execution_count": 14,
      "outputs": [
        {
          "output_type": "stream",
          "text": [
            "Selected Columns: ['bbrate_prev', 'krate_prev', 'forate_prev', 'hrrate_prev', 'porate_prev']\n",
            "                            OLS Regression Results                            \n",
            "==============================================================================\n",
            "Dep. Variable:                 bbrate   R-squared:                       0.299\n",
            "Model:                            OLS   Adj. R-squared:                  0.296\n",
            "Method:                 Least Squares   F-statistic:                     100.7\n",
            "Date:                Thu, 01 Apr 2021   Prob (F-statistic):           1.45e-88\n",
            "Time:                        16:04:57   Log-Likelihood:                 3045.3\n",
            "No. Observations:                1189   AIC:                            -6079.\n",
            "Df Residuals:                    1183   BIC:                            -6048.\n",
            "Df Model:                           5                                         \n",
            "Covariance Type:            nonrobust                                         \n",
            "===============================================================================\n",
            "                  coef    std err          t      P>|t|      [0.025      0.975]\n",
            "-------------------------------------------------------------------------------\n",
            "Intercept       0.0304      0.003      9.313      0.000       0.024       0.037\n",
            "bbrate_prev     0.5272      0.025     20.705      0.000       0.477       0.577\n",
            "krate_prev      0.0357      0.009      3.945      0.000       0.018       0.053\n",
            "forate_prev    -0.0277      0.015     -1.841      0.066      -0.057       0.002\n",
            "hrrate_prev     0.0879      0.044      1.980      0.048       0.001       0.175\n",
            "porate_prev    -0.0262      0.024     -1.082      0.280      -0.074       0.021\n",
            "==============================================================================\n",
            "Omnibus:                       25.653   Durbin-Watson:                   2.047\n",
            "Prob(Omnibus):                  0.000   Jarque-Bera (JB):               28.861\n",
            "Skew:                           0.306   Prob(JB):                     5.41e-07\n",
            "Kurtosis:                       3.455   Cond. No.                         86.3\n",
            "==============================================================================\n",
            "\n",
            "Warnings:\n",
            "[1] Standard Errors assume that the covariance matrix of the errors is correctly specified.\n",
            "R-squared: 0.2955772676019377\n"
          ],
          "name": "stdout"
        }
      ]
    },
    {
      "cell_type": "markdown",
      "metadata": {
        "id": "oS3NcWkNTGuc"
      },
      "source": [
        "# 3b."
      ]
    },
    {
      "cell_type": "code",
      "metadata": {
        "colab": {
          "base_uri": "https://localhost:8080/"
        },
        "id": "5wih0mxEmdnk",
        "outputId": "23494c62-3fe0-4e33-9244-d720bf8f3c32"
      },
      "source": [
        "df_3b = df2[['krate', 'krate_prev']].dropna()\n",
        "result = smf.ols('krate ~ krate_prev', data=df_3b).fit()\n",
        "print(result.summary())\n",
        "print('R-squared:', result.rsquared_adj)"
      ],
      "execution_count": 15,
      "outputs": [
        {
          "output_type": "stream",
          "text": [
            "                            OLS Regression Results                            \n",
            "==============================================================================\n",
            "Dep. Variable:                  krate   R-squared:                       0.558\n",
            "Model:                            OLS   Adj. R-squared:                  0.558\n",
            "Method:                 Least Squares   F-statistic:                     1498.\n",
            "Date:                Thu, 01 Apr 2021   Prob (F-statistic):          1.19e-212\n",
            "Time:                        16:04:57   Log-Likelihood:                 2072.4\n",
            "No. Observations:                1189   AIC:                            -4141.\n",
            "Df Residuals:                    1187   BIC:                            -4131.\n",
            "Df Model:                           1                                         \n",
            "Covariance Type:            nonrobust                                         \n",
            "==============================================================================\n",
            "                 coef    std err          t      P>|t|      [0.025      0.975]\n",
            "------------------------------------------------------------------------------\n",
            "Intercept      0.0583      0.005     12.505      0.000       0.049       0.067\n",
            "krate_prev     0.7474      0.019     38.707      0.000       0.710       0.785\n",
            "==============================================================================\n",
            "Omnibus:                       87.997   Durbin-Watson:                   2.150\n",
            "Prob(Omnibus):                  0.000   Jarque-Bera (JB):              127.110\n",
            "Skew:                           0.591   Prob(JB):                     2.50e-28\n",
            "Kurtosis:                       4.081   Cond. No.                         16.6\n",
            "==============================================================================\n",
            "\n",
            "Warnings:\n",
            "[1] Standard Errors assume that the covariance matrix of the errors is correctly specified.\n",
            "R-squared: 0.5575853320049655\n"
          ],
          "name": "stdout"
        }
      ]
    },
    {
      "cell_type": "code",
      "metadata": {
        "colab": {
          "base_uri": "https://localhost:8080/"
        },
        "id": "cUxDcxgxf1tl",
        "outputId": "add37fb2-344a-43b7-d114-130bb8976033"
      },
      "source": [
        "cols, result = forward_selected(df2, 'krate')\n",
        "print('Selected Columns:', cols)\n",
        "print(result.summary())\n",
        "print('R-squared:', result.rsquared_adj)"
      ],
      "execution_count": 16,
      "outputs": [
        {
          "output_type": "stream",
          "text": [
            "Selected Columns: ['krate_prev', 'lorate_prev', 'bbrate_prev', 'porate_prev', 'forate_prev', 'hrate_prev']\n",
            "                            OLS Regression Results                            \n",
            "==============================================================================\n",
            "Dep. Variable:                  krate   R-squared:                       0.563\n",
            "Model:                            OLS   Adj. R-squared:                  0.560\n",
            "Method:                 Least Squares   F-statistic:                     253.4\n",
            "Date:                Thu, 01 Apr 2021   Prob (F-statistic):          3.33e-208\n",
            "Time:                        16:04:58   Log-Likelihood:                 2078.7\n",
            "No. Observations:                1189   AIC:                            -4143.\n",
            "Df Residuals:                    1182   BIC:                            -4108.\n",
            "Df Model:                           6                                         \n",
            "Covariance Type:            nonrobust                                         \n",
            "===============================================================================\n",
            "                  coef    std err          t      P>|t|      [0.025      0.975]\n",
            "-------------------------------------------------------------------------------\n",
            "Intercept       0.0330      0.017      1.965      0.050    4.27e-05       0.066\n",
            "krate_prev      0.7344      0.020     35.976      0.000       0.694       0.774\n",
            "lorate_prev     0.1037      0.055      1.880      0.060      -0.004       0.212\n",
            "bbrate_prev     0.0781      0.057      1.359      0.174      -0.035       0.191\n",
            "porate_prev     0.1234      0.055      2.254      0.024       0.016       0.231\n",
            "forate_prev    -0.0484      0.034     -1.414      0.158      -0.115       0.019\n",
            "hrate_prev      0.0528      0.042      1.245      0.213      -0.030       0.136\n",
            "==============================================================================\n",
            "Omnibus:                       79.232   Durbin-Watson:                   2.147\n",
            "Prob(Omnibus):                  0.000   Jarque-Bera (JB):              109.937\n",
            "Skew:                           0.561   Prob(JB):                     1.34e-24\n",
            "Kurtosis:                       3.980   Cond. No.                         54.5\n",
            "==============================================================================\n",
            "\n",
            "Warnings:\n",
            "[1] Standard Errors assume that the covariance matrix of the errors is correctly specified.\n",
            "R-squared: 0.5603493863624529\n"
          ],
          "name": "stdout"
        }
      ]
    },
    {
      "cell_type": "markdown",
      "metadata": {
        "id": "_GfiqG_ITJFg"
      },
      "source": [
        "# 3c."
      ]
    },
    {
      "cell_type": "code",
      "metadata": {
        "colab": {
          "base_uri": "https://localhost:8080/"
        },
        "id": "SsU8VPNwmd_O",
        "outputId": "f53e8b19-1a1c-4227-be89-e377caf20fbe"
      },
      "source": [
        "df_3c = df2[['hrrate', 'hrrate_prev']].dropna()\n",
        "result = smf.ols('hrrate ~ hrrate_prev', data=df_3c).fit()\n",
        "print(result.summary())\n",
        "print('R-squared:', result.rsquared_adj)"
      ],
      "execution_count": 17,
      "outputs": [
        {
          "output_type": "stream",
          "text": [
            "                            OLS Regression Results                            \n",
            "==============================================================================\n",
            "Dep. Variable:                 hrrate   R-squared:                       0.069\n",
            "Model:                            OLS   Adj. R-squared:                  0.068\n",
            "Method:                 Least Squares   F-statistic:                     87.85\n",
            "Date:                Thu, 01 Apr 2021   Prob (F-statistic):           3.44e-20\n",
            "Time:                        16:04:58   Log-Likelihood:                 3367.6\n",
            "No. Observations:                1189   AIC:                            -6731.\n",
            "Df Residuals:                    1187   BIC:                            -6721.\n",
            "Df Model:                           1                                         \n",
            "Covariance Type:            nonrobust                                         \n",
            "===============================================================================\n",
            "                  coef    std err          t      P>|t|      [0.025      0.975]\n",
            "-------------------------------------------------------------------------------\n",
            "Intercept       0.0273      0.001     23.285      0.000       0.025       0.030\n",
            "hrrate_prev     0.2954      0.032      9.373      0.000       0.234       0.357\n",
            "==============================================================================\n",
            "Omnibus:                       34.410   Durbin-Watson:                   1.995\n",
            "Prob(Omnibus):                  0.000   Jarque-Bera (JB):               38.262\n",
            "Skew:                           0.381   Prob(JB):                     4.91e-09\n",
            "Kurtosis:                       3.439   Cond. No.                         76.3\n",
            "==============================================================================\n",
            "\n",
            "Warnings:\n",
            "[1] Standard Errors assume that the covariance matrix of the errors is correctly specified.\n",
            "R-squared: 0.06812695867399121\n"
          ],
          "name": "stdout"
        }
      ]
    },
    {
      "cell_type": "code",
      "metadata": {
        "colab": {
          "base_uri": "https://localhost:8080/"
        },
        "id": "8nvIcSDjf5Wn",
        "outputId": "b9115e2e-7673-447c-c036-9a1cefdeaf60"
      },
      "source": [
        "cols, result = forward_selected(df2, 'hrrate')\n",
        "print('Selected Columns:', cols)\n",
        "print(result.summary())\n",
        "print('R-squared:', result.rsquared_adj)"
      ],
      "execution_count": 18,
      "outputs": [
        {
          "output_type": "stream",
          "text": [
            "Selected Columns: ['gorate_prev', 'hrrate_prev', 'lorate_prev', 'krate_prev', 'porate_prev']\n",
            "                            OLS Regression Results                            \n",
            "==============================================================================\n",
            "Dep. Variable:                 hrrate   R-squared:                       0.150\n",
            "Model:                            OLS   Adj. R-squared:                  0.146\n",
            "Method:                 Least Squares   F-statistic:                     41.75\n",
            "Date:                Thu, 01 Apr 2021   Prob (F-statistic):           1.15e-39\n",
            "Time:                        16:04:58   Log-Likelihood:                 3421.8\n",
            "No. Observations:                1189   AIC:                            -6832.\n",
            "Df Residuals:                    1183   BIC:                            -6801.\n",
            "Df Model:                           5                                         \n",
            "Covariance Type:            nonrobust                                         \n",
            "===============================================================================\n",
            "                  coef    std err          t      P>|t|      [0.025      0.975]\n",
            "-------------------------------------------------------------------------------\n",
            "Intercept       0.0409      0.005      7.610      0.000       0.030       0.051\n",
            "gorate_prev    -0.0464      0.010     -4.745      0.000      -0.066      -0.027\n",
            "hrrate_prev     0.1850      0.032      5.716      0.000       0.122       0.249\n",
            "lorate_prev     0.1003      0.018      5.582      0.000       0.065       0.135\n",
            "krate_prev     -0.0155      0.006     -2.395      0.017      -0.028      -0.003\n",
            "porate_prev     0.0272      0.021      1.300      0.194      -0.014       0.068\n",
            "==============================================================================\n",
            "Omnibus:                       30.262   Durbin-Watson:                   1.979\n",
            "Prob(Omnibus):                  0.000   Jarque-Bera (JB):               33.872\n",
            "Skew:                           0.345   Prob(JB):                     4.41e-08\n",
            "Kurtosis:                       3.455   Cond. No.                         89.4\n",
            "==============================================================================\n",
            "\n",
            "Warnings:\n",
            "[1] Standard Errors assume that the covariance matrix of the errors is correctly specified.\n",
            "R-squared: 0.14639007307299245\n"
          ],
          "name": "stdout"
        }
      ]
    },
    {
      "cell_type": "markdown",
      "metadata": {
        "id": "a0z9QWw_TKlU"
      },
      "source": [
        "# 3d."
      ]
    },
    {
      "cell_type": "code",
      "metadata": {
        "colab": {
          "base_uri": "https://localhost:8080/"
        },
        "id": "RR-N3B2FmeXA",
        "outputId": "140eb2a2-eceb-4165-ed22-e142105db4d1"
      },
      "source": [
        "df_3d = df2.dropna()\n",
        "result = smf.ols('hrate ~ hrate_prev', data=df_3d).fit()\n",
        "print(result.summary())\n",
        "print('R-squared:', result.rsquared_adj)"
      ],
      "execution_count": 19,
      "outputs": [
        {
          "output_type": "stream",
          "text": [
            "                            OLS Regression Results                            \n",
            "==============================================================================\n",
            "Dep. Variable:                  hrate   R-squared:                       0.029\n",
            "Model:                            OLS   Adj. R-squared:                  0.028\n",
            "Method:                 Least Squares   F-statistic:                     35.55\n",
            "Date:                Thu, 01 Apr 2021   Prob (F-statistic):           3.27e-09\n",
            "Time:                        16:04:58   Log-Likelihood:                 2449.4\n",
            "No. Observations:                1189   AIC:                            -4895.\n",
            "Df Residuals:                    1187   BIC:                            -4885.\n",
            "Df Model:                           1                                         \n",
            "Covariance Type:            nonrobust                                         \n",
            "==============================================================================\n",
            "                 coef    std err          t      P>|t|      [0.025      0.975]\n",
            "------------------------------------------------------------------------------\n",
            "Intercept      0.2404      0.008     28.946      0.000       0.224       0.257\n",
            "hrate_prev     0.1720      0.029      5.963      0.000       0.115       0.229\n",
            "==============================================================================\n",
            "Omnibus:                       12.209   Durbin-Watson:                   1.967\n",
            "Prob(Omnibus):                  0.002   Jarque-Bera (JB):               18.016\n",
            "Skew:                          -0.061   Prob(JB):                     0.000122\n",
            "Kurtosis:                       3.591   Cond. No.                         34.9\n",
            "==============================================================================\n",
            "\n",
            "Warnings:\n",
            "[1] Standard Errors assume that the covariance matrix of the errors is correctly specified.\n",
            "R-squared: 0.028261884215130206\n"
          ],
          "name": "stdout"
        }
      ]
    },
    {
      "cell_type": "code",
      "metadata": {
        "colab": {
          "base_uri": "https://localhost:8080/"
        },
        "id": "a2ovFZPhf9_k",
        "outputId": "99449432-fc89-4a37-bb33-75887f5f0d4e"
      },
      "source": [
        "cols, result = forward_selected(df2, 'hrate')\n",
        "print('Selected Columns:', cols)\n",
        "print(result.summary())\n",
        "print('R-squared:', result.rsquared_adj)"
      ],
      "execution_count": 20,
      "outputs": [
        {
          "output_type": "stream",
          "text": [
            "Selected Columns: ['porate_prev', 'krate_prev', 'hrate_prev', 'gorate_prev', 'bbrate_prev']\n",
            "                            OLS Regression Results                            \n",
            "==============================================================================\n",
            "Dep. Variable:                  hrate   R-squared:                       0.071\n",
            "Model:                            OLS   Adj. R-squared:                  0.067\n",
            "Method:                 Least Squares   F-statistic:                     18.07\n",
            "Date:                Thu, 01 Apr 2021   Prob (F-statistic):           2.66e-17\n",
            "Time:                        16:04:59   Log-Likelihood:                 2475.6\n",
            "No. Observations:                1189   AIC:                            -4939.\n",
            "Df Residuals:                    1183   BIC:                            -4909.\n",
            "Df Model:                           5                                         \n",
            "Covariance Type:            nonrobust                                         \n",
            "===============================================================================\n",
            "                  coef    std err          t      P>|t|      [0.025      0.975]\n",
            "-------------------------------------------------------------------------------\n",
            "Intercept       0.3024      0.018     16.585      0.000       0.267       0.338\n",
            "porate_prev    -0.2068      0.052     -3.948      0.000      -0.310      -0.104\n",
            "krate_prev     -0.0675      0.015     -4.620      0.000      -0.096      -0.039\n",
            "hrate_prev      0.0901      0.033      2.723      0.007       0.025       0.155\n",
            "gorate_prev    -0.0361      0.023     -1.570      0.117      -0.081       0.009\n",
            "bbrate_prev     0.0534      0.041      1.299      0.194      -0.027       0.134\n",
            "==============================================================================\n",
            "Omnibus:                       12.566   Durbin-Watson:                   1.988\n",
            "Prob(Omnibus):                  0.002   Jarque-Bera (JB):               19.377\n",
            "Skew:                           0.023   Prob(JB):                     6.20e-05\n",
            "Kurtosis:                       3.624   Cond. No.                         78.1\n",
            "==============================================================================\n",
            "\n",
            "Warnings:\n",
            "[1] Standard Errors assume that the covariance matrix of the errors is correctly specified.\n",
            "R-squared: 0.06701003857330046\n"
          ],
          "name": "stdout"
        }
      ]
    }
  ]
}