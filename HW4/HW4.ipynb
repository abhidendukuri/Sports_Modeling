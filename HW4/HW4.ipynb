{
  "nbformat": 4,
  "nbformat_minor": 0,
  "metadata": {
    "colab": {
      "name": "HW4.ipynb",
      "provenance": [],
      "collapsed_sections": [
        "h4rwb7g-lxV4",
        "lvFCD6ih-iZS",
        "zHZ7Om8PnX85"
      ],
      "toc_visible": true,
      "authorship_tag": "ABX9TyPnNDZRawC+/Bu3hyzgqBW6"
    },
    "kernelspec": {
      "name": "python3",
      "display_name": "Python 3"
    }
  },
  "cells": [
    {
      "cell_type": "code",
      "metadata": {
        "id": "1IrB2QEMHytx",
        "colab": {
          "base_uri": "https://localhost:8080/"
        },
        "outputId": "9216ffea-b398-4964-b773-a0c668a3296a"
      },
      "source": [
        "import numpy as np\n",
        "import pandas as pd\n",
        "import statsmodels.api as sm\n",
        "import statsmodels.formula.api as smf\n",
        "from sklearn.metrics import brier_score_loss\n",
        "from scipy.special import logit, expit\n",
        "from tqdm import tqdm\n",
        "import itertools\n"
      ],
      "execution_count": 1,
      "outputs": [
        {
          "output_type": "stream",
          "text": [
            "/usr/local/lib/python3.7/dist-packages/statsmodels/tools/_testing.py:19: FutureWarning: pandas.util.testing is deprecated. Use the functions in the public API at pandas.testing instead.\n",
            "  import pandas.util.testing as tm\n"
          ],
          "name": "stderr"
        }
      ]
    },
    {
      "cell_type": "code",
      "metadata": {
        "id": "1ioEXbtjQdah",
        "colab": {
          "base_uri": "https://localhost:8080/",
          "height": 326
        },
        "outputId": "9dada4e2-0f12-4283-f153-07fa2bc65ff7"
      },
      "source": [
        "df = pd.read_csv('hw4.csv', parse_dates = ['Date'])\n",
        "df = df.sort_values('GameID')\n",
        "df_prior = pd.read_csv('hw4_prior.csv')\n",
        "df.head()"
      ],
      "execution_count": 2,
      "outputs": [
        {
          "output_type": "execute_result",
          "data": {
            "text/html": [
              "<div>\n",
              "<style scoped>\n",
              "    .dataframe tbody tr th:only-of-type {\n",
              "        vertical-align: middle;\n",
              "    }\n",
              "\n",
              "    .dataframe tbody tr th {\n",
              "        vertical-align: top;\n",
              "    }\n",
              "\n",
              "    .dataframe thead th {\n",
              "        text-align: right;\n",
              "    }\n",
              "</style>\n",
              "<table border=\"1\" class=\"dataframe\">\n",
              "  <thead>\n",
              "    <tr style=\"text-align: right;\">\n",
              "      <th></th>\n",
              "      <th>Div</th>\n",
              "      <th>Date</th>\n",
              "      <th>Y</th>\n",
              "      <th>Team_Home</th>\n",
              "      <th>Team_Away</th>\n",
              "      <th>G_Home</th>\n",
              "      <th>G_Away</th>\n",
              "      <th>S_Home</th>\n",
              "      <th>S_Away</th>\n",
              "      <th>pH</th>\n",
              "      <th>pD</th>\n",
              "      <th>pA</th>\n",
              "      <th>xG_Home</th>\n",
              "      <th>xG_Away</th>\n",
              "      <th>GameID</th>\n",
              "      <th>GD_Home</th>\n",
              "      <th>GD_Away</th>\n",
              "      <th>SD_Home</th>\n",
              "      <th>SD_Away</th>\n",
              "      <th>xGD_Home</th>\n",
              "      <th>xGD_Away</th>\n",
              "    </tr>\n",
              "  </thead>\n",
              "  <tbody>\n",
              "    <tr>\n",
              "      <th>0</th>\n",
              "      <td>Ligue_1</td>\n",
              "      <td>2014-08-08</td>\n",
              "      <td>14</td>\n",
              "      <td>Reims</td>\n",
              "      <td>Paris SG</td>\n",
              "      <td>2</td>\n",
              "      <td>2</td>\n",
              "      <td>9</td>\n",
              "      <td>16</td>\n",
              "      <td>0.089841</td>\n",
              "      <td>0.196675</td>\n",
              "      <td>0.713484</td>\n",
              "      <td>1.367870</td>\n",
              "      <td>2.655380</td>\n",
              "      <td>0</td>\n",
              "      <td>0</td>\n",
              "      <td>0</td>\n",
              "      <td>-7</td>\n",
              "      <td>7</td>\n",
              "      <td>-1.287510</td>\n",
              "      <td>1.287510</td>\n",
              "    </tr>\n",
              "    <tr>\n",
              "      <th>1</th>\n",
              "      <td>Ligue_1</td>\n",
              "      <td>2014-08-09</td>\n",
              "      <td>14</td>\n",
              "      <td>Montpellier</td>\n",
              "      <td>Bordeaux</td>\n",
              "      <td>0</td>\n",
              "      <td>1</td>\n",
              "      <td>15</td>\n",
              "      <td>7</td>\n",
              "      <td>0.386037</td>\n",
              "      <td>0.317102</td>\n",
              "      <td>0.296861</td>\n",
              "      <td>1.017560</td>\n",
              "      <td>0.750184</td>\n",
              "      <td>1</td>\n",
              "      <td>-1</td>\n",
              "      <td>1</td>\n",
              "      <td>8</td>\n",
              "      <td>-8</td>\n",
              "      <td>0.267376</td>\n",
              "      <td>-0.267376</td>\n",
              "    </tr>\n",
              "    <tr>\n",
              "      <th>2</th>\n",
              "      <td>Ligue_1</td>\n",
              "      <td>2014-08-09</td>\n",
              "      <td>14</td>\n",
              "      <td>Lille</td>\n",
              "      <td>Metz</td>\n",
              "      <td>0</td>\n",
              "      <td>0</td>\n",
              "      <td>14</td>\n",
              "      <td>2</td>\n",
              "      <td>0.636756</td>\n",
              "      <td>0.235893</td>\n",
              "      <td>0.127351</td>\n",
              "      <td>1.544680</td>\n",
              "      <td>0.057137</td>\n",
              "      <td>2</td>\n",
              "      <td>0</td>\n",
              "      <td>0</td>\n",
              "      <td>12</td>\n",
              "      <td>-12</td>\n",
              "      <td>1.487543</td>\n",
              "      <td>-1.487543</td>\n",
              "    </tr>\n",
              "    <tr>\n",
              "      <th>3</th>\n",
              "      <td>Ligue_1</td>\n",
              "      <td>2014-08-09</td>\n",
              "      <td>14</td>\n",
              "      <td>Guingamp</td>\n",
              "      <td>St Etienne</td>\n",
              "      <td>0</td>\n",
              "      <td>2</td>\n",
              "      <td>6</td>\n",
              "      <td>7</td>\n",
              "      <td>0.282701</td>\n",
              "      <td>0.312602</td>\n",
              "      <td>0.404697</td>\n",
              "      <td>0.632940</td>\n",
              "      <td>1.495320</td>\n",
              "      <td>3</td>\n",
              "      <td>-2</td>\n",
              "      <td>2</td>\n",
              "      <td>-1</td>\n",
              "      <td>1</td>\n",
              "      <td>-0.862380</td>\n",
              "      <td>0.862380</td>\n",
              "    </tr>\n",
              "    <tr>\n",
              "      <th>4</th>\n",
              "      <td>Ligue_1</td>\n",
              "      <td>2014-08-09</td>\n",
              "      <td>14</td>\n",
              "      <td>Evian Thonon Gaillard</td>\n",
              "      <td>Caen</td>\n",
              "      <td>0</td>\n",
              "      <td>3</td>\n",
              "      <td>10</td>\n",
              "      <td>12</td>\n",
              "      <td>0.399734</td>\n",
              "      <td>0.297363</td>\n",
              "      <td>0.302904</td>\n",
              "      <td>0.813737</td>\n",
              "      <td>1.238690</td>\n",
              "      <td>4</td>\n",
              "      <td>-3</td>\n",
              "      <td>3</td>\n",
              "      <td>-2</td>\n",
              "      <td>2</td>\n",
              "      <td>-0.424953</td>\n",
              "      <td>0.424953</td>\n",
              "    </tr>\n",
              "  </tbody>\n",
              "</table>\n",
              "</div>"
            ],
            "text/plain": [
              "       Div       Date   Y  ... SD_Away  xGD_Home  xGD_Away\n",
              "0  Ligue_1 2014-08-08  14  ...       7 -1.287510  1.287510\n",
              "1  Ligue_1 2014-08-09  14  ...      -8  0.267376 -0.267376\n",
              "2  Ligue_1 2014-08-09  14  ...     -12  1.487543 -1.487543\n",
              "3  Ligue_1 2014-08-09  14  ...       1 -0.862380  0.862380\n",
              "4  Ligue_1 2014-08-09  14  ...       2 -0.424953  0.424953\n",
              "\n",
              "[5 rows x 21 columns]"
            ]
          },
          "metadata": {
            "tags": []
          },
          "execution_count": 2
        }
      ]
    },
    {
      "cell_type": "markdown",
      "metadata": {
        "id": "h4rwb7g-lxV4"
      },
      "source": [
        "# 1b."
      ]
    },
    {
      "cell_type": "code",
      "metadata": {
        "colab": {
          "base_uri": "https://localhost:8080/",
          "height": 269
        },
        "id": "ZvF5KVvclwlQ",
        "outputId": "8d917a84-d790-4dc5-9056-bf5fb3891491"
      },
      "source": [
        "result = smf.glm('GD_Home ~ I(logit(pH) - logit(pA)) - 1', data=df[df.Y < 18]).fit()\n",
        "result.summary()"
      ],
      "execution_count": 3,
      "outputs": [
        {
          "output_type": "execute_result",
          "data": {
            "text/html": [
              "<table class=\"simpletable\">\n",
              "<caption>Generalized Linear Model Regression Results</caption>\n",
              "<tr>\n",
              "  <th>Dep. Variable:</th>        <td>GD_Home</td>     <th>  No. Observations:  </th>  <td>  7304</td> \n",
              "</tr>\n",
              "<tr>\n",
              "  <th>Model:</th>                  <td>GLM</td>       <th>  Df Residuals:      </th>  <td>  7303</td> \n",
              "</tr>\n",
              "<tr>\n",
              "  <th>Model Family:</th>        <td>Gaussian</td>     <th>  Df Model:          </th>  <td>     0</td> \n",
              "</tr>\n",
              "<tr>\n",
              "  <th>Link Function:</th>       <td>identity</td>     <th>  Scale:             </th> <td>  2.5139</td>\n",
              "</tr>\n",
              "<tr>\n",
              "  <th>Method:</th>                <td>IRLS</td>       <th>  Log-Likelihood:    </th> <td> -13730.</td>\n",
              "</tr>\n",
              "<tr>\n",
              "  <th>Date:</th>            <td>Wed, 10 Mar 2021</td> <th>  Deviance:          </th> <td>  18359.</td>\n",
              "</tr>\n",
              "<tr>\n",
              "  <th>Time:</th>                <td>22:11:02</td>     <th>  Pearson chi2:      </th> <td>1.84e+04</td>\n",
              "</tr>\n",
              "<tr>\n",
              "  <th>No. Iterations:</th>          <td>3</td>        <th>                     </th>     <td> </td>   \n",
              "</tr>\n",
              "<tr>\n",
              "  <th>Covariance Type:</th>     <td>nonrobust</td>    <th>                     </th>     <td> </td>   \n",
              "</tr>\n",
              "</table>\n",
              "<table class=\"simpletable\">\n",
              "<tr>\n",
              "              <td></td>                <th>coef</th>     <th>std err</th>      <th>z</th>      <th>P>|z|</th>  <th>[0.025</th>    <th>0.975]</th>  \n",
              "</tr>\n",
              "<tr>\n",
              "  <th>I(logit(pH) - logit(pA))</th> <td>    0.4897</td> <td>    0.009</td> <td>   53.405</td> <td> 0.000</td> <td>    0.472</td> <td>    0.508</td>\n",
              "</tr>\n",
              "</table>"
            ],
            "text/plain": [
              "<class 'statsmodels.iolib.summary.Summary'>\n",
              "\"\"\"\n",
              "                 Generalized Linear Model Regression Results                  \n",
              "==============================================================================\n",
              "Dep. Variable:                GD_Home   No. Observations:                 7304\n",
              "Model:                            GLM   Df Residuals:                     7303\n",
              "Model Family:                Gaussian   Df Model:                            0\n",
              "Link Function:               identity   Scale:                          2.5139\n",
              "Method:                          IRLS   Log-Likelihood:                -13730.\n",
              "Date:                Wed, 10 Mar 2021   Deviance:                       18359.\n",
              "Time:                        22:11:02   Pearson chi2:                 1.84e+04\n",
              "No. Iterations:                     3                                         \n",
              "Covariance Type:            nonrobust                                         \n",
              "============================================================================================\n",
              "                               coef    std err          z      P>|z|      [0.025      0.975]\n",
              "--------------------------------------------------------------------------------------------\n",
              "I(logit(pH) - logit(pA))     0.4897      0.009     53.405      0.000       0.472       0.508\n",
              "============================================================================================\n",
              "\"\"\""
            ]
          },
          "metadata": {
            "tags": []
          },
          "execution_count": 3
        }
      ]
    },
    {
      "cell_type": "markdown",
      "metadata": {
        "id": "QDJ2E9sFBuWW"
      },
      "source": [
        "## i."
      ]
    },
    {
      "cell_type": "code",
      "metadata": {
        "colab": {
          "base_uri": "https://localhost:8080/",
          "height": 269
        },
        "id": "RH4PR_8Qrp-P",
        "outputId": "667289cd-0d51-4914-ecee-92518089392a"
      },
      "source": [
        "result = smf.glm('GD_Home ~ SD_Home - 1', data=df[df.Y < 18]).fit()\n",
        "result.summary()"
      ],
      "execution_count": 4,
      "outputs": [
        {
          "output_type": "execute_result",
          "data": {
            "text/html": [
              "<table class=\"simpletable\">\n",
              "<caption>Generalized Linear Model Regression Results</caption>\n",
              "<tr>\n",
              "  <th>Dep. Variable:</th>        <td>GD_Home</td>     <th>  No. Observations:  </th>  <td>  7304</td> \n",
              "</tr>\n",
              "<tr>\n",
              "  <th>Model:</th>                  <td>GLM</td>       <th>  Df Residuals:      </th>  <td>  7303</td> \n",
              "</tr>\n",
              "<tr>\n",
              "  <th>Model Family:</th>        <td>Gaussian</td>     <th>  Df Model:          </th>  <td>     0</td> \n",
              "</tr>\n",
              "<tr>\n",
              "  <th>Link Function:</th>       <td>identity</td>     <th>  Scale:             </th> <td>  3.0262</td>\n",
              "</tr>\n",
              "<tr>\n",
              "  <th>Method:</th>                <td>IRLS</td>       <th>  Log-Likelihood:    </th> <td> -14407.</td>\n",
              "</tr>\n",
              "<tr>\n",
              "  <th>Date:</th>            <td>Wed, 10 Mar 2021</td> <th>  Deviance:          </th> <td>  22101.</td>\n",
              "</tr>\n",
              "<tr>\n",
              "  <th>Time:</th>                <td>22:11:02</td>     <th>  Pearson chi2:      </th> <td>2.21e+04</td>\n",
              "</tr>\n",
              "<tr>\n",
              "  <th>No. Iterations:</th>          <td>3</td>        <th>                     </th>     <td> </td>   \n",
              "</tr>\n",
              "<tr>\n",
              "  <th>Covariance Type:</th>     <td>nonrobust</td>    <th>                     </th>     <td> </td>   \n",
              "</tr>\n",
              "</table>\n",
              "<table class=\"simpletable\">\n",
              "<tr>\n",
              "     <td></td>        <th>coef</th>     <th>std err</th>      <th>z</th>      <th>P>|z|</th>  <th>[0.025</th>    <th>0.975]</th>  \n",
              "</tr>\n",
              "<tr>\n",
              "  <th>SD_Home</th> <td>    0.0819</td> <td>    0.002</td> <td>   33.659</td> <td> 0.000</td> <td>    0.077</td> <td>    0.087</td>\n",
              "</tr>\n",
              "</table>"
            ],
            "text/plain": [
              "<class 'statsmodels.iolib.summary.Summary'>\n",
              "\"\"\"\n",
              "                 Generalized Linear Model Regression Results                  \n",
              "==============================================================================\n",
              "Dep. Variable:                GD_Home   No. Observations:                 7304\n",
              "Model:                            GLM   Df Residuals:                     7303\n",
              "Model Family:                Gaussian   Df Model:                            0\n",
              "Link Function:               identity   Scale:                          3.0262\n",
              "Method:                          IRLS   Log-Likelihood:                -14407.\n",
              "Date:                Wed, 10 Mar 2021   Deviance:                       22101.\n",
              "Time:                        22:11:02   Pearson chi2:                 2.21e+04\n",
              "No. Iterations:                     3                                         \n",
              "Covariance Type:            nonrobust                                         \n",
              "==============================================================================\n",
              "                 coef    std err          z      P>|z|      [0.025      0.975]\n",
              "------------------------------------------------------------------------------\n",
              "SD_Home        0.0819      0.002     33.659      0.000       0.077       0.087\n",
              "==============================================================================\n",
              "\"\"\""
            ]
          },
          "metadata": {
            "tags": []
          },
          "execution_count": 4
        }
      ]
    },
    {
      "cell_type": "markdown",
      "metadata": {
        "id": "vzZfpX9oBvvA"
      },
      "source": [
        "## ii."
      ]
    },
    {
      "cell_type": "code",
      "metadata": {
        "colab": {
          "base_uri": "https://localhost:8080/",
          "height": 269
        },
        "id": "yZnVMky9rrc7",
        "outputId": "08336ef1-aa97-4a0a-963e-cf62145e8c58"
      },
      "source": [
        "result = smf.glm('GD_Home ~ xGD_Home - 1', data=df[df.Y < 18]).fit()\n",
        "result.summary()"
      ],
      "execution_count": 5,
      "outputs": [
        {
          "output_type": "execute_result",
          "data": {
            "text/html": [
              "<table class=\"simpletable\">\n",
              "<caption>Generalized Linear Model Regression Results</caption>\n",
              "<tr>\n",
              "  <th>Dep. Variable:</th>        <td>GD_Home</td>     <th>  No. Observations:  </th>  <td>  7304</td> \n",
              "</tr>\n",
              "<tr>\n",
              "  <th>Model:</th>                  <td>GLM</td>       <th>  Df Residuals:      </th>  <td>  7303</td> \n",
              "</tr>\n",
              "<tr>\n",
              "  <th>Model Family:</th>        <td>Gaussian</td>     <th>  Df Model:          </th>  <td>     0</td> \n",
              "</tr>\n",
              "<tr>\n",
              "  <th>Link Function:</th>       <td>identity</td>     <th>  Scale:             </th> <td>  1.7748</td>\n",
              "</tr>\n",
              "<tr>\n",
              "  <th>Method:</th>                <td>IRLS</td>       <th>  Log-Likelihood:    </th> <td> -12459.</td>\n",
              "</tr>\n",
              "<tr>\n",
              "  <th>Date:</th>            <td>Wed, 10 Mar 2021</td> <th>  Deviance:          </th> <td>  12962.</td>\n",
              "</tr>\n",
              "<tr>\n",
              "  <th>Time:</th>                <td>22:11:02</td>     <th>  Pearson chi2:      </th> <td>1.30e+04</td>\n",
              "</tr>\n",
              "<tr>\n",
              "  <th>No. Iterations:</th>          <td>3</td>        <th>                     </th>     <td> </td>   \n",
              "</tr>\n",
              "<tr>\n",
              "  <th>Covariance Type:</th>     <td>nonrobust</td>    <th>                     </th>     <td> </td>   \n",
              "</tr>\n",
              "</table>\n",
              "<table class=\"simpletable\">\n",
              "<tr>\n",
              "      <td></td>        <th>coef</th>     <th>std err</th>      <th>z</th>      <th>P>|z|</th>  <th>[0.025</th>    <th>0.975]</th>  \n",
              "</tr>\n",
              "<tr>\n",
              "  <th>xGD_Home</th> <td>    0.9938</td> <td>    0.012</td> <td>   84.147</td> <td> 0.000</td> <td>    0.971</td> <td>    1.017</td>\n",
              "</tr>\n",
              "</table>"
            ],
            "text/plain": [
              "<class 'statsmodels.iolib.summary.Summary'>\n",
              "\"\"\"\n",
              "                 Generalized Linear Model Regression Results                  \n",
              "==============================================================================\n",
              "Dep. Variable:                GD_Home   No. Observations:                 7304\n",
              "Model:                            GLM   Df Residuals:                     7303\n",
              "Model Family:                Gaussian   Df Model:                            0\n",
              "Link Function:               identity   Scale:                          1.7748\n",
              "Method:                          IRLS   Log-Likelihood:                -12459.\n",
              "Date:                Wed, 10 Mar 2021   Deviance:                       12962.\n",
              "Time:                        22:11:02   Pearson chi2:                 1.30e+04\n",
              "No. Iterations:                     3                                         \n",
              "Covariance Type:            nonrobust                                         \n",
              "==============================================================================\n",
              "                 coef    std err          z      P>|z|      [0.025      0.975]\n",
              "------------------------------------------------------------------------------\n",
              "xGD_Home       0.9938      0.012     84.147      0.000       0.971       1.017\n",
              "==============================================================================\n",
              "\"\"\""
            ]
          },
          "metadata": {
            "tags": []
          },
          "execution_count": 5
        }
      ]
    },
    {
      "cell_type": "markdown",
      "metadata": {
        "id": "Hxzvo2Q4u8nD"
      },
      "source": [
        "# 1c."
      ]
    },
    {
      "cell_type": "code",
      "metadata": {
        "id": "ekLHNsZQR2Jk"
      },
      "source": [
        "def dfl_calc(df, df_prior, ratings_dict, mkt_wt, goal_wt, SD_wt, xGD_wt, y_start = 15, y_end = 18, hfa_prior = 0.3739, lmp_to_goal = 0.489739, SD_to_goal = 0.0819, xGD_to_goal = 0.9938, team_prior_wt = 15, hfa_prior_wt = 500, wt_decay = 0.97):\n",
        "  for div in tqdm(sorted(df.Div.unique())) : #Process each division\n",
        "    for y in sorted(df.loc[df.Y.between(y_start, y_end)].Y.unique()) : #Process each year separately\n",
        "      df_dy = df.loc[(df.Y == y) & (df.Div == div)].copy()\n",
        "      n_games = len(df_dy)\n",
        "      teams = sorted(set(df_dy.Team_Home.unique()) | set(df_dy.Team_Away.unique())) #All teams\n",
        "      n_teams = len(teams)\n",
        "      team_map = {k:i for i,k in enumerate(teams)} #team -> index\n",
        "      \n",
        "      n_rows = 4*n_games + n_teams + 1 #n_teams team priors, 1 hfa prior, 2 rows per game\n",
        "      X = np.zeros((n_rows, n_teams + 1)) \n",
        "      Y = np.zeros(n_rows) \n",
        "      wgts = goal_wt*np.ones(n_rows) #by default, set all weights to goal_wt\n",
        "      \n",
        "      #Setup priors\n",
        "      X[:n_teams+1,:n_teams+1] = np.eye(n_teams+1) #rows for priors\n",
        "      df_prior_dy = df_prior.loc[(df_prior.Y == y) & (df_prior.Div == div)].copy()\n",
        "      #Setup team priors\n",
        "      wgts[:n_teams] = team_prior_wt\n",
        "      for i in range(len(df_prior_dy)):\n",
        "        team = df_prior_dy.Team.iloc[i]\n",
        "        prior = df_prior_dy.priorGD.iloc[i]\n",
        "        Y[team_map[team]] = prior\n",
        "      #Setup hfa prior\n",
        "      Y[n_teams] = hfa_prior\n",
        "      wgts[n_teams] = hfa_prior_wt\n",
        "      \n",
        "      #Game rows are an alternating pattern of goal differentials, and market prices\n",
        "      wgts[n_teams+2::4] = mkt_wt\n",
        "      wgts[n_teams+3::4] = SD_wt\n",
        "      wgts[n_teams+4::4] = xGD_wt\n",
        "      #Starting ratings are just priors\n",
        "      ratings = Y[:n_teams]\n",
        "\n",
        "      prev_date = None\n",
        "      ratings_home = np.empty(n_games)\n",
        "      ratings_away = np.empty(n_games)\n",
        "\n",
        "      #Process every game\n",
        "      for i in range(n_games) : #dataframe is sorted chronologically\n",
        "        curr_date = df_dy.Date.iloc[i]\n",
        "        #Refit on all strictly earlier games if first game of new date\n",
        "        if prev_date is not None and curr_date > prev_date :\n",
        "          rating_model = sm.WLS(Y, X, weights = wgts).fit()\n",
        "          ratings = rating_model.params[:n_teams]\n",
        "          ratings = ratings - np.mean(ratings) #Center ratings around 0            \n",
        "          #Decay weights of all games and priors using elapsed days\n",
        "          wgts[:n_teams+1+4*i] *= wt_decay**((curr_date-prev_date)/pd.Timedelta(1,unit='day'))\n",
        "        prev_date = curr_date\n",
        "        \n",
        "        home, away = df_dy.Team_Home.iloc[i], df_dy.Team_Away.iloc[i]\n",
        "        i_home, i_away = team_map[home], team_map[away]\n",
        "        ratings_home[i] = ratings[i_home]\n",
        "        ratings_away[i] = ratings[i_away]\n",
        "        \n",
        "        X[n_teams+1+4*i:n_teams+1+4*i+4] = 1.0*(np.arange(n_teams+1)==i_home)-1.0*(np.arange(n_teams+1)==i_away)\n",
        "        X[n_teams+1+4*i:n_teams+1+4*i+4, -1] = 1.0 #HFA\n",
        "        Y[n_teams+1+4*i] = df_dy.GD_Home.iloc[i] #Goal differential\n",
        "        Y[n_teams+1+4*i+1] = lmp_to_goal * (logit(df_dy.pH.iloc[i])-logit(df_dy.pA.iloc[i])) #market info\n",
        "        Y[n_teams+1+4*i+2] = SD_to_goal * (df_dy.SD_Home.iloc[i]) #SD info\n",
        "        Y[n_teams+1+4*i+3] = xGD_to_goal * (df_dy.xGD_Home.iloc[i]) #xGD info\n",
        "\n",
        "      if y == 17:\n",
        "        endDate = curr_date + pd.Timedelta(1, unit='day')\n",
        "        rating_model = sm.WLS(Y, X, weights=wgts).fit()\n",
        "        final_ratings = rating_model.params[:n_teams]\n",
        "        final_ratings -= np.mean(final_ratings)\n",
        "\n",
        "        for team in teams:\n",
        "          ratings_dict[team] = final_ratings[team_map[team]] \n",
        "\n",
        "      df_dy['R_Home'] = ratings_home\n",
        "      df_dy['R_Away'] = ratings_away\n",
        "      data.append(df_dy)\n",
        "  \n",
        "  df_ratings = pd.concat(data).sort_values('GameID')\n",
        "  return df_ratings"
      ],
      "execution_count": 6,
      "outputs": []
    },
    {
      "cell_type": "code",
      "metadata": {
        "id": "WP6QbW8gu-HI"
      },
      "source": [
        "mkt_wt = 10 #Weight of market prices\n",
        "goal_wt = 1 #Weight of goal differentials\n",
        "SD_wt = 1\n",
        "xGD_wt = 1"
      ],
      "execution_count": 7,
      "outputs": []
    },
    {
      "cell_type": "code",
      "metadata": {
        "colab": {
          "base_uri": "https://localhost:8080/",
          "height": 326
        },
        "id": "EPkfxwuxR9zM",
        "outputId": "12b702bf-2770-49de-85ff-450cf1a653dd"
      },
      "source": [
        "data = []\n",
        "ratings_dict = {}\n",
        "df_ratings = dfl_calc(df, df_prior, ratings_dict, mkt_wt, goal_wt, SD_wt, xGD_wt)\n",
        "df_ratings.head()"
      ],
      "execution_count": 8,
      "outputs": [
        {
          "output_type": "stream",
          "text": [
            "100%|██████████| 5/5 [00:12<00:00,  2.57s/it]\n"
          ],
          "name": "stderr"
        },
        {
          "output_type": "execute_result",
          "data": {
            "text/html": [
              "<div>\n",
              "<style scoped>\n",
              "    .dataframe tbody tr th:only-of-type {\n",
              "        vertical-align: middle;\n",
              "    }\n",
              "\n",
              "    .dataframe tbody tr th {\n",
              "        vertical-align: top;\n",
              "    }\n",
              "\n",
              "    .dataframe thead th {\n",
              "        text-align: right;\n",
              "    }\n",
              "</style>\n",
              "<table border=\"1\" class=\"dataframe\">\n",
              "  <thead>\n",
              "    <tr style=\"text-align: right;\">\n",
              "      <th></th>\n",
              "      <th>Div</th>\n",
              "      <th>Date</th>\n",
              "      <th>Y</th>\n",
              "      <th>Team_Home</th>\n",
              "      <th>Team_Away</th>\n",
              "      <th>G_Home</th>\n",
              "      <th>G_Away</th>\n",
              "      <th>S_Home</th>\n",
              "      <th>S_Away</th>\n",
              "      <th>pH</th>\n",
              "      <th>pD</th>\n",
              "      <th>pA</th>\n",
              "      <th>xG_Home</th>\n",
              "      <th>xG_Away</th>\n",
              "      <th>GameID</th>\n",
              "      <th>GD_Home</th>\n",
              "      <th>GD_Away</th>\n",
              "      <th>SD_Home</th>\n",
              "      <th>SD_Away</th>\n",
              "      <th>xGD_Home</th>\n",
              "      <th>xGD_Away</th>\n",
              "      <th>R_Home</th>\n",
              "      <th>R_Away</th>\n",
              "    </tr>\n",
              "  </thead>\n",
              "  <tbody>\n",
              "    <tr>\n",
              "      <th>1826</th>\n",
              "      <td>Ligue_1</td>\n",
              "      <td>2015-08-07</td>\n",
              "      <td>15</td>\n",
              "      <td>Lille</td>\n",
              "      <td>Paris SG</td>\n",
              "      <td>0</td>\n",
              "      <td>1</td>\n",
              "      <td>12</td>\n",
              "      <td>7</td>\n",
              "      <td>0.147474</td>\n",
              "      <td>0.259055</td>\n",
              "      <td>0.593471</td>\n",
              "      <td>0.914879</td>\n",
              "      <td>1.334570</td>\n",
              "      <td>1826</td>\n",
              "      <td>-1</td>\n",
              "      <td>1</td>\n",
              "      <td>5</td>\n",
              "      <td>-5</td>\n",
              "      <td>-0.419691</td>\n",
              "      <td>0.419691</td>\n",
              "      <td>0.005618</td>\n",
              "      <td>1.066845</td>\n",
              "    </tr>\n",
              "    <tr>\n",
              "      <th>1827</th>\n",
              "      <td>EPL</td>\n",
              "      <td>2015-08-08</td>\n",
              "      <td>15</td>\n",
              "      <td>Everton</td>\n",
              "      <td>Watford</td>\n",
              "      <td>2</td>\n",
              "      <td>2</td>\n",
              "      <td>10</td>\n",
              "      <td>11</td>\n",
              "      <td>0.577077</td>\n",
              "      <td>0.248362</td>\n",
              "      <td>0.174561</td>\n",
              "      <td>0.604226</td>\n",
              "      <td>0.557892</td>\n",
              "      <td>1827</td>\n",
              "      <td>0</td>\n",
              "      <td>0</td>\n",
              "      <td>-1</td>\n",
              "      <td>1</td>\n",
              "      <td>0.046334</td>\n",
              "      <td>-0.046334</td>\n",
              "      <td>-0.056671</td>\n",
              "      <td>-0.509390</td>\n",
              "    </tr>\n",
              "    <tr>\n",
              "      <th>1828</th>\n",
              "      <td>EPL</td>\n",
              "      <td>2015-08-08</td>\n",
              "      <td>15</td>\n",
              "      <td>Bournemouth</td>\n",
              "      <td>Aston Villa</td>\n",
              "      <td>0</td>\n",
              "      <td>1</td>\n",
              "      <td>11</td>\n",
              "      <td>7</td>\n",
              "      <td>0.502280</td>\n",
              "      <td>0.268341</td>\n",
              "      <td>0.229378</td>\n",
              "      <td>0.876106</td>\n",
              "      <td>0.782253</td>\n",
              "      <td>1828</td>\n",
              "      <td>-1</td>\n",
              "      <td>1</td>\n",
              "      <td>4</td>\n",
              "      <td>-4</td>\n",
              "      <td>0.093853</td>\n",
              "      <td>-0.093853</td>\n",
              "      <td>-0.509390</td>\n",
              "      <td>-0.610355</td>\n",
              "    </tr>\n",
              "    <tr>\n",
              "      <th>1829</th>\n",
              "      <td>Ligue_1</td>\n",
              "      <td>2015-08-08</td>\n",
              "      <td>15</td>\n",
              "      <td>Nice</td>\n",
              "      <td>Monaco</td>\n",
              "      <td>1</td>\n",
              "      <td>2</td>\n",
              "      <td>5</td>\n",
              "      <td>19</td>\n",
              "      <td>0.235607</td>\n",
              "      <td>0.288583</td>\n",
              "      <td>0.475810</td>\n",
              "      <td>0.459874</td>\n",
              "      <td>2.814130</td>\n",
              "      <td>1829</td>\n",
              "      <td>-1</td>\n",
              "      <td>1</td>\n",
              "      <td>-14</td>\n",
              "      <td>14</td>\n",
              "      <td>-2.354256</td>\n",
              "      <td>2.354256</td>\n",
              "      <td>-0.225083</td>\n",
              "      <td>0.559302</td>\n",
              "    </tr>\n",
              "    <tr>\n",
              "      <th>1830</th>\n",
              "      <td>Ligue_1</td>\n",
              "      <td>2015-08-08</td>\n",
              "      <td>15</td>\n",
              "      <td>Troyes</td>\n",
              "      <td>Ajaccio GFCO</td>\n",
              "      <td>0</td>\n",
              "      <td>0</td>\n",
              "      <td>12</td>\n",
              "      <td>6</td>\n",
              "      <td>0.480552</td>\n",
              "      <td>0.299240</td>\n",
              "      <td>0.220208</td>\n",
              "      <td>0.394458</td>\n",
              "      <td>1.059770</td>\n",
              "      <td>1830</td>\n",
              "      <td>0</td>\n",
              "      <td>0</td>\n",
              "      <td>6</td>\n",
              "      <td>-6</td>\n",
              "      <td>-0.665312</td>\n",
              "      <td>0.665312</td>\n",
              "      <td>-0.516311</td>\n",
              "      <td>-0.516311</td>\n",
              "    </tr>\n",
              "  </tbody>\n",
              "</table>\n",
              "</div>"
            ],
            "text/plain": [
              "          Div       Date   Y  ...  xGD_Away    R_Home    R_Away\n",
              "1826  Ligue_1 2015-08-07  15  ...  0.419691  0.005618  1.066845\n",
              "1827      EPL 2015-08-08  15  ... -0.046334 -0.056671 -0.509390\n",
              "1828      EPL 2015-08-08  15  ... -0.093853 -0.509390 -0.610355\n",
              "1829  Ligue_1 2015-08-08  15  ...  2.354256 -0.225083  0.559302\n",
              "1830  Ligue_1 2015-08-08  15  ...  0.665312 -0.516311 -0.516311\n",
              "\n",
              "[5 rows x 23 columns]"
            ]
          },
          "metadata": {
            "tags": []
          },
          "execution_count": 8
        }
      ]
    },
    {
      "cell_type": "code",
      "metadata": {
        "colab": {
          "base_uri": "https://localhost:8080/",
          "height": 669
        },
        "id": "bqUQJPX9vlyD",
        "outputId": "38e7432e-b6ee-48eb-f75b-1aec9e540ee7"
      },
      "source": [
        "df_1c = df_prior.copy()\n",
        "df_1c['R_Final'] = df_prior.Team.map(ratings_dict)\n",
        "df_1c[(df_1c.Y == 17) & (df_1c.Div == 'EPL')].sort_values('R_Final', ascending=False).reset_index(drop=True)"
      ],
      "execution_count": 9,
      "outputs": [
        {
          "output_type": "execute_result",
          "data": {
            "text/html": [
              "<div>\n",
              "<style scoped>\n",
              "    .dataframe tbody tr th:only-of-type {\n",
              "        vertical-align: middle;\n",
              "    }\n",
              "\n",
              "    .dataframe tbody tr th {\n",
              "        vertical-align: top;\n",
              "    }\n",
              "\n",
              "    .dataframe thead th {\n",
              "        text-align: right;\n",
              "    }\n",
              "</style>\n",
              "<table border=\"1\" class=\"dataframe\">\n",
              "  <thead>\n",
              "    <tr style=\"text-align: right;\">\n",
              "      <th></th>\n",
              "      <th>Div</th>\n",
              "      <th>Y</th>\n",
              "      <th>Team</th>\n",
              "      <th>priorGD</th>\n",
              "      <th>R_Final</th>\n",
              "    </tr>\n",
              "  </thead>\n",
              "  <tbody>\n",
              "    <tr>\n",
              "      <th>0</th>\n",
              "      <td>EPL</td>\n",
              "      <td>17</td>\n",
              "      <td>Man City</td>\n",
              "      <td>0.894973</td>\n",
              "      <td>1.452859</td>\n",
              "    </tr>\n",
              "    <tr>\n",
              "      <th>1</th>\n",
              "      <td>EPL</td>\n",
              "      <td>17</td>\n",
              "      <td>Liverpool</td>\n",
              "      <td>0.779622</td>\n",
              "      <td>1.002248</td>\n",
              "    </tr>\n",
              "    <tr>\n",
              "      <th>2</th>\n",
              "      <td>EPL</td>\n",
              "      <td>17</td>\n",
              "      <td>Tottenham</td>\n",
              "      <td>1.333306</td>\n",
              "      <td>0.940018</td>\n",
              "    </tr>\n",
              "    <tr>\n",
              "      <th>3</th>\n",
              "      <td>EPL</td>\n",
              "      <td>17</td>\n",
              "      <td>Chelsea</td>\n",
              "      <td>1.148744</td>\n",
              "      <td>0.794985</td>\n",
              "    </tr>\n",
              "    <tr>\n",
              "      <th>4</th>\n",
              "      <td>EPL</td>\n",
              "      <td>17</td>\n",
              "      <td>Man United</td>\n",
              "      <td>0.525850</td>\n",
              "      <td>0.712594</td>\n",
              "    </tr>\n",
              "    <tr>\n",
              "      <th>5</th>\n",
              "      <td>EPL</td>\n",
              "      <td>17</td>\n",
              "      <td>Arsenal</td>\n",
              "      <td>0.710411</td>\n",
              "      <td>0.435926</td>\n",
              "    </tr>\n",
              "    <tr>\n",
              "      <th>6</th>\n",
              "      <td>EPL</td>\n",
              "      <td>17</td>\n",
              "      <td>Southampton</td>\n",
              "      <td>-0.212395</td>\n",
              "      <td>-0.035730</td>\n",
              "    </tr>\n",
              "    <tr>\n",
              "      <th>7</th>\n",
              "      <td>EPL</td>\n",
              "      <td>17</td>\n",
              "      <td>Crystal Palace</td>\n",
              "      <td>-0.350815</td>\n",
              "      <td>-0.061418</td>\n",
              "    </tr>\n",
              "    <tr>\n",
              "      <th>8</th>\n",
              "      <td>EPL</td>\n",
              "      <td>17</td>\n",
              "      <td>Leicester</td>\n",
              "      <td>-0.396956</td>\n",
              "      <td>-0.229420</td>\n",
              "    </tr>\n",
              "    <tr>\n",
              "      <th>9</th>\n",
              "      <td>EPL</td>\n",
              "      <td>17</td>\n",
              "      <td>Newcastle</td>\n",
              "      <td>-0.549762</td>\n",
              "      <td>-0.249825</td>\n",
              "    </tr>\n",
              "    <tr>\n",
              "      <th>10</th>\n",
              "      <td>EPL</td>\n",
              "      <td>17</td>\n",
              "      <td>Everton</td>\n",
              "      <td>0.364359</td>\n",
              "      <td>-0.305655</td>\n",
              "    </tr>\n",
              "    <tr>\n",
              "      <th>11</th>\n",
              "      <td>EPL</td>\n",
              "      <td>17</td>\n",
              "      <td>West Ham</td>\n",
              "      <td>-0.443096</td>\n",
              "      <td>-0.356788</td>\n",
              "    </tr>\n",
              "    <tr>\n",
              "      <th>12</th>\n",
              "      <td>EPL</td>\n",
              "      <td>17</td>\n",
              "      <td>Watford</td>\n",
              "      <td>-0.696868</td>\n",
              "      <td>-0.373554</td>\n",
              "    </tr>\n",
              "    <tr>\n",
              "      <th>13</th>\n",
              "      <td>EPL</td>\n",
              "      <td>17</td>\n",
              "      <td>Bournemouth</td>\n",
              "      <td>-0.327745</td>\n",
              "      <td>-0.385510</td>\n",
              "    </tr>\n",
              "    <tr>\n",
              "      <th>14</th>\n",
              "      <td>EPL</td>\n",
              "      <td>17</td>\n",
              "      <td>Burnley</td>\n",
              "      <td>-0.420026</td>\n",
              "      <td>-0.465068</td>\n",
              "    </tr>\n",
              "    <tr>\n",
              "      <th>15</th>\n",
              "      <td>EPL</td>\n",
              "      <td>17</td>\n",
              "      <td>Brighton</td>\n",
              "      <td>-0.549762</td>\n",
              "      <td>-0.468206</td>\n",
              "    </tr>\n",
              "    <tr>\n",
              "      <th>16</th>\n",
              "      <td>EPL</td>\n",
              "      <td>17</td>\n",
              "      <td>West Brom</td>\n",
              "      <td>-0.235465</td>\n",
              "      <td>-0.527733</td>\n",
              "    </tr>\n",
              "    <tr>\n",
              "      <th>17</th>\n",
              "      <td>EPL</td>\n",
              "      <td>17</td>\n",
              "      <td>Stoke</td>\n",
              "      <td>-0.396956</td>\n",
              "      <td>-0.598827</td>\n",
              "    </tr>\n",
              "    <tr>\n",
              "      <th>18</th>\n",
              "      <td>EPL</td>\n",
              "      <td>17</td>\n",
              "      <td>Swansea</td>\n",
              "      <td>-0.627657</td>\n",
              "      <td>-0.604645</td>\n",
              "    </tr>\n",
              "    <tr>\n",
              "      <th>19</th>\n",
              "      <td>EPL</td>\n",
              "      <td>17</td>\n",
              "      <td>Huddersfield</td>\n",
              "      <td>-0.549762</td>\n",
              "      <td>-0.676251</td>\n",
              "    </tr>\n",
              "  </tbody>\n",
              "</table>\n",
              "</div>"
            ],
            "text/plain": [
              "    Div   Y            Team   priorGD   R_Final\n",
              "0   EPL  17        Man City  0.894973  1.452859\n",
              "1   EPL  17       Liverpool  0.779622  1.002248\n",
              "2   EPL  17       Tottenham  1.333306  0.940018\n",
              "3   EPL  17         Chelsea  1.148744  0.794985\n",
              "4   EPL  17      Man United  0.525850  0.712594\n",
              "5   EPL  17         Arsenal  0.710411  0.435926\n",
              "6   EPL  17     Southampton -0.212395 -0.035730\n",
              "7   EPL  17  Crystal Palace -0.350815 -0.061418\n",
              "8   EPL  17       Leicester -0.396956 -0.229420\n",
              "9   EPL  17       Newcastle -0.549762 -0.249825\n",
              "10  EPL  17         Everton  0.364359 -0.305655\n",
              "11  EPL  17        West Ham -0.443096 -0.356788\n",
              "12  EPL  17         Watford -0.696868 -0.373554\n",
              "13  EPL  17     Bournemouth -0.327745 -0.385510\n",
              "14  EPL  17         Burnley -0.420026 -0.465068\n",
              "15  EPL  17        Brighton -0.549762 -0.468206\n",
              "16  EPL  17       West Brom -0.235465 -0.527733\n",
              "17  EPL  17           Stoke -0.396956 -0.598827\n",
              "18  EPL  17         Swansea -0.627657 -0.604645\n",
              "19  EPL  17    Huddersfield -0.549762 -0.676251"
            ]
          },
          "metadata": {
            "tags": []
          },
          "execution_count": 9
        }
      ]
    },
    {
      "cell_type": "markdown",
      "metadata": {
        "id": "lvFCD6ih-iZS"
      },
      "source": [
        "# 1d."
      ]
    },
    {
      "cell_type": "code",
      "metadata": {
        "id": "D0MvJBaB-kEP"
      },
      "source": [
        "df_ratings['homeWin'] = 1*(df_ratings.GD_Home > 0)\n",
        "df_ratings['RD_Home'] = df_ratings.R_Home - df_ratings.R_Away"
      ],
      "execution_count": 10,
      "outputs": []
    },
    {
      "cell_type": "code",
      "metadata": {
        "id": "9jnQ-CLaucUi"
      },
      "source": [
        "train, test = df_ratings[df_ratings.Y < 18], df_ratings[df_ratings.Y == 18]"
      ],
      "execution_count": 11,
      "outputs": []
    },
    {
      "cell_type": "code",
      "metadata": {
        "colab": {
          "base_uri": "https://localhost:8080/",
          "height": 299
        },
        "id": "ZAsiiaNDt3FQ",
        "outputId": "f330f1bd-c57c-41a4-d8a2-ba7aaefd21cf"
      },
      "source": [
        "result = smf.logit('homeWin ~ RD_Home + 1', data=train).fit()\n",
        "result.summary()"
      ],
      "execution_count": 12,
      "outputs": [
        {
          "output_type": "stream",
          "text": [
            "Optimization terminated successfully.\n",
            "         Current function value: 0.610079\n",
            "         Iterations 5\n"
          ],
          "name": "stdout"
        },
        {
          "output_type": "execute_result",
          "data": {
            "text/html": [
              "<table class=\"simpletable\">\n",
              "<caption>Logit Regression Results</caption>\n",
              "<tr>\n",
              "  <th>Dep. Variable:</th>        <td>homeWin</td>     <th>  No. Observations:  </th>   <td>  5478</td>  \n",
              "</tr>\n",
              "<tr>\n",
              "  <th>Model:</th>                 <td>Logit</td>      <th>  Df Residuals:      </th>   <td>  5476</td>  \n",
              "</tr>\n",
              "<tr>\n",
              "  <th>Method:</th>                 <td>MLE</td>       <th>  Df Model:          </th>   <td>     1</td>  \n",
              "</tr>\n",
              "<tr>\n",
              "  <th>Date:</th>            <td>Wed, 10 Mar 2021</td> <th>  Pseudo R-squ.:     </th>   <td>0.1160</td>  \n",
              "</tr>\n",
              "<tr>\n",
              "  <th>Time:</th>                <td>22:11:15</td>     <th>  Log-Likelihood:    </th>  <td> -3342.0</td> \n",
              "</tr>\n",
              "<tr>\n",
              "  <th>converged:</th>             <td>True</td>       <th>  LL-Null:           </th>  <td> -3780.6</td> \n",
              "</tr>\n",
              "<tr>\n",
              "  <th>Covariance Type:</th>     <td>nonrobust</td>    <th>  LLR p-value:       </th> <td>8.687e-193</td>\n",
              "</tr>\n",
              "</table>\n",
              "<table class=\"simpletable\">\n",
              "<tr>\n",
              "      <td></td>         <th>coef</th>     <th>std err</th>      <th>z</th>      <th>P>|z|</th>  <th>[0.025</th>    <th>0.975]</th>  \n",
              "</tr>\n",
              "<tr>\n",
              "  <th>Intercept</th> <td>   -0.1823</td> <td>    0.029</td> <td>   -6.194</td> <td> 0.000</td> <td>   -0.240</td> <td>   -0.125</td>\n",
              "</tr>\n",
              "<tr>\n",
              "  <th>RD_Home</th>   <td>    1.0673</td> <td>    0.041</td> <td>   26.020</td> <td> 0.000</td> <td>    0.987</td> <td>    1.148</td>\n",
              "</tr>\n",
              "</table>"
            ],
            "text/plain": [
              "<class 'statsmodels.iolib.summary.Summary'>\n",
              "\"\"\"\n",
              "                           Logit Regression Results                           \n",
              "==============================================================================\n",
              "Dep. Variable:                homeWin   No. Observations:                 5478\n",
              "Model:                          Logit   Df Residuals:                     5476\n",
              "Method:                           MLE   Df Model:                            1\n",
              "Date:                Wed, 10 Mar 2021   Pseudo R-squ.:                  0.1160\n",
              "Time:                        22:11:15   Log-Likelihood:                -3342.0\n",
              "converged:                       True   LL-Null:                       -3780.6\n",
              "Covariance Type:            nonrobust   LLR p-value:                8.687e-193\n",
              "==============================================================================\n",
              "                 coef    std err          z      P>|z|      [0.025      0.975]\n",
              "------------------------------------------------------------------------------\n",
              "Intercept     -0.1823      0.029     -6.194      0.000      -0.240      -0.125\n",
              "RD_Home        1.0673      0.041     26.020      0.000       0.987       1.148\n",
              "==============================================================================\n",
              "\"\"\""
            ]
          },
          "metadata": {
            "tags": []
          },
          "execution_count": 12
        }
      ]
    },
    {
      "cell_type": "code",
      "metadata": {
        "colab": {
          "base_uri": "https://localhost:8080/"
        },
        "id": "gVc9ZZcNGOsM",
        "outputId": "30bdeadf-c6b1-4ba5-aa10-e6bfc4191dcc"
      },
      "source": [
        "y_pred = result.predict(test)\n",
        "brier_score_loss(test['homeWin'], y_pred)"
      ],
      "execution_count": 13,
      "outputs": [
        {
          "output_type": "execute_result",
          "data": {
            "text/plain": [
              "0.2117308896755449"
            ]
          },
          "metadata": {
            "tags": []
          },
          "execution_count": 13
        }
      ]
    },
    {
      "cell_type": "markdown",
      "metadata": {
        "id": "zHZ7Om8PnX85"
      },
      "source": [
        "# 1e."
      ]
    },
    {
      "cell_type": "code",
      "metadata": {
        "colab": {
          "base_uri": "https://localhost:8080/",
          "height": 299
        },
        "id": "nsaCHXHxwtX7",
        "outputId": "086abdd8-b12d-4de0-ec9a-c79a56a83c90"
      },
      "source": [
        "result = smf.logit('pH ~ RD_Home + 1', data=train).fit()\n",
        "result.summary()"
      ],
      "execution_count": 14,
      "outputs": [
        {
          "output_type": "stream",
          "text": [
            "Optimization terminated successfully.\n",
            "         Current function value: 0.555208\n",
            "         Iterations 5\n"
          ],
          "name": "stdout"
        },
        {
          "output_type": "execute_result",
          "data": {
            "text/html": [
              "<table class=\"simpletable\">\n",
              "<caption>Logit Regression Results</caption>\n",
              "<tr>\n",
              "  <th>Dep. Variable:</th>          <td>pH</td>        <th>  No. Observations:  </th>   <td>  5478</td>  \n",
              "</tr>\n",
              "<tr>\n",
              "  <th>Model:</th>                 <td>Logit</td>      <th>  Df Residuals:      </th>   <td>  5476</td>  \n",
              "</tr>\n",
              "<tr>\n",
              "  <th>Method:</th>                 <td>MLE</td>       <th>  Df Model:          </th>   <td>     1</td>  \n",
              "</tr>\n",
              "<tr>\n",
              "  <th>Date:</th>            <td>Wed, 10 Mar 2021</td> <th>  Pseudo R-squ.:     </th>   <td>0.1640</td>  \n",
              "</tr>\n",
              "<tr>\n",
              "  <th>Time:</th>                <td>22:11:15</td>     <th>  Log-Likelihood:    </th>  <td> -3041.4</td> \n",
              "</tr>\n",
              "<tr>\n",
              "  <th>converged:</th>             <td>True</td>       <th>  LL-Null:           </th>  <td> -3638.1</td> \n",
              "</tr>\n",
              "<tr>\n",
              "  <th>Covariance Type:</th>     <td>nonrobust</td>    <th>  LLR p-value:       </th> <td>1.649e-261</td>\n",
              "</tr>\n",
              "</table>\n",
              "<table class=\"simpletable\">\n",
              "<tr>\n",
              "      <td></td>         <th>coef</th>     <th>std err</th>      <th>z</th>      <th>P>|z|</th>  <th>[0.025</th>    <th>0.975]</th>  \n",
              "</tr>\n",
              "<tr>\n",
              "  <th>Intercept</th> <td>   -0.2217</td> <td>    0.029</td> <td>   -7.537</td> <td> 0.000</td> <td>   -0.279</td> <td>   -0.164</td>\n",
              "</tr>\n",
              "<tr>\n",
              "  <th>RD_Home</th>   <td>    1.0465</td> <td>    0.041</td> <td>   25.704</td> <td> 0.000</td> <td>    0.967</td> <td>    1.126</td>\n",
              "</tr>\n",
              "</table>"
            ],
            "text/plain": [
              "<class 'statsmodels.iolib.summary.Summary'>\n",
              "\"\"\"\n",
              "                           Logit Regression Results                           \n",
              "==============================================================================\n",
              "Dep. Variable:                     pH   No. Observations:                 5478\n",
              "Model:                          Logit   Df Residuals:                     5476\n",
              "Method:                           MLE   Df Model:                            1\n",
              "Date:                Wed, 10 Mar 2021   Pseudo R-squ.:                  0.1640\n",
              "Time:                        22:11:15   Log-Likelihood:                -3041.4\n",
              "converged:                       True   LL-Null:                       -3638.1\n",
              "Covariance Type:            nonrobust   LLR p-value:                1.649e-261\n",
              "==============================================================================\n",
              "                 coef    std err          z      P>|z|      [0.025      0.975]\n",
              "------------------------------------------------------------------------------\n",
              "Intercept     -0.2217      0.029     -7.537      0.000      -0.279      -0.164\n",
              "RD_Home        1.0465      0.041     25.704      0.000       0.967       1.126\n",
              "==============================================================================\n",
              "\"\"\""
            ]
          },
          "metadata": {
            "tags": []
          },
          "execution_count": 14
        }
      ]
    },
    {
      "cell_type": "code",
      "metadata": {
        "colab": {
          "base_uri": "https://localhost:8080/"
        },
        "id": "ZE8Ly-cHGR-J",
        "outputId": "1896b3f1-68e2-4fab-9017-f449a498419e"
      },
      "source": [
        "y_pred = result.predict(test)\n",
        "brier_score_loss(test['homeWin'], y_pred)"
      ],
      "execution_count": 15,
      "outputs": [
        {
          "output_type": "execute_result",
          "data": {
            "text/plain": [
              "0.21151645081406056"
            ]
          },
          "metadata": {
            "tags": []
          },
          "execution_count": 15
        }
      ]
    },
    {
      "cell_type": "markdown",
      "metadata": {
        "id": "HnUbvdbbxF5o"
      },
      "source": [
        "# 1f."
      ]
    },
    {
      "cell_type": "code",
      "metadata": {
        "id": "uUXYwECboPjk"
      },
      "source": [
        "mkt_wt = [10, 12, 15] #Weight of market prices\n",
        "goal_wt = [1.0, 1.2, 1.4] #Weight of goal differentials\n",
        "SD_wt = [1.0, 1.2, 1.4]\n",
        "xGD_wt = [1.0, 1.2, 1.4]\n",
        "\n",
        "brier_scores = {}"
      ],
      "execution_count": 16,
      "outputs": []
    },
    {
      "cell_type": "code",
      "metadata": {
        "id": "l1WT2RrGoTMW"
      },
      "source": [
        "data = []\n",
        "ratings_dict = {}\n",
        "for item in itertools.product(mkt_wt, goal_wt, SD_wt, xGD_wt):\n",
        "  MKT, GD, SD, xGD = item\n",
        "  df_ratings = dfl_calc(df, df_prior, ratings_dict, MKT, GD, SD, xGD)\n",
        "\n",
        "  df_ratings['homeWin'] = 1*(df_ratings.GD_Home > 0)\n",
        "  df_ratings['RD_Home'] = df_ratings.R_Home - df_ratings.R_Away\n",
        "  train, test = df_ratings[df_ratings.Y < 18], df_ratings[df_ratings.Y == 18]\n",
        "\n",
        "  result = smf.logit('pH ~ RD_Home + 1', data=train).fit()\n",
        "  y_pred = result.predict(test)\n",
        "  brier_scores[item] = brier_score_loss(test['homeWin'], y_pred)\n",
        "\n"
      ],
      "execution_count": null,
      "outputs": []
    },
    {
      "cell_type": "code",
      "metadata": {
        "colab": {
          "base_uri": "https://localhost:8080/"
        },
        "id": "ulsi1w_H3GF8",
        "outputId": "4ecd5f4d-962f-41ea-e616-f49c05035d98"
      },
      "source": [
        "best_wts = min(brier_scores, key=brier_scores.get)\n",
        "print(min(brier_scores.values()))\n",
        "best_wts"
      ],
      "execution_count": 18,
      "outputs": [
        {
          "output_type": "stream",
          "text": [
            "0.2114973374302251\n"
          ],
          "name": "stdout"
        },
        {
          "output_type": "execute_result",
          "data": {
            "text/plain": [
              "(15, 1.4, 1.4, 1.4)"
            ]
          },
          "metadata": {
            "tags": []
          },
          "execution_count": 18
        }
      ]
    },
    {
      "cell_type": "markdown",
      "metadata": {
        "id": "2jiWIphzBkOQ"
      },
      "source": [
        "## iv."
      ]
    },
    {
      "cell_type": "code",
      "metadata": {
        "id": "aQus8G2uo1CG"
      },
      "source": [
        "df_long = pd.wide_to_long(df, ['Team', 'G', 'S', 'xG', 'GD', 'SD', 'xGD'], 'GameID', 'isHome', '_', r'\\w+').reset_index()\n",
        "df_long['isHome'] =  1*(df_long['isHome'] == 'Home')"
      ],
      "execution_count": 19,
      "outputs": []
    },
    {
      "cell_type": "code",
      "metadata": {
        "id": "WA5BwVFJlXJp"
      },
      "source": [
        "df_output = df_long[df_long.Y < 18].groupby(['Y', 'Team'])['GD'].mean().reset_index()\n",
        "df_output['GD_Prev'] = np.NaN\n",
        "\n",
        "for i in range(len(df_output)):\n",
        "  team = df_output.loc[i, 'Team']\n",
        "  year = df_output.loc[i, 'Y']\n",
        "\n",
        "  GD_Prev = df_output.loc[(df_output.Team == team) & (df_output.Y == year - 1)]['GD'].values \n",
        "  if len(GD_Prev) > 0:\n",
        "    df_output.loc[i, 'GD_Prev'] = GD_Prev\n",
        "\n",
        "promoted_prior = df_output[(df_output.Y.between(15, 18)) & (df_output.isna().any(axis=1))].GD.mean()"
      ],
      "execution_count": 20,
      "outputs": []
    },
    {
      "cell_type": "code",
      "metadata": {
        "id": "-rZkAmqfQ-Yc"
      },
      "source": [
        "df_output = df_long.groupby(['Y', 'Team'])['GD'].mean().reset_index()\n",
        "df_output['GD_Prev'] = np.NaN\n",
        "\n",
        "for i in range(len(df_output)):\n",
        "  team = df_output.loc[i, 'Team']\n",
        "  year = df_output.loc[i, 'Y']\n",
        "\n",
        "  GD_Prev = df_output.loc[(df_output.Team == team) & (df_output.Y == year - 1)]['GD'].values \n",
        "  if len(GD_Prev) > 0:\n",
        "    df_output.loc[i, 'GD_Prev'] = GD_Prev\n",
        "\n",
        "df_output = df_output.merge(df_long[['Y', 'Div', 'Team']], on=['Y', 'Team']).drop_duplicates()"
      ],
      "execution_count": 21,
      "outputs": []
    },
    {
      "cell_type": "code",
      "metadata": {
        "id": "kpIO3ezBY1x2"
      },
      "source": [
        "train = df_output[df_output.Y < 18].dropna()\n",
        "result = smf.glm('GD ~ GD_Prev', data=train).fit()\n",
        "\n",
        "npt = df_output[df_output.Y > 14].dropna()\n",
        "y_pred = result.predict(npt)\n",
        "npt['newPrior'] = y_pred"
      ],
      "execution_count": 22,
      "outputs": []
    },
    {
      "cell_type": "code",
      "metadata": {
        "id": "KJfhjJHGIq1p"
      },
      "source": [
        "df_prior2 = df_output[df_output.Y > 14].merge(npt[['Y', 'Team', 'newPrior']], how='left').fillna(promoted_prior)\n",
        "df_prior2['priorGD'] = df_prior2.newPrior - df_prior2.groupby(['Y', 'Div']).newPrior.transform('mean')"
      ],
      "execution_count": 23,
      "outputs": []
    },
    {
      "cell_type": "markdown",
      "metadata": {
        "id": "O0KcIxjeHw_G"
      },
      "source": [
        "## iii."
      ]
    },
    {
      "cell_type": "code",
      "metadata": {
        "colab": {
          "base_uri": "https://localhost:8080/"
        },
        "id": "nLgwGOxiHYlv",
        "outputId": "cb48391c-4f33-4932-e1e1-737e86bc801d"
      },
      "source": [
        "mkt_wt, goal_wt, SD_wt, xGD_wt = best_wts\n",
        "df_ratings = dfl_calc(df, df_prior, ratings_dict, mkt_wt, goal_wt, SD_wt, xGD_wt, y_start=15, y_end=19)\n",
        "df_ratings['RD_Home'] = df_ratings.R_Home - df_ratings.R_Away\n",
        "df_ratings['homeWin'] = 1*(df_ratings.GD_Home > 0)"
      ],
      "execution_count": 24,
      "outputs": [
        {
          "output_type": "stream",
          "text": [
            "100%|██████████| 5/5 [00:14<00:00,  3.00s/it]\n"
          ],
          "name": "stderr"
        }
      ]
    },
    {
      "cell_type": "code",
      "metadata": {
        "colab": {
          "base_uri": "https://localhost:8080/"
        },
        "id": "EBGBd-7RHu01",
        "outputId": "b4f3f6fc-d096-472c-b5fa-7626d4aa5951"
      },
      "source": [
        "train, test = df_ratings[df_ratings.Y < 18], df_ratings[df_ratings.Y == 18]\n",
        "\n",
        "result = smf.logit('pH ~ RD_Home + 1', data=train).fit()\n",
        "y_pred = result.predict(test)\n",
        "brier_score_loss(test['homeWin'], y_pred)"
      ],
      "execution_count": 26,
      "outputs": [
        {
          "output_type": "stream",
          "text": [
            "Optimization terminated successfully.\n",
            "         Current function value: 0.555222\n",
            "         Iterations 5\n"
          ],
          "name": "stdout"
        },
        {
          "output_type": "execute_result",
          "data": {
            "text/plain": [
              "0.21149671499649395"
            ]
          },
          "metadata": {
            "tags": []
          },
          "execution_count": 26
        }
      ]
    },
    {
      "cell_type": "markdown",
      "metadata": {
        "id": "ODv8vQK9VQek"
      },
      "source": [
        "## iv."
      ]
    },
    {
      "cell_type": "code",
      "metadata": {
        "colab": {
          "base_uri": "https://localhost:8080/"
        },
        "id": "aZXIX9mT5qx0",
        "outputId": "d33d53ce-9a7a-4647-e82d-e1d3926a48fe"
      },
      "source": [
        "df_ratings = dfl_calc(df, df_prior2[df_prior2.Y < 20], ratings_dict, mkt_wt, goal_wt, SD_wt, xGD_wt, y_start=15, y_end=20)\n",
        "df_ratings['RD_Home'] = df_ratings.R_Home - df_ratings.R_Away\n",
        "df_ratings['homeWin'] = 1*(df_ratings.GD_Home > 0)\n"
      ],
      "execution_count": 27,
      "outputs": [
        {
          "output_type": "stream",
          "text": [
            "100%|██████████| 5/5 [00:16<00:00,  3.39s/it]\n"
          ],
          "name": "stderr"
        }
      ]
    },
    {
      "cell_type": "code",
      "metadata": {
        "colab": {
          "base_uri": "https://localhost:8080/"
        },
        "id": "KVGEvLMKShhQ",
        "outputId": "64872253-3e51-4b86-f749-71556554b6bf"
      },
      "source": [
        "df_ratings_pre = df_ratings[df_ratings.Date < '2020-05-16']\n",
        "df_ratings_cov = df_ratings[df_ratings.Date >= '2020-05-16']\n",
        "\n",
        "train, test = df_ratings_pre[df_ratings_pre.Y < 19], df_ratings_pre[df_ratings_pre.Y == 19]\n",
        "\n",
        "result = smf.logit('pH ~ RD_Home + 1', data=train).fit()\n",
        "y_pred = result.predict(test)\n",
        "brier_score_loss(test['homeWin'], y_pred)"
      ],
      "execution_count": 28,
      "outputs": [
        {
          "output_type": "stream",
          "text": [
            "Optimization terminated successfully.\n",
            "         Current function value: 0.555513\n",
            "         Iterations 5\n"
          ],
          "name": "stdout"
        },
        {
          "output_type": "execute_result",
          "data": {
            "text/plain": [
              "0.22166854887908394"
            ]
          },
          "metadata": {
            "tags": []
          },
          "execution_count": 28
        }
      ]
    },
    {
      "cell_type": "markdown",
      "metadata": {
        "id": "WfS8lsvji_j-"
      },
      "source": [
        "# 1g."
      ]
    },
    {
      "cell_type": "code",
      "metadata": {
        "colab": {
          "base_uri": "https://localhost:8080/"
        },
        "id": "1oyNyHSGGvAl",
        "outputId": "3d7a2f61-6d5d-416d-e7cb-40dc791f2784"
      },
      "source": [
        "df_ratings = dfl_calc(df, df_prior2, ratings_dict, mkt_wt, goal_wt, SD_wt, xGD_wt, y_start=15, y_end=21)\n",
        "df_ratings['RD_Home'] = df_ratings.R_Home - df_ratings.R_Away\n",
        "df_ratings['homeWin'] = 1*(df_ratings.GD_Home > 0)\n",
        "\n",
        "train, test = df_ratings[df_ratings.Y < 20], df_ratings[df_ratings.Y == 20]\n",
        "\n",
        "result = smf.logit('pH ~ RD_Home + 1', data=train).fit()\n",
        "y_pred = result.predict(test)\n",
        "brier_score_loss(test['homeWin'], y_pred)"
      ],
      "execution_count": 29,
      "outputs": [
        {
          "output_type": "stream",
          "text": [
            "100%|██████████| 5/5 [00:16<00:00,  3.35s/it]\n"
          ],
          "name": "stderr"
        },
        {
          "output_type": "stream",
          "text": [
            "Optimization terminated successfully.\n",
            "         Current function value: 0.555566\n",
            "         Iterations 5\n"
          ],
          "name": "stdout"
        },
        {
          "output_type": "execute_result",
          "data": {
            "text/plain": [
              "0.20883878390720106"
            ]
          },
          "metadata": {
            "tags": []
          },
          "execution_count": 29
        }
      ]
    },
    {
      "cell_type": "code",
      "metadata": {
        "colab": {
          "base_uri": "https://localhost:8080/"
        },
        "id": "ERywFMnqfVRn",
        "outputId": "afafcab4-18f8-426b-b107-35a66acf0df2"
      },
      "source": [
        "hfa_cov_prior = df_ratings_cov[df_ratings_cov.Y == 19].GD_Home.mean()\n",
        "\n",
        "df_ratings = dfl_calc(df, df_prior2, ratings_dict, mkt_wt, goal_wt, SD_wt, xGD_wt, y_start=15, y_end=21, hfa_prior=hfa_cov_prior)\n",
        "df_ratings['RD_Home'] = df_ratings.R_Home - df_ratings.R_Away\n",
        "df_ratings['homeWin'] = 1*(df_ratings.GD_Home > 0)\n",
        "\n",
        "train, test = df_ratings[df_ratings.Y < 20], df_ratings[df_ratings.Y == 20]\n",
        "\n",
        "result = smf.logit('pH ~ RD_Home + 1', data=train).fit()\n",
        "y_pred = result.predict(test)\n",
        "brier_score_loss(test['homeWin'], y_pred)"
      ],
      "execution_count": 30,
      "outputs": [
        {
          "output_type": "stream",
          "text": [
            "100%|██████████| 5/5 [00:16<00:00,  3.39s/it]\n"
          ],
          "name": "stderr"
        },
        {
          "output_type": "stream",
          "text": [
            "Optimization terminated successfully.\n",
            "         Current function value: 0.555579\n",
            "         Iterations 5\n"
          ],
          "name": "stdout"
        },
        {
          "output_type": "execute_result",
          "data": {
            "text/plain": [
              "0.20834603200007581"
            ]
          },
          "metadata": {
            "tags": []
          },
          "execution_count": 30
        }
      ]
    }
  ]
}