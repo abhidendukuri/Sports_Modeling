{
  "nbformat": 4,
  "nbformat_minor": 0,
  "metadata": {
    "colab": {
      "name": "HW3_1c_2c.ipynb",
      "provenance": [],
      "collapsed_sections": [],
      "authorship_tag": "ABX9TyMXN++ucuRDtDQZH+BAVSfs",
      "include_colab_link": true
    },
    "kernelspec": {
      "name": "python3",
      "display_name": "Python 3"
    }
  },
  "cells": [
    {
      "cell_type": "markdown",
      "metadata": {
        "id": "view-in-github",
        "colab_type": "text"
      },
      "source": [
        "<a href=\"https://colab.research.google.com/github/abhidendukuri/Sports_Modeling/blob/HW3/HW3_1c_2c.ipynb\" target=\"_parent\"><img src=\"https://colab.research.google.com/assets/colab-badge.svg\" alt=\"Open In Colab\"/></a>"
      ]
    },
    {
      "cell_type": "code",
      "metadata": {
        "colab": {
          "base_uri": "https://localhost:8080/"
        },
        "id": "pBR2rnGtcLqU",
        "outputId": "8d247001-ae6b-494a-a00d-7aa98d817959"
      },
      "source": [
        "import pandas as pd\n",
        "import numpy as np\n",
        "\n",
        "import statsmodels.formula.api as smf\n",
        "import statsmodels.api as sm\n",
        "from sklearn.metrics import brier_score_loss\n",
        "\n",
        "import warnings\n",
        "warnings.filterwarnings('ignore')\n",
        "rng = np.random.default_rng(seed = 456)"
      ],
      "execution_count": 1,
      "outputs": [
        {
          "output_type": "stream",
          "text": [
            "/usr/local/lib/python3.7/dist-packages/statsmodels/tools/_testing.py:19: FutureWarning: pandas.util.testing is deprecated. Use the functions in the public API at pandas.testing instead.\n",
            "  import pandas.util.testing as tm\n"
          ],
          "name": "stderr"
        }
      ]
    },
    {
      "cell_type": "code",
      "metadata": {
        "id": "TEtgi3ascM03"
      },
      "source": [
        "def to_df(X, y):\n",
        "  df = X.copy()\n",
        "  df['homeWin'] = y\n",
        "  return df\n",
        "\n",
        "def calc_elo(abs_dG, W, eloF, eloA, isHome, K = 40, HFA = 100):\n",
        "  G = 1 if abs_dG <= 1 else (3/2 if abs_dG == 2 else (11+abs_dG)/8)\n",
        "  dr = (eloF - eloA) + (HFA if isHome else -HFA)\n",
        "  W_e = 1 / (10**(-dr/400) + 1)\n",
        "  return K*G*(W - W_e)\n",
        "\n",
        "def logit(X_train, y_train, X_test, y_test):\n",
        "  f = y_train.name + ' ~ ' + ' + '.join([col for col in X_train.columns])\n",
        "  result = smf.logit(f, data=to_df(X_train, y_train)).fit()\n",
        "  y_pred = result.predict(X_test)\n",
        "  return brier_score_loss(y_test, y_pred)\n"
      ],
      "execution_count": 2,
      "outputs": []
    },
    {
      "cell_type": "markdown",
      "metadata": {
        "id": "lMlGuI7X6qDP"
      },
      "source": [
        "# 1c"
      ]
    },
    {
      "cell_type": "code",
      "metadata": {
        "id": "NhLxM_onlyMz"
      },
      "source": [
        "df = pd.read_csv('soccer18_hs.csv', parse_dates = ['Date']).drop(['Unnamed: 0', 'home_win_pct'], 1)"
      ],
      "execution_count": 3,
      "outputs": []
    },
    {
      "cell_type": "code",
      "metadata": {
        "colab": {
          "base_uri": "https://localhost:8080/"
        },
        "id": "Tf0QgwKOmcja",
        "outputId": "7a74e1fb-50b4-4c3e-f9c5-7362ab735201"
      },
      "source": [
        "# Drop GameID and Y after train/test splits\n",
        "X_train, y_train = df[df.Y < 18].drop('homeWin', 1), df[df.Y < 18].homeWin\n",
        "X_test, y_test = df[df.Y == 18].drop('homeWin', 1), df[df.Y == 18].homeWin\n",
        "X_train = X_train.drop(['Y'], 1).select_dtypes(include=np.number)\n",
        "X_test = X_test.drop(['Y'], 1).select_dtypes(include=np.number)\n",
        "\n",
        "lr_noElo = logit(X_train, y_train, X_test, y_test)"
      ],
      "execution_count": 4,
      "outputs": [
        {
          "output_type": "stream",
          "text": [
            "Optimization terminated successfully.\n",
            "         Current function value: 0.623617\n",
            "         Iterations 5\n"
          ],
          "name": "stdout"
        }
      ]
    },
    {
      "cell_type": "code",
      "metadata": {
        "id": "uicy9wSwm5sF"
      },
      "source": [
        "df2 = pd.read_csv('soccer18m.csv', parse_dates = ['Date'])\n",
        "df2['GameID'] = df2.index\n",
        "df2 = df2.sort_values('Date')\n",
        "df2['abs_dG'] = np.abs(df2.FTHG - df2.FTAG)\n",
        "df2['Elo_H'] = 1000\n",
        "df2['Elo_A'] = 1000"
      ],
      "execution_count": 5,
      "outputs": []
    },
    {
      "cell_type": "code",
      "metadata": {
        "id": "_9FsIwlYdLEv"
      },
      "source": [
        "elos = {i:1000 for i in df2.HomeTeam.unique()}\n",
        "\n",
        "for i in range(len(df2)):\n",
        "  df2.loc[i, 'Elo_H'] = elos[df2.loc[i, 'HomeTeam']]\n",
        "  df2.loc[i, 'Elo_A'] = elos[df2.loc[i, 'AwayTeam']]\n",
        "  W = 1 if df2.loc[i, 'FTHG'] > df2.loc[i, 'FTAG'] else (0 if df2.loc[i, 'FTAG'] > df2.loc[i, 'FTHG'] else 0.5)\n",
        "  P = calc_elo(df2.loc[i, 'abs_dG'], W, df2.loc[i, 'Elo_H'], df2.loc[i, 'Elo_A'], 1)\n",
        "  elos[df2.loc[i, 'HomeTeam']] += P\n",
        "  elos[df2.loc[i, 'AwayTeam']] -= P\n",
        "\n",
        "df2['EloD'] = df2.Elo_H - df2.Elo_A\n",
        "df = df.merge(df2[['GameID', 'EloD']], how='left')\n",
        "df_hs = df.select_dtypes(include=np.number)"
      ],
      "execution_count": 6,
      "outputs": []
    },
    {
      "cell_type": "code",
      "metadata": {
        "colab": {
          "base_uri": "https://localhost:8080/"
        },
        "id": "QW5zDkHmekb8",
        "outputId": "03b5da48-aa7f-4880-9057-18ad5061e1c0"
      },
      "source": [
        "# Drop GameID and Y after train/test splits\n",
        "X_train, y_train = df_hs[df_hs.Y < 18].drop('homeWin', 1), df_hs[df_hs.Y < 18].homeWin\n",
        "X_test, y_test = df_hs[df_hs.Y == 18].drop('homeWin', 1), df_hs[df_hs.Y == 18].homeWin\n",
        "X_train = X_train.drop(['GameID', 'Y'], 1).select_dtypes(include=np.number)\n",
        "X_test = X_test.drop(['GameID', 'Y'], 1).select_dtypes(include=np.number)\n",
        "\n",
        "lr_elo = logit(X_train, y_train, X_test, y_test)"
      ],
      "execution_count": 7,
      "outputs": [
        {
          "output_type": "stream",
          "text": [
            "Optimization terminated successfully.\n",
            "         Current function value: 0.621370\n",
            "         Iterations 5\n"
          ],
          "name": "stdout"
        }
      ]
    },
    {
      "cell_type": "code",
      "metadata": {
        "colab": {
          "base_uri": "https://localhost:8080/"
        },
        "id": "lauEkTBm-_r3",
        "outputId": "1122e20e-987f-4bc1-aaad-f4fce39040fc"
      },
      "source": [
        "print('Brier Score Without Elo:', lr_noElo)\n",
        "print('Brier Score Elo:\\t', lr_elo)"
      ],
      "execution_count": 8,
      "outputs": [
        {
          "output_type": "stream",
          "text": [
            "Brier Score Without Elo: 0.2150296052121065\n",
            "Brier Score Elo:\t 0.21416889370900888\n"
          ],
          "name": "stdout"
        }
      ]
    },
    {
      "cell_type": "markdown",
      "metadata": {
        "id": "80HF0kxj6_KD"
      },
      "source": [
        "# 2c"
      ]
    },
    {
      "cell_type": "code",
      "metadata": {
        "id": "RRwMn4zjheN8"
      },
      "source": [
        "df_melt = pd.melt(df2, id_vars='GameID', value_vars=['HomeTeam', 'AwayTeam'], var_name='isHome', value_name='Team')\n",
        "df_melt['isHome'] = np.where(df_melt.isHome =='HomeTeam', 'H', 'A')\n",
        "df_melt2 = pd.melt(df2, id_vars='GameID', value_vars=['pH', 'pA'], var_name='isHome', value_name='pW')\n",
        "df_melt2['isHome'] = np.where(df_melt2.isHome =='pH', 'H', 'A')\n",
        "df_merge = df_melt.merge(df_melt2, on=['GameID', 'isHome']).merge(df2[['GameID', 'Date', 'Y', 'pD']], on='GameID').sort_values('Date')\n",
        "df_merge['hpW'] = df_merge.groupby(['Team']).pW.transform(lambda x : x.expanding().mean().shift(1, fill_value = 0))\n",
        "df_merge['hpD'] = df_merge.groupby('Team').pD.transform(lambda x : x.expanding().mean().shift(1, fill_value = 0))\n",
        "\n",
        "df_pivot = df_merge.pivot(index='GameID', columns='isHome')\n",
        "df_pivot.columns = [f'{i}_{j}' for i, j in df_pivot.columns]\n",
        "df_pivot = df_pivot.reset_index()\n",
        "\n",
        "df_pivot = df[['GameID', 'Div', 'Y', 'HomeTeam', 'AwayTeam']].merge(df_pivot[['GameID', 'hpW_H', 'hpW_A', 'hpD_H']], on='GameID')\n",
        "df_hs = pd.merge(df_hs, df_pivot[['GameID', 'hpW_H', 'hpW_A', 'hpD_H']], how='left')\n",
        "df_hs = df_hs.rename(columns={'hpW_H': 'hpH', 'hpW_A': 'hpA', 'hpD_H': 'hpD'})"
      ],
      "execution_count": 9,
      "outputs": []
    },
    {
      "cell_type": "code",
      "metadata": {
        "colab": {
          "base_uri": "https://localhost:8080/"
        },
        "id": "0RTmvgsCh1wl",
        "outputId": "b20b6519-82a4-40b1-b7a7-4856eb469999"
      },
      "source": [
        "# Drop GameID and Y after train/test splits\n",
        "X_train, y_train = df_hs[df_hs.Y < 18].drop('homeWin', 1), df_hs[df_hs.Y < 18].homeWin\n",
        "X_test, y_test = df_hs[df_hs.Y == 18].drop('homeWin', 1), df_hs[df_hs.Y == 18].homeWin\n",
        "X_train = X_train.drop(['GameID', 'Y'], 1).select_dtypes(include=np.number)\n",
        "X_test = X_test.drop(['GameID', 'Y'], 1).select_dtypes(include=np.number)\n",
        "\n",
        "lr_pW = logit(X_train, y_train, X_test, y_test)"
      ],
      "execution_count": 10,
      "outputs": [
        {
          "output_type": "stream",
          "text": [
            "Optimization terminated successfully.\n",
            "         Current function value: 0.615825\n",
            "         Iterations 5\n"
          ],
          "name": "stdout"
        }
      ]
    },
    {
      "cell_type": "code",
      "metadata": {
        "colab": {
          "base_uri": "https://localhost:8080/"
        },
        "id": "uLaMO0SEkmQ7",
        "outputId": "19f44cbe-6adb-4056-dbb7-bcb2e6ad6798"
      },
      "source": [
        "# Drop GameID and Y after train/test splits\n",
        "X_train, y_train = df_hs[df_hs.Y < 18].drop('homeWin', 1), df_hs[df_hs.Y < 18].homeWin\n",
        "X_test, y_test = df_hs[df_hs.Y == 18].drop('homeWin', 1), df_hs[df_hs.Y == 18].homeWin\n",
        "\n",
        "# Removed pA and pH\n",
        "X_train = X_train.drop(['GameID', 'Y', 'hpA', 'hpD'], 1).select_dtypes(include=np.number)\n",
        "X_test = X_test.drop(['GameID', 'Y', 'hpA', 'hpD'], 1).select_dtypes(include=np.number)\n",
        "\n",
        "lr_pH = logit(X_train, y_train, X_test, y_test)"
      ],
      "execution_count": 11,
      "outputs": [
        {
          "output_type": "stream",
          "text": [
            "Optimization terminated successfully.\n",
            "         Current function value: 0.618010\n",
            "         Iterations 5\n"
          ],
          "name": "stdout"
        }
      ]
    },
    {
      "cell_type": "code",
      "metadata": {
        "colab": {
          "base_uri": "https://localhost:8080/"
        },
        "id": "fyBeVbiZEcP5",
        "outputId": "5a49191b-057e-47fd-c5a9-208766e8a800"
      },
      "source": [
        "print('Brier Score with pH, pD, pA:\\t', lr_pW)\n",
        "print('Brier Score with only pH:\\t', lr_pH)"
      ],
      "execution_count": 12,
      "outputs": [
        {
          "output_type": "stream",
          "text": [
            "Brier Score with pH, pD, pA:\t 0.21434654476925655\n",
            "Brier Score with only pH:\t 0.2132951807740099\n"
          ],
          "name": "stdout"
        }
      ]
    }
  ]
}