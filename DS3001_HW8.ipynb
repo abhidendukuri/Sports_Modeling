{
  "nbformat": 4,
  "nbformat_minor": 0,
  "metadata": {
    "colab": {
      "name": "DS3001_HW8.ipynb",
      "provenance": [],
      "authorship_tag": "ABX9TyNGPlVBxpJ9ZXalNYYE8bcI"
    },
    "kernelspec": {
      "name": "python3",
      "display_name": "Python 3"
    },
    "language_info": {
      "name": "python"
    }
  },
  "cells": [
    {
      "cell_type": "code",
      "metadata": {
        "id": "I8VriQSuPqvr",
        "colab": {
          "base_uri": "https://localhost:8080/"
        },
        "outputId": "c8b554c0-633a-42d8-a508-dda660419a30"
      },
      "source": [
        "!pip install pylogit"
      ],
      "execution_count": 11,
      "outputs": [
        {
          "output_type": "stream",
          "text": [
            "Collecting pylogit\n",
            "\u001b[?25l  Downloading https://files.pythonhosted.org/packages/e6/12/4f11d70459a0ea5af22dcd36e55d1e102d148bfecaf3648fbb51687592ef/pylogit-1.0.1-py3-none-any.whl (151kB)\n",
            "\r\u001b[K     |██▏                             | 10kB 13.1MB/s eta 0:00:01\r\u001b[K     |████▎                           | 20kB 18.6MB/s eta 0:00:01\r\u001b[K     |██████▌                         | 30kB 18.6MB/s eta 0:00:01\r\u001b[K     |████████▋                       | 40kB 14.2MB/s eta 0:00:01\r\u001b[K     |██████████▉                     | 51kB 9.1MB/s eta 0:00:01\r\u001b[K     |█████████████                   | 61kB 8.4MB/s eta 0:00:01\r\u001b[K     |███████████████▏                | 71kB 8.6MB/s eta 0:00:01\r\u001b[K     |█████████████████▎              | 81kB 9.4MB/s eta 0:00:01\r\u001b[K     |███████████████████▌            | 92kB 9.2MB/s eta 0:00:01\r\u001b[K     |█████████████████████▋          | 102kB 9.8MB/s eta 0:00:01\r\u001b[K     |███████████████████████▉        | 112kB 9.8MB/s eta 0:00:01\r\u001b[K     |██████████████████████████      | 122kB 9.8MB/s eta 0:00:01\r\u001b[K     |████████████████████████████▏   | 133kB 9.8MB/s eta 0:00:01\r\u001b[K     |██████████████████████████████▎ | 143kB 9.8MB/s eta 0:00:01\r\u001b[K     |████████████████████████████████| 153kB 9.8MB/s \n",
            "\u001b[?25hRequirement already satisfied: statsmodels>=0.6.1 in /usr/local/lib/python3.7/dist-packages (from pylogit) (0.10.2)\n",
            "Requirement already satisfied: tqdm>=4.15.0 in /usr/local/lib/python3.7/dist-packages (from pylogit) (4.41.1)\n",
            "Requirement already satisfied: pandas>=0.16.2 in /usr/local/lib/python3.7/dist-packages (from pylogit) (1.1.5)\n",
            "Requirement already satisfied: future>=0.16 in /usr/local/lib/python3.7/dist-packages (from pylogit) (0.16.0)\n",
            "Requirement already satisfied: numpy>=1.10.2 in /usr/local/lib/python3.7/dist-packages (from pylogit) (1.19.5)\n",
            "Requirement already satisfied: scipy>=0.16.1 in /usr/local/lib/python3.7/dist-packages (from pylogit) (1.4.1)\n",
            "Requirement already satisfied: patsy>=0.4.0 in /usr/local/lib/python3.7/dist-packages (from statsmodels>=0.6.1->pylogit) (0.5.1)\n",
            "Requirement already satisfied: python-dateutil>=2.7.3 in /usr/local/lib/python3.7/dist-packages (from pandas>=0.16.2->pylogit) (2.8.1)\n",
            "Requirement already satisfied: pytz>=2017.2 in /usr/local/lib/python3.7/dist-packages (from pandas>=0.16.2->pylogit) (2018.9)\n",
            "Requirement already satisfied: six in /usr/local/lib/python3.7/dist-packages (from patsy>=0.4.0->statsmodels>=0.6.1->pylogit) (1.15.0)\n",
            "Installing collected packages: pylogit\n",
            "Successfully installed pylogit-1.0.1\n"
          ],
          "name": "stdout"
        }
      ]
    },
    {
      "cell_type": "code",
      "metadata": {
        "id": "GzLNSO18LO9I"
      },
      "source": [
        "import pandas as pd\n",
        "import numpy as np\n",
        "import pylogit\n",
        "from scipy.special import logit\n",
        "pd.options.display.max_columns = 100"
      ],
      "execution_count": 12,
      "outputs": []
    },
    {
      "cell_type": "code",
      "metadata": {
        "id": "eIfsVMhfLVb4"
      },
      "source": [
        "df = pd.read_csv('xc.csv', parse_dates=['dt'])"
      ],
      "execution_count": 3,
      "outputs": []
    },
    {
      "cell_type": "code",
      "metadata": {
        "id": "ODAP4c_IMAIF"
      },
      "source": [
        "dups = df.groupby('race_id').box.agg(lambda x : len(x)-x.nunique())\n",
        "dups = dups.loc[dups>0]\n",
        "df = df.loc[~df.race_id.isin(dups.index)].copy()"
      ],
      "execution_count": 4,
      "outputs": []
    },
    {
      "cell_type": "code",
      "metadata": {
        "colab": {
          "base_uri": "https://localhost:8080/",
          "height": 204
        },
        "id": "29xBv9b-0CRq",
        "outputId": "93eb2655-0681-46ba-8554-ae0789a63cf0"
      },
      "source": [
        "win_choice = df.loc[df.winner == 1].sample(frac = 1.0).groupby('race_id').head(1).loc[:,['race_id','box']].copy()\n",
        "win_choice['twinner'] = 1\n",
        "win_choice.head()"
      ],
      "execution_count": 5,
      "outputs": [
        {
          "output_type": "execute_result",
          "data": {
            "text/html": [
              "<div>\n",
              "<style scoped>\n",
              "    .dataframe tbody tr th:only-of-type {\n",
              "        vertical-align: middle;\n",
              "    }\n",
              "\n",
              "    .dataframe tbody tr th {\n",
              "        vertical-align: top;\n",
              "    }\n",
              "\n",
              "    .dataframe thead th {\n",
              "        text-align: right;\n",
              "    }\n",
              "</style>\n",
              "<table border=\"1\" class=\"dataframe\">\n",
              "  <thead>\n",
              "    <tr style=\"text-align: right;\">\n",
              "      <th></th>\n",
              "      <th>race_id</th>\n",
              "      <th>box</th>\n",
              "      <th>twinner</th>\n",
              "    </tr>\n",
              "  </thead>\n",
              "  <tbody>\n",
              "    <tr>\n",
              "      <th>382947</th>\n",
              "      <td>4603695</td>\n",
              "      <td>1</td>\n",
              "      <td>1</td>\n",
              "    </tr>\n",
              "    <tr>\n",
              "      <th>167722</th>\n",
              "      <td>4511250</td>\n",
              "      <td>3</td>\n",
              "      <td>1</td>\n",
              "    </tr>\n",
              "    <tr>\n",
              "      <th>163412</th>\n",
              "      <td>4510520</td>\n",
              "      <td>5</td>\n",
              "      <td>1</td>\n",
              "    </tr>\n",
              "    <tr>\n",
              "      <th>371091</th>\n",
              "      <td>4598054</td>\n",
              "      <td>5</td>\n",
              "      <td>1</td>\n",
              "    </tr>\n",
              "    <tr>\n",
              "      <th>85983</th>\n",
              "      <td>4459924</td>\n",
              "      <td>2</td>\n",
              "      <td>1</td>\n",
              "    </tr>\n",
              "  </tbody>\n",
              "</table>\n",
              "</div>"
            ],
            "text/plain": [
              "        race_id  box  twinner\n",
              "382947  4603695    1        1\n",
              "167722  4511250    3        1\n",
              "163412  4510520    5        1\n",
              "371091  4598054    5        1\n",
              "85983   4459924    2        1"
            ]
          },
          "metadata": {
            "tags": []
          },
          "execution_count": 5
        }
      ]
    },
    {
      "cell_type": "code",
      "metadata": {
        "colab": {
          "base_uri": "https://localhost:8080/",
          "height": 326
        },
        "id": "I5IcXh9I0E7G",
        "outputId": "15522c81-501f-425d-a80c-2742e3440da3"
      },
      "source": [
        "dfm = df.merge(win_choice, on = ['race_id','box'], how = 'left')\n",
        "dfm.twinner = dfm.twinner.fillna(0)\n",
        "dfm = dfm.sort_values(['race_id','box'])\n",
        "dfm.head()"
      ],
      "execution_count": 6,
      "outputs": [
        {
          "output_type": "execute_result",
          "data": {
            "text/html": [
              "<div>\n",
              "<style scoped>\n",
              "    .dataframe tbody tr th:only-of-type {\n",
              "        vertical-align: middle;\n",
              "    }\n",
              "\n",
              "    .dataframe tbody tr th {\n",
              "        vertical-align: top;\n",
              "    }\n",
              "\n",
              "    .dataframe thead th {\n",
              "        text-align: right;\n",
              "    }\n",
              "</style>\n",
              "<table border=\"1\" class=\"dataframe\">\n",
              "  <thead>\n",
              "    <tr style=\"text-align: right;\">\n",
              "      <th></th>\n",
              "      <th>Unnamed: 0</th>\n",
              "      <th>race_id</th>\n",
              "      <th>stadium_id</th>\n",
              "      <th>distance_m</th>\n",
              "      <th>going</th>\n",
              "      <th>race_type</th>\n",
              "      <th>race_grade</th>\n",
              "      <th>dog_id</th>\n",
              "      <th>place</th>\n",
              "      <th>time</th>\n",
              "      <th>decimal_price</th>\n",
              "      <th>comment</th>\n",
              "      <th>box</th>\n",
              "      <th>kg</th>\n",
              "      <th>winner</th>\n",
              "      <th>dt</th>\n",
              "      <th>origTime</th>\n",
              "      <th>dnf</th>\n",
              "      <th>twinner</th>\n",
              "    </tr>\n",
              "  </thead>\n",
              "  <tbody>\n",
              "    <tr>\n",
              "      <th>1</th>\n",
              "      <td>2</td>\n",
              "      <td>4418717</td>\n",
              "      <td>13025</td>\n",
              "      <td>515</td>\n",
              "      <td>-0.1</td>\n",
              "      <td>flat_race</td>\n",
              "      <td>A6</td>\n",
              "      <td>2207348</td>\n",
              "      <td>3</td>\n",
              "      <td>31.33</td>\n",
              "      <td>7.00</td>\n",
              "      <td>CrdRnUp&amp;1,Led2To 3/4</td>\n",
              "      <td>1</td>\n",
              "      <td>31.25</td>\n",
              "      <td>0</td>\n",
              "      <td>2019-01-01</td>\n",
              "      <td>31.33</td>\n",
              "      <td>0</td>\n",
              "      <td>0.0</td>\n",
              "    </tr>\n",
              "    <tr>\n",
              "      <th>5</th>\n",
              "      <td>6</td>\n",
              "      <td>4418717</td>\n",
              "      <td>13025</td>\n",
              "      <td>515</td>\n",
              "      <td>-0.1</td>\n",
              "      <td>flat_race</td>\n",
              "      <td>A6</td>\n",
              "      <td>2354055</td>\n",
              "      <td>1</td>\n",
              "      <td>31.04</td>\n",
              "      <td>2.75</td>\n",
              "      <td>CrdRnUp&amp;1,Mid 1/2,Ld 3/4</td>\n",
              "      <td>2</td>\n",
              "      <td>28.75</td>\n",
              "      <td>1</td>\n",
              "      <td>2019-01-01</td>\n",
              "      <td>31.04</td>\n",
              "      <td>0</td>\n",
              "      <td>1.0</td>\n",
              "    </tr>\n",
              "    <tr>\n",
              "      <th>4</th>\n",
              "      <td>5</td>\n",
              "      <td>4418717</td>\n",
              "      <td>13025</td>\n",
              "      <td>515</td>\n",
              "      <td>-0.1</td>\n",
              "      <td>flat_race</td>\n",
              "      <td>A6</td>\n",
              "      <td>2342199</td>\n",
              "      <td>6</td>\n",
              "      <td>31.70</td>\n",
              "      <td>4.00</td>\n",
              "      <td>EP,CrdRnUp&amp;1&amp; 1/4&amp;3&amp;4</td>\n",
              "      <td>3</td>\n",
              "      <td>34.00</td>\n",
              "      <td>0</td>\n",
              "      <td>2019-01-01</td>\n",
              "      <td>31.70</td>\n",
              "      <td>0</td>\n",
              "      <td>0.0</td>\n",
              "    </tr>\n",
              "    <tr>\n",
              "      <th>3</th>\n",
              "      <td>4</td>\n",
              "      <td>4418717</td>\n",
              "      <td>13025</td>\n",
              "      <td>515</td>\n",
              "      <td>-0.1</td>\n",
              "      <td>flat_race</td>\n",
              "      <td>A6</td>\n",
              "      <td>2338001</td>\n",
              "      <td>2</td>\n",
              "      <td>31.31</td>\n",
              "      <td>3.50</td>\n",
              "      <td>SAw,BBlk 1/4,Crowded3</td>\n",
              "      <td>4</td>\n",
              "      <td>35.50</td>\n",
              "      <td>0</td>\n",
              "      <td>2019-01-01</td>\n",
              "      <td>31.31</td>\n",
              "      <td>0</td>\n",
              "      <td>0.0</td>\n",
              "    </tr>\n",
              "    <tr>\n",
              "      <th>0</th>\n",
              "      <td>1</td>\n",
              "      <td>4418717</td>\n",
              "      <td>13025</td>\n",
              "      <td>515</td>\n",
              "      <td>-0.1</td>\n",
              "      <td>flat_race</td>\n",
              "      <td>A6</td>\n",
              "      <td>2176330</td>\n",
              "      <td>4</td>\n",
              "      <td>31.41</td>\n",
              "      <td>11.00</td>\n",
              "      <td>BadlyBlkVW1,Crd3</td>\n",
              "      <td>5</td>\n",
              "      <td>27.75</td>\n",
              "      <td>0</td>\n",
              "      <td>2019-01-01</td>\n",
              "      <td>31.41</td>\n",
              "      <td>0</td>\n",
              "      <td>0.0</td>\n",
              "    </tr>\n",
              "  </tbody>\n",
              "</table>\n",
              "</div>"
            ],
            "text/plain": [
              "   Unnamed: 0  race_id  stadium_id  distance_m  going  race_type race_grade  \\\n",
              "1           2  4418717       13025         515   -0.1  flat_race         A6   \n",
              "5           6  4418717       13025         515   -0.1  flat_race         A6   \n",
              "4           5  4418717       13025         515   -0.1  flat_race         A6   \n",
              "3           4  4418717       13025         515   -0.1  flat_race         A6   \n",
              "0           1  4418717       13025         515   -0.1  flat_race         A6   \n",
              "\n",
              "    dog_id  place   time  decimal_price                   comment  box     kg  \\\n",
              "1  2207348      3  31.33           7.00      CrdRnUp&1,Led2To 3/4    1  31.25   \n",
              "5  2354055      1  31.04           2.75  CrdRnUp&1,Mid 1/2,Ld 3/4    2  28.75   \n",
              "4  2342199      6  31.70           4.00     EP,CrdRnUp&1& 1/4&3&4    3  34.00   \n",
              "3  2338001      2  31.31           3.50     SAw,BBlk 1/4,Crowded3    4  35.50   \n",
              "0  2176330      4  31.41          11.00          BadlyBlkVW1,Crd3    5  27.75   \n",
              "\n",
              "   winner         dt  origTime  dnf  twinner  \n",
              "1       0 2019-01-01     31.33    0      0.0  \n",
              "5       1 2019-01-01     31.04    0      1.0  \n",
              "4       0 2019-01-01     31.70    0      0.0  \n",
              "3       0 2019-01-01     31.31    0      0.0  \n",
              "0       0 2019-01-01     31.41    0      0.0  "
            ]
          },
          "metadata": {
            "tags": []
          },
          "execution_count": 6
        }
      ]
    },
    {
      "cell_type": "code",
      "metadata": {
        "id": "2EKIP5Zx50YR"
      },
      "source": [
        "startupTime = 1.75\n",
        "distDft = 400\n",
        "distExp = 0.11\n",
        "dfm['runTime'] = dfm.time - startupTime\n",
        "dfm['mmps'] = dfm.distance_m/dfm.runTime * (dfm.distance_m**distExp)/(distDft**distExp)"
      ],
      "execution_count": 7,
      "outputs": []
    },
    {
      "cell_type": "code",
      "metadata": {
        "id": "l-9bC-K86VKB"
      },
      "source": [
        "dfm['avg_mmps'] = dfm.groupby(['dog_id']).mmps.transform(lambda x : x.expanding().mean().shift(1, fill_value = 0))"
      ],
      "execution_count": 8,
      "outputs": []
    },
    {
      "cell_type": "code",
      "metadata": {
        "colab": {
          "base_uri": "https://localhost:8080/",
          "height": 35
        },
        "id": "W1vf1yxpLS5N",
        "outputId": "793fb89e-7a80-41f3-c3a4-91a8d7410fc6"
      },
      "source": [
        "pylogit.choice_calcs.__file__"
      ],
      "execution_count": 13,
      "outputs": [
        {
          "output_type": "execute_result",
          "data": {
            "application/vnd.google.colaboratory.intrinsic+json": {
              "type": "string"
            },
            "text/plain": [
              "'/usr/local/lib/python3.7/dist-packages/pylogit/choice_calcs.py'"
            ]
          },
          "metadata": {
            "tags": []
          },
          "execution_count": 13
        }
      ]
    },
    {
      "cell_type": "code",
      "metadata": {
        "id": "WThpuXdv-gH8"
      },
      "source": [
        "def mlogit(formula, df, obs_id, alt_id) :\n",
        "    \"\"\"\n",
        "    df must be sorted by obs_id to use this function\n",
        "    \"\"\"\n",
        "    from patsy import dmatrices\n",
        "    from collections import OrderedDict\n",
        "    import pylogit as pl\n",
        "    import numpy as np\n",
        "    data = dmatrices(formula+' -1', df, return_type = \"dataframe\")\n",
        "    all_alts = sorted(df.loc[:,alt_id].unique())\n",
        "    \n",
        "    spec = OrderedDict()\n",
        "    names = OrderedDict()\n",
        "    spec['intercept'] = all_alts[1:]\n",
        "    names['intercept'] = [f'(Intercept):{alt}' for alt in all_alts[1:]]\n",
        "    c_names = data[1].design_info.column_names\n",
        "    choice = data[0].design_info.column_names[0]\n",
        "    data[1][choice] = data[0]\n",
        "    data[1][[obs_id,alt_id]] = df[[obs_id,alt_id]]    \n",
        "    for c in c_names :\n",
        "        spec[c] = [all_alts]\n",
        "        names[c] = [c]\n",
        "    model = pl.create_choice_model(data = data[1], alt_id_col = alt_id, obs_id_col = obs_id, \n",
        "                                   choice_col = choice, specification = spec, names = names, model_type = 'MNL')\n",
        "    model.fit_mle(np.zeros(model.design.shape[1]), method = 'Powell')\n",
        "    return model"
      ],
      "execution_count": 9,
      "outputs": []
    },
    {
      "cell_type": "code",
      "metadata": {
        "colab": {
          "base_uri": "https://localhost:8080/",
          "height": 419
        },
        "id": "594nk6Hp_EsP",
        "outputId": "57b33c78-d2fd-412f-94e7-db83df8e9e24"
      },
      "source": [
        "model = mlogit('twinner ~ avg_mmps', dfm, 'race_id', 'box')"
      ],
      "execution_count": 10,
      "outputs": [
        {
          "output_type": "error",
          "ename": "ModuleNotFoundError",
          "evalue": "ignored",
          "traceback": [
            "\u001b[0;31m---------------------------------------------------------------------------\u001b[0m",
            "\u001b[0;31mModuleNotFoundError\u001b[0m                       Traceback (most recent call last)",
            "\u001b[0;32m<ipython-input-10-de84e9a0a746>\u001b[0m in \u001b[0;36m<module>\u001b[0;34m()\u001b[0m\n\u001b[0;32m----> 1\u001b[0;31m \u001b[0mmodel\u001b[0m \u001b[0;34m=\u001b[0m \u001b[0mmlogit\u001b[0m\u001b[0;34m(\u001b[0m\u001b[0;34m'twinner ~ avg_mmps'\u001b[0m\u001b[0;34m,\u001b[0m \u001b[0mdfm\u001b[0m\u001b[0;34m,\u001b[0m \u001b[0;34m'race_id'\u001b[0m\u001b[0;34m,\u001b[0m \u001b[0;34m'box'\u001b[0m\u001b[0;34m)\u001b[0m\u001b[0;34m\u001b[0m\u001b[0;34m\u001b[0m\u001b[0m\n\u001b[0m",
            "\u001b[0;32m<ipython-input-9-ba40c4da430f>\u001b[0m in \u001b[0;36mmlogit\u001b[0;34m(formula, df, obs_id, alt_id)\u001b[0m\n\u001b[1;32m      5\u001b[0m     \u001b[0;32mfrom\u001b[0m \u001b[0mpatsy\u001b[0m \u001b[0;32mimport\u001b[0m \u001b[0mdmatrices\u001b[0m\u001b[0;34m\u001b[0m\u001b[0;34m\u001b[0m\u001b[0m\n\u001b[1;32m      6\u001b[0m     \u001b[0;32mfrom\u001b[0m \u001b[0mcollections\u001b[0m \u001b[0;32mimport\u001b[0m \u001b[0mOrderedDict\u001b[0m\u001b[0;34m\u001b[0m\u001b[0;34m\u001b[0m\u001b[0m\n\u001b[0;32m----> 7\u001b[0;31m     \u001b[0;32mimport\u001b[0m \u001b[0mpylogit\u001b[0m \u001b[0;32mas\u001b[0m \u001b[0mpl\u001b[0m\u001b[0;34m\u001b[0m\u001b[0;34m\u001b[0m\u001b[0m\n\u001b[0m\u001b[1;32m      8\u001b[0m     \u001b[0;32mimport\u001b[0m \u001b[0mnumpy\u001b[0m \u001b[0;32mas\u001b[0m \u001b[0mnp\u001b[0m\u001b[0;34m\u001b[0m\u001b[0;34m\u001b[0m\u001b[0m\n\u001b[1;32m      9\u001b[0m     \u001b[0mdata\u001b[0m \u001b[0;34m=\u001b[0m \u001b[0mdmatrices\u001b[0m\u001b[0;34m(\u001b[0m\u001b[0mformula\u001b[0m\u001b[0;34m+\u001b[0m\u001b[0;34m' -1'\u001b[0m\u001b[0;34m,\u001b[0m \u001b[0mdf\u001b[0m\u001b[0;34m,\u001b[0m \u001b[0mreturn_type\u001b[0m \u001b[0;34m=\u001b[0m \u001b[0;34m\"dataframe\"\u001b[0m\u001b[0;34m)\u001b[0m\u001b[0;34m\u001b[0m\u001b[0;34m\u001b[0m\u001b[0m\n",
            "\u001b[0;31mModuleNotFoundError\u001b[0m: No module named 'pylogit'",
            "",
            "\u001b[0;31m---------------------------------------------------------------------------\u001b[0;32m\nNOTE: If your import is failing due to a missing package, you can\nmanually install dependencies using either !pip or !apt.\n\nTo view examples of installing some common dependencies, click the\n\"Open Examples\" button below.\n\u001b[0;31m---------------------------------------------------------------------------\u001b[0m\n"
          ]
        }
      ]
    },
    {
      "cell_type": "code",
      "metadata": {
        "id": "bh-JXUGN_Ioa"
      },
      "source": [
        "model.get_statsmodels_summary()"
      ],
      "execution_count": null,
      "outputs": []
    }
  ]
}