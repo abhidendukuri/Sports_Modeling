{
 "cells": [
  {
   "cell_type": "code",
   "execution_count": 1,
   "metadata": {
    "colab": {
     "base_uri": "https://localhost:8080/"
    },
    "id": "wWiu_qxIrhAP",
    "outputId": "4cd1f08c-9e0e-41bf-83e7-b7fde7488394"
   },
   "outputs": [],
   "source": [
    "import pandas as pd\n",
    "import numpy as np\n",
    "from scipy.special import logit, expit\n",
    "import statsmodels.formula.api as smf\n",
    "from sklearn.metrics import brier_score_loss\n",
    "import warnings\n",
    "warnings.filterwarnings('ignore')\n",
    "rng = np.random.default_rng(seed = 456)"
   ]
  },
  {
   "cell_type": "markdown",
   "metadata": {
    "id": "ikGSbAJpYuWf"
   },
   "source": [
    "# 1a. For each game compute the historical average goal differentials for each team"
   ]
  },
  {
   "cell_type": "code",
   "execution_count": 2,
   "metadata": {
    "id": "4rdTlitErvpp"
   },
   "outputs": [],
   "source": [
    "df = pd.read_csv('soccer18.csv', parse_dates = ['Date'])\n",
    "df = df.replace('Evian Thonon Gaillard', 'Evian')\n",
    "df['GameID'] = df.index\n",
    "df['PD_H'] = df.FTHG - df.FTAG\n",
    "df['PD_A'] = df.FTAG - df.FTHG\n",
    "df = df.sort_values('Date')"
   ]
  },
  {
   "cell_type": "code",
   "execution_count": 3,
   "metadata": {
    "colab": {
     "base_uri": "https://localhost:8080/",
     "height": 419
    },
    "id": "mJMvjxqyQ0LR",
    "outputId": "a5331324-d641-427f-bb43-d739b7ea6854"
   },
   "outputs": [],
   "source": [
    "df['homeWin'] = 1*(df.FTHG > df.FTAG)"
   ]
  },
  {
   "cell_type": "code",
   "execution_count": 4,
   "metadata": {
    "id": "0i-FJNo3si-l"
   },
   "outputs": [],
   "source": [
    "df_melt = pd.melt(df, id_vars='GameID', value_vars=['HomeTeam', 'AwayTeam'], var_name='isHome', value_name='Team')\n",
    "df_melt['isHome'] = np.where(df_melt.isHome =='HomeTeam', 'H', 'A')"
   ]
  },
  {
   "cell_type": "code",
   "execution_count": 5,
   "metadata": {
    "id": "2wpQNGZ-ujCZ"
   },
   "outputs": [],
   "source": [
    "df_melt2 = pd.melt(df, id_vars='GameID', value_vars=['PD_H', 'PD_A'], var_name='isHome', value_name='PD')\n",
    "df_melt2['isHome'] = np.where(df_melt2.isHome =='PD_H', 'H', 'A')"
   ]
  },
  {
   "cell_type": "code",
   "execution_count": 6,
   "metadata": {
    "id": "Q9P6kKzhyW90"
   },
   "outputs": [],
   "source": [
    "df_merge = df_melt.merge(df_melt2, on=['GameID', 'isHome']).merge(df[['GameID', 'Date']], on='GameID').sort_values('Date')\n",
    "df_merge['hAGD'] = df_merge.groupby('Team').PD.transform(lambda x : x.expanding().mean().shift(1, fill_value = 0))\n",
    "df_merge['GP'] = df_merge.groupby('Team').PD.transform(lambda x : x.expanding().count().shift(1, fill_value = 0))"
   ]
  },
  {
   "cell_type": "code",
   "execution_count": 7,
   "metadata": {
    "colab": {
     "base_uri": "https://localhost:8080/",
     "height": 419
    },
    "id": "PqdP8QT_PpDd",
    "outputId": "d05e4169-3d23-4e6c-cdb6-9644db582667"
   },
   "outputs": [],
   "source": [
    "df_pivot = df_merge.pivot(index='GameID', columns='isHome')\n",
    "df_pivot.columns = [f'{i}_{j}' for i, j in df_pivot.columns]\n",
    "df_pivot = df_pivot.reset_index()\n",
    "df_pivot['goalDisp'] = np.abs(df_pivot.hAGD_H - df_pivot.hAGD_A)\n",
    "df_pivot = df[['GameID', 'Div', 'Y', 'HomeTeam', 'AwayTeam']].merge(\n",
    "    df_pivot[['GameID', 'hAGD_H', 'hAGD_A','GP_H', 'GP_A', 'goalDisp']], on='GameID')"
   ]
  },
  {
   "cell_type": "code",
   "execution_count": 8,
   "metadata": {
    "id": "_pC3XeQEQqKy"
   },
   "outputs": [],
   "source": [
    "train = df_pivot[df_pivot.Y < 18]\n",
    "test = df_pivot[df_pivot.Y == 18]"
   ]
  },
  {
   "cell_type": "markdown",
   "metadata": {
    "id": "7qyL4ZyHYneN"
   },
   "source": [
    "## i. Give a table containing the 7 games with the largest absolute disparity"
   ]
  },
  {
   "cell_type": "code",
   "execution_count": 9,
   "metadata": {
    "colab": {
     "base_uri": "https://localhost:8080/",
     "height": 266
    },
    "id": "Vdfe10WpTjh2",
    "outputId": "7ed0fee6-d9f7-4c30-c7a9-496994e1ebce"
   },
   "outputs": [
    {
     "data": {
      "text/html": [
       "<div>\n",
       "<style scoped>\n",
       "    .dataframe tbody tr th:only-of-type {\n",
       "        vertical-align: middle;\n",
       "    }\n",
       "\n",
       "    .dataframe tbody tr th {\n",
       "        vertical-align: top;\n",
       "    }\n",
       "\n",
       "    .dataframe thead th {\n",
       "        text-align: right;\n",
       "    }\n",
       "</style>\n",
       "<table border=\"1\" class=\"dataframe\">\n",
       "  <thead>\n",
       "    <tr style=\"text-align: right;\">\n",
       "      <th></th>\n",
       "      <th>Div</th>\n",
       "      <th>Y</th>\n",
       "      <th>HomeTeam</th>\n",
       "      <th>AwayTeam</th>\n",
       "      <th>hAGD_H</th>\n",
       "      <th>hAGD_A</th>\n",
       "      <th>GP_H</th>\n",
       "      <th>GP_A</th>\n",
       "      <th>goalDisp</th>\n",
       "    </tr>\n",
       "  </thead>\n",
       "  <tbody>\n",
       "    <tr>\n",
       "      <th>0</th>\n",
       "      <td>Serie_A</td>\n",
       "      <td>14</td>\n",
       "      <td>Sassuolo</td>\n",
       "      <td>Sampdoria</td>\n",
       "      <td>-3.5</td>\n",
       "      <td>1.000000</td>\n",
       "      <td>2</td>\n",
       "      <td>2</td>\n",
       "      <td>4.500000</td>\n",
       "    </tr>\n",
       "    <tr>\n",
       "      <th>1</th>\n",
       "      <td>Ligue_1</td>\n",
       "      <td>14</td>\n",
       "      <td>Evian</td>\n",
       "      <td>Paris SG</td>\n",
       "      <td>-3.5</td>\n",
       "      <td>1.000000</td>\n",
       "      <td>2</td>\n",
       "      <td>2</td>\n",
       "      <td>4.500000</td>\n",
       "    </tr>\n",
       "    <tr>\n",
       "      <th>2</th>\n",
       "      <td>Ligue_1</td>\n",
       "      <td>17</td>\n",
       "      <td>Strasbourg</td>\n",
       "      <td>Lille</td>\n",
       "      <td>-4.0</td>\n",
       "      <td>0.078261</td>\n",
       "      <td>1</td>\n",
       "      <td>115</td>\n",
       "      <td>4.078261</td>\n",
       "    </tr>\n",
       "    <tr>\n",
       "      <th>3</th>\n",
       "      <td>Serie_A</td>\n",
       "      <td>14</td>\n",
       "      <td>Palermo</td>\n",
       "      <td>Inter</td>\n",
       "      <td>-0.5</td>\n",
       "      <td>3.500000</td>\n",
       "      <td>2</td>\n",
       "      <td>2</td>\n",
       "      <td>4.000000</td>\n",
       "    </tr>\n",
       "    <tr>\n",
       "      <th>4</th>\n",
       "      <td>La_Liga</td>\n",
       "      <td>14</td>\n",
       "      <td>Cordoba</td>\n",
       "      <td>Celta</td>\n",
       "      <td>-2.0</td>\n",
       "      <td>2.000000</td>\n",
       "      <td>1</td>\n",
       "      <td>1</td>\n",
       "      <td>4.000000</td>\n",
       "    </tr>\n",
       "    <tr>\n",
       "      <th>5</th>\n",
       "      <td>Serie_A</td>\n",
       "      <td>14</td>\n",
       "      <td>Empoli</td>\n",
       "      <td>Roma</td>\n",
       "      <td>-2.0</td>\n",
       "      <td>2.000000</td>\n",
       "      <td>1</td>\n",
       "      <td>1</td>\n",
       "      <td>4.000000</td>\n",
       "    </tr>\n",
       "    <tr>\n",
       "      <th>6</th>\n",
       "      <td>La_Liga</td>\n",
       "      <td>14</td>\n",
       "      <td>Elche</td>\n",
       "      <td>Granada</td>\n",
       "      <td>-3.0</td>\n",
       "      <td>1.000000</td>\n",
       "      <td>1</td>\n",
       "      <td>1</td>\n",
       "      <td>4.000000</td>\n",
       "    </tr>\n",
       "  </tbody>\n",
       "</table>\n",
       "</div>"
      ],
      "text/plain": [
       "       Div   Y    HomeTeam   AwayTeam  hAGD_H    hAGD_A  GP_H  GP_A  goalDisp\n",
       "0  Serie_A  14    Sassuolo  Sampdoria    -3.5  1.000000     2     2  4.500000\n",
       "1  Ligue_1  14       Evian   Paris SG    -3.5  1.000000     2     2  4.500000\n",
       "2  Ligue_1  17  Strasbourg      Lille    -4.0  0.078261     1   115  4.078261\n",
       "3  Serie_A  14     Palermo      Inter    -0.5  3.500000     2     2  4.000000\n",
       "4  La_Liga  14     Cordoba      Celta    -2.0  2.000000     1     1  4.000000\n",
       "5  Serie_A  14      Empoli       Roma    -2.0  2.000000     1     1  4.000000\n",
       "6  La_Liga  14       Elche    Granada    -3.0  1.000000     1     1  4.000000"
      ]
     },
     "execution_count": 9,
     "metadata": {},
     "output_type": "execute_result"
    }
   ],
   "source": [
    "train.sort_values('goalDisp', ascending=False).head(7).drop('GameID', 1).reset_index(drop=True)"
   ]
  },
  {
   "cell_type": "markdown",
   "metadata": {
    "id": "hDgLtec8Y7HW"
   },
   "source": [
    "## ii. Repeat the previous part restricted to games where each team had previously played at least 100 games in our dataset (that is, 100 or more)"
   ]
  },
  {
   "cell_type": "code",
   "execution_count": 10,
   "metadata": {
    "colab": {
     "base_uri": "https://localhost:8080/",
     "height": 266
    },
    "id": "WjzIEOfZZK40",
    "outputId": "37eb8165-95c4-45a2-b631-8bfcfdb48d71"
   },
   "outputs": [
    {
     "data": {
      "text/html": [
       "<div>\n",
       "<style scoped>\n",
       "    .dataframe tbody tr th:only-of-type {\n",
       "        vertical-align: middle;\n",
       "    }\n",
       "\n",
       "    .dataframe tbody tr th {\n",
       "        vertical-align: top;\n",
       "    }\n",
       "\n",
       "    .dataframe thead th {\n",
       "        text-align: right;\n",
       "    }\n",
       "</style>\n",
       "<table border=\"1\" class=\"dataframe\">\n",
       "  <thead>\n",
       "    <tr style=\"text-align: right;\">\n",
       "      <th></th>\n",
       "      <th>Div</th>\n",
       "      <th>Y</th>\n",
       "      <th>HomeTeam</th>\n",
       "      <th>AwayTeam</th>\n",
       "      <th>hAGD_H</th>\n",
       "      <th>hAGD_A</th>\n",
       "      <th>GP_H</th>\n",
       "      <th>GP_A</th>\n",
       "      <th>goalDisp</th>\n",
       "    </tr>\n",
       "  </thead>\n",
       "  <tbody>\n",
       "    <tr>\n",
       "      <th>0</th>\n",
       "      <td>La_Liga</td>\n",
       "      <td>16</td>\n",
       "      <td>Granada</td>\n",
       "      <td>Barcelona</td>\n",
       "      <td>-0.875000</td>\n",
       "      <td>2.192308</td>\n",
       "      <td>104</td>\n",
       "      <td>104</td>\n",
       "      <td>3.067308</td>\n",
       "    </tr>\n",
       "    <tr>\n",
       "      <th>1</th>\n",
       "      <td>La_Liga</td>\n",
       "      <td>17</td>\n",
       "      <td>Levante</td>\n",
       "      <td>Barcelona</td>\n",
       "      <td>-0.705357</td>\n",
       "      <td>2.140000</td>\n",
       "      <td>112</td>\n",
       "      <td>150</td>\n",
       "      <td>2.845357</td>\n",
       "    </tr>\n",
       "    <tr>\n",
       "      <th>2</th>\n",
       "      <td>La_Liga</td>\n",
       "      <td>16</td>\n",
       "      <td>Granada</td>\n",
       "      <td>Real Madrid</td>\n",
       "      <td>-0.936937</td>\n",
       "      <td>1.900000</td>\n",
       "      <td>111</td>\n",
       "      <td>110</td>\n",
       "      <td>2.836937</td>\n",
       "    </tr>\n",
       "    <tr>\n",
       "      <th>3</th>\n",
       "      <td>La_Liga</td>\n",
       "      <td>17</td>\n",
       "      <td>Las Palmas</td>\n",
       "      <td>Barcelona</td>\n",
       "      <td>-0.623762</td>\n",
       "      <td>2.208633</td>\n",
       "      <td>101</td>\n",
       "      <td>139</td>\n",
       "      <td>2.832395</td>\n",
       "    </tr>\n",
       "    <tr>\n",
       "      <th>4</th>\n",
       "      <td>La_Liga</td>\n",
       "      <td>17</td>\n",
       "      <td>La Coruna</td>\n",
       "      <td>Barcelona</td>\n",
       "      <td>-0.621622</td>\n",
       "      <td>2.142857</td>\n",
       "      <td>148</td>\n",
       "      <td>147</td>\n",
       "      <td>2.764479</td>\n",
       "    </tr>\n",
       "    <tr>\n",
       "      <th>5</th>\n",
       "      <td>La_Liga</td>\n",
       "      <td>16</td>\n",
       "      <td>La Coruna</td>\n",
       "      <td>Barcelona</td>\n",
       "      <td>-0.519608</td>\n",
       "      <td>2.225490</td>\n",
       "      <td>102</td>\n",
       "      <td>102</td>\n",
       "      <td>2.745098</td>\n",
       "    </tr>\n",
       "    <tr>\n",
       "      <th>6</th>\n",
       "      <td>La_Liga</td>\n",
       "      <td>17</td>\n",
       "      <td>Barcelona</td>\n",
       "      <td>La Coruna</td>\n",
       "      <td>2.186047</td>\n",
       "      <td>-0.527132</td>\n",
       "      <td>129</td>\n",
       "      <td>129</td>\n",
       "      <td>2.713178</td>\n",
       "    </tr>\n",
       "  </tbody>\n",
       "</table>\n",
       "</div>"
      ],
      "text/plain": [
       "       Div   Y    HomeTeam     AwayTeam    hAGD_H    hAGD_A  GP_H  GP_A  \\\n",
       "0  La_Liga  16     Granada    Barcelona -0.875000  2.192308   104   104   \n",
       "1  La_Liga  17     Levante    Barcelona -0.705357  2.140000   112   150   \n",
       "2  La_Liga  16     Granada  Real Madrid -0.936937  1.900000   111   110   \n",
       "3  La_Liga  17  Las Palmas    Barcelona -0.623762  2.208633   101   139   \n",
       "4  La_Liga  17   La Coruna    Barcelona -0.621622  2.142857   148   147   \n",
       "5  La_Liga  16   La Coruna    Barcelona -0.519608  2.225490   102   102   \n",
       "6  La_Liga  17   Barcelona    La Coruna  2.186047 -0.527132   129   129   \n",
       "\n",
       "   goalDisp  \n",
       "0  3.067308  \n",
       "1  2.845357  \n",
       "2  2.836937  \n",
       "3  2.832395  \n",
       "4  2.764479  \n",
       "5  2.745098  \n",
       "6  2.713178  "
      ]
     },
     "execution_count": 10,
     "metadata": {},
     "output_type": "execute_result"
    }
   ],
   "source": [
    "train.loc[(train.GP_H >= 100) & (train.GP_A >= 100)].sort_values('goalDisp', ascending=False).head(7).drop('GameID', 1).reset_index(drop=True)"
   ]
  },
  {
   "cell_type": "markdown",
   "metadata": {
    "id": "hTTTkPXaZKNX"
   },
   "source": [
    "## iii. Almost all games in the solution to part (i) come from the 2014 season (the first season in our dataset), but one comes from the 2017 season. In a few words, explain what is special about it\n",
    "\n",
    "For the game in 2017, Strasbourg played it's first game since being relegated in the 2007-08 season. Since the data we have starts in 2014, it is considered their first game in the data set, thus why the average point differential is so high.\n"
   ]
  },
  {
   "cell_type": "markdown",
   "metadata": {
    "id": "nisxXBu8fhbl"
   },
   "source": [
    "# 1b. Fit a logit model to predict the probability of the home team winning (draws count as non-wins) using only an intercept term."
   ]
  },
  {
   "cell_type": "code",
   "execution_count": 11,
   "metadata": {
    "colab": {
     "base_uri": "https://localhost:8080/",
     "height": 419
    },
    "id": "23oElvsPR_iD",
    "outputId": "02c55551-5b1e-45d3-cc7d-a5a994a2ead5"
   },
   "outputs": [],
   "source": [
    "df = pd.merge(df, df_pivot[['GameID', 'hAGD_H', 'hAGD_A']], how='left')\n",
    "train = df[df.Y < 18]\n",
    "test = df[df.Y == 18]"
   ]
  },
  {
   "cell_type": "code",
   "execution_count": 12,
   "metadata": {
    "colab": {
     "base_uri": "https://localhost:8080/",
     "height": 278
    },
    "id": "qPi9K-IOO-pW",
    "outputId": "25243dee-237b-4afe-f695-f030c5185016"
   },
   "outputs": [
    {
     "name": "stdout",
     "output_type": "stream",
     "text": [
      "Optimization terminated successfully.\n",
      "         Current function value: 0.689679\n",
      "         Iterations 3\n"
     ]
    },
    {
     "data": {
      "text/html": [
       "<table class=\"simpletable\">\n",
       "<caption>Logit Regression Results</caption>\n",
       "<tr>\n",
       "  <th>Dep. Variable:</th>        <td>homeWin</td>     <th>  No. Observations:  </th>  <td>  7304</td>  \n",
       "</tr>\n",
       "<tr>\n",
       "  <th>Model:</th>                 <td>Logit</td>      <th>  Df Residuals:      </th>  <td>  7303</td>  \n",
       "</tr>\n",
       "<tr>\n",
       "  <th>Method:</th>                 <td>MLE</td>       <th>  Df Model:          </th>  <td>     0</td>  \n",
       "</tr>\n",
       "<tr>\n",
       "  <th>Date:</th>            <td>Wed, 17 Feb 2021</td> <th>  Pseudo R-squ.:     </th> <td>4.042e-12</td>\n",
       "</tr>\n",
       "<tr>\n",
       "  <th>Time:</th>                <td>18:42:47</td>     <th>  Log-Likelihood:    </th> <td> -5037.4</td> \n",
       "</tr>\n",
       "<tr>\n",
       "  <th>converged:</th>             <td>True</td>       <th>  LL-Null:           </th> <td> -5037.4</td> \n",
       "</tr>\n",
       "<tr>\n",
       "  <th>Covariance Type:</th>     <td>nonrobust</td>    <th>  LLR p-value:       </th>  <td>   nan</td>  \n",
       "</tr>\n",
       "</table>\n",
       "<table class=\"simpletable\">\n",
       "<tr>\n",
       "      <td></td>         <th>coef</th>     <th>std err</th>      <th>z</th>      <th>P>|z|</th>  <th>[0.025</th>    <th>0.975]</th>  \n",
       "</tr>\n",
       "<tr>\n",
       "  <th>Intercept</th> <td>   -0.1669</td> <td>    0.023</td> <td>   -7.106</td> <td> 0.000</td> <td>   -0.213</td> <td>   -0.121</td>\n",
       "</tr>\n",
       "</table>"
      ],
      "text/plain": [
       "<class 'statsmodels.iolib.summary.Summary'>\n",
       "\"\"\"\n",
       "                           Logit Regression Results                           \n",
       "==============================================================================\n",
       "Dep. Variable:                homeWin   No. Observations:                 7304\n",
       "Model:                          Logit   Df Residuals:                     7303\n",
       "Method:                           MLE   Df Model:                            0\n",
       "Date:                Wed, 17 Feb 2021   Pseudo R-squ.:               4.042e-12\n",
       "Time:                        18:42:47   Log-Likelihood:                -5037.4\n",
       "converged:                       True   LL-Null:                       -5037.4\n",
       "Covariance Type:            nonrobust   LLR p-value:                       nan\n",
       "==============================================================================\n",
       "                 coef    std err          z      P>|z|      [0.025      0.975]\n",
       "------------------------------------------------------------------------------\n",
       "Intercept     -0.1669      0.023     -7.106      0.000      -0.213      -0.121\n",
       "==============================================================================\n",
       "\"\"\""
      ]
     },
     "execution_count": 12,
     "metadata": {},
     "output_type": "execute_result"
    }
   ],
   "source": [
    "result = smf.logit('homeWin ~ 1', data = train).fit()\n",
    "result.summary()"
   ]
  },
  {
   "cell_type": "markdown",
   "metadata": {
    "id": "-8snnuYPX9QW"
   },
   "source": [
    "## i. Report your coefficient value."
   ]
  },
  {
   "cell_type": "code",
   "execution_count": 13,
   "metadata": {
    "colab": {
     "base_uri": "https://localhost:8080/"
    },
    "id": "rCOXllTQWFqT",
    "outputId": "755dcf95-2c79-4b8c-fec3-1ac3fb7c615f"
   },
   "outputs": [
    {
     "name": "stdout",
     "output_type": "stream",
     "text": [
      "The coefficient is: -0.16687026113323677\n"
     ]
    }
   ],
   "source": [
    "print('The coefficient is:', result.params.values[0])"
   ]
  },
  {
   "cell_type": "markdown",
   "metadata": {
    "id": "sROwydZUYA8v"
   },
   "source": [
    "## ii. Report the Brier score of your out-of-sample predictions on 2018 (Y=18)"
   ]
  },
  {
   "cell_type": "code",
   "execution_count": 14,
   "metadata": {
    "colab": {
     "base_uri": "https://localhost:8080/"
    },
    "id": "bRVk5Uu-WQPy",
    "outputId": "e3629463-1916-40cb-d586-08f31f1b63c2"
   },
   "outputs": [
    {
     "name": "stdout",
     "output_type": "stream",
     "text": [
      "Brier Score: 0.2473559477379797\n"
     ]
    }
   ],
   "source": [
    "y_pred = result.predict(test)\n",
    "print('Brier Score:', brier_score_loss(test['homeWin'], y_pred))"
   ]
  },
  {
   "cell_type": "markdown",
   "metadata": {
    "id": "WRp_KusiYIL-"
   },
   "source": [
    "# 1c. The intercept coefficient from the previous part is negative. Does this imply there is no home field advantage? In other words, if home teams are favored, shouldn’t the intercept be positive?\n",
    "\n",
    "> The intercept and the logit model as a whole cannot be used to interpret probability. To do that we have to implement the expit function in order to translate the probabilities and whether or not there is home field advantage. Since the expit function exponentiates the values given to create a probability the resulting value will always be between 0 and 1. "
   ]
  },
  {
   "cell_type": "markdown",
   "metadata": {
    "id": "lwWw-KQXYJlt"
   },
   "source": [
    "# 1d. Repeat part (b) using the intercept, and the historical average goal differentials from each team as features (three features in total)"
   ]
  },
  {
   "cell_type": "code",
   "execution_count": 15,
   "metadata": {
    "colab": {
     "base_uri": "https://localhost:8080/",
     "height": 320
    },
    "id": "wtvGG_FBXnei",
    "outputId": "5215ff96-9e99-41b1-cc61-5504976b8fe0"
   },
   "outputs": [
    {
     "name": "stdout",
     "output_type": "stream",
     "text": [
      "Optimization terminated successfully.\n",
      "         Current function value: 0.630677\n",
      "         Iterations 5\n"
     ]
    },
    {
     "data": {
      "text/html": [
       "<table class=\"simpletable\">\n",
       "<caption>Logit Regression Results</caption>\n",
       "<tr>\n",
       "  <th>Dep. Variable:</th>        <td>homeWin</td>     <th>  No. Observations:  </th>   <td>  7304</td>  \n",
       "</tr>\n",
       "<tr>\n",
       "  <th>Model:</th>                 <td>Logit</td>      <th>  Df Residuals:      </th>   <td>  7301</td>  \n",
       "</tr>\n",
       "<tr>\n",
       "  <th>Method:</th>                 <td>MLE</td>       <th>  Df Model:          </th>   <td>     2</td>  \n",
       "</tr>\n",
       "<tr>\n",
       "  <th>Date:</th>            <td>Wed, 17 Feb 2021</td> <th>  Pseudo R-squ.:     </th>   <td>0.08555</td> \n",
       "</tr>\n",
       "<tr>\n",
       "  <th>Time:</th>                <td>18:42:47</td>     <th>  Log-Likelihood:    </th>  <td> -4606.5</td> \n",
       "</tr>\n",
       "<tr>\n",
       "  <th>converged:</th>             <td>True</td>       <th>  LL-Null:           </th>  <td> -5037.4</td> \n",
       "</tr>\n",
       "<tr>\n",
       "  <th>Covariance Type:</th>     <td>nonrobust</td>    <th>  LLR p-value:       </th> <td>6.933e-188</td>\n",
       "</tr>\n",
       "</table>\n",
       "<table class=\"simpletable\">\n",
       "<tr>\n",
       "      <td></td>         <th>coef</th>     <th>std err</th>      <th>z</th>      <th>P>|z|</th>  <th>[0.025</th>    <th>0.975]</th>  \n",
       "</tr>\n",
       "<tr>\n",
       "  <th>Intercept</th> <td>   -0.1791</td> <td>    0.025</td> <td>   -7.183</td> <td> 0.000</td> <td>   -0.228</td> <td>   -0.130</td>\n",
       "</tr>\n",
       "<tr>\n",
       "  <th>hAGD_H</th>    <td>    0.7853</td> <td>    0.039</td> <td>   20.128</td> <td> 0.000</td> <td>    0.709</td> <td>    0.862</td>\n",
       "</tr>\n",
       "<tr>\n",
       "  <th>hAGD_A</th>    <td>   -0.7619</td> <td>    0.040</td> <td>  -19.082</td> <td> 0.000</td> <td>   -0.840</td> <td>   -0.684</td>\n",
       "</tr>\n",
       "</table>"
      ],
      "text/plain": [
       "<class 'statsmodels.iolib.summary.Summary'>\n",
       "\"\"\"\n",
       "                           Logit Regression Results                           \n",
       "==============================================================================\n",
       "Dep. Variable:                homeWin   No. Observations:                 7304\n",
       "Model:                          Logit   Df Residuals:                     7301\n",
       "Method:                           MLE   Df Model:                            2\n",
       "Date:                Wed, 17 Feb 2021   Pseudo R-squ.:                 0.08555\n",
       "Time:                        18:42:47   Log-Likelihood:                -4606.5\n",
       "converged:                       True   LL-Null:                       -5037.4\n",
       "Covariance Type:            nonrobust   LLR p-value:                6.933e-188\n",
       "==============================================================================\n",
       "                 coef    std err          z      P>|z|      [0.025      0.975]\n",
       "------------------------------------------------------------------------------\n",
       "Intercept     -0.1791      0.025     -7.183      0.000      -0.228      -0.130\n",
       "hAGD_H         0.7853      0.039     20.128      0.000       0.709       0.862\n",
       "hAGD_A        -0.7619      0.040    -19.082      0.000      -0.840      -0.684\n",
       "==============================================================================\n",
       "\"\"\""
      ]
     },
     "execution_count": 15,
     "metadata": {},
     "output_type": "execute_result"
    }
   ],
   "source": [
    "result = smf.logit('homeWin ~ hAGD_H + hAGD_A + 1', data = train).fit()\n",
    "result.summary()"
   ]
  },
  {
   "cell_type": "code",
   "execution_count": 16,
   "metadata": {
    "colab": {
     "base_uri": "https://localhost:8080/"
    },
    "id": "tZuNWi_kWq4J",
    "outputId": "5ae5b8bc-18d9-454a-ccdf-4b98dc9ef3bf"
   },
   "outputs": [
    {
     "name": "stdout",
     "output_type": "stream",
     "text": [
      "The coefficients are: [-0.17910355  0.78534468 -0.76193982]\n"
     ]
    }
   ],
   "source": [
    "print('The coefficients are:', result.params.values)"
   ]
  },
  {
   "cell_type": "code",
   "execution_count": 17,
   "metadata": {
    "colab": {
     "base_uri": "https://localhost:8080/"
    },
    "id": "HF_m4CiwYktc",
    "outputId": "843b6c7f-e72c-4f62-b861-0a40dd070a74"
   },
   "outputs": [
    {
     "name": "stdout",
     "output_type": "stream",
     "text": [
      "Brier Score: 0.21726101075298782\n"
     ]
    }
   ],
   "source": [
    "y_pred = result.predict(test)\n",
    "print('Brier Score:', brier_score_loss(test['homeWin'], y_pred))"
   ]
  }
 ],
 "metadata": {
  "colab": {
   "authorship_tag": "ABX9TyPUFsHtjkCyhD/Pz/6Fpdvb",
   "name": "HW2_1.ipynb",
   "provenance": [],
   "toc_visible": true
  },
  "kernelspec": {
   "display_name": "Python 3",
   "language": "python",
   "name": "python3"
  },
  "language_info": {
   "codemirror_mode": {
    "name": "ipython",
    "version": 3
   },
   "file_extension": ".py",
   "mimetype": "text/x-python",
   "name": "python",
   "nbconvert_exporter": "python",
   "pygments_lexer": "ipython3",
   "version": "3.7.6"
  }
 },
 "nbformat": 4,
 "nbformat_minor": 1
}
