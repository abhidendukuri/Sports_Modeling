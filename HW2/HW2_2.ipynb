{
 "cells": [
  {
   "cell_type": "markdown",
   "metadata": {
    "colab_type": "text",
    "id": "view-in-github"
   },
   "source": [
    "<a href=\"https://colab.research.google.com/github/abhidendukuri/Sports_Modeling/blob/HW2/HW2_2.ipynb\" target=\"_parent\"><img src=\"https://colab.research.google.com/assets/colab-badge.svg\" alt=\"Open In Colab\"/></a>"
   ]
  },
  {
   "cell_type": "code",
   "execution_count": 1,
   "metadata": {
    "colab": {
     "base_uri": "https://localhost:8080/"
    },
    "id": "JU_AYrVBY4Cs",
    "outputId": "420e8640-cab1-43b4-d88a-f98c9b395e4c"
   },
   "outputs": [
    {
     "name": "stderr",
     "output_type": "stream",
     "text": [
      "/usr/local/lib/python3.6/dist-packages/statsmodels/tools/_testing.py:19: FutureWarning: pandas.util.testing is deprecated. Use the functions in the public API at pandas.testing instead.\n",
      "  import pandas.util.testing as tm\n"
     ]
    }
   ],
   "source": [
    "import pandas as pd\n",
    "import numpy as np\n",
    "import matplotlib.pyplot as plt\n",
    "\n",
    "import statsmodels.formula.api as smf\n",
    "import statsmodels.api as sm\n",
    "from scipy.special import logit, expit\n",
    "from sklearn.linear_model import LogisticRegression\n",
    "from sklearn.ensemble import RandomForestClassifier\n",
    "from sklearn.metrics import brier_score_loss\n",
    "\n",
    "import warnings\n",
    "warnings.filterwarnings('ignore')\n",
    "rng = np.random.default_rng(seed = 456)"
   ]
  },
  {
   "cell_type": "code",
   "execution_count": 2,
   "metadata": {
    "id": "Lnp6zQHuvOjB"
   },
   "outputs": [],
   "source": [
    "def forward_selection(data, target, significance_level=0.05):\n",
    "    initial_features = data.columns.tolist()\n",
    "    best_features = []\n",
    "    while (len(initial_features)>0):\n",
    "        remaining_features = list(set(initial_features)-set(best_features))\n",
    "        new_pval = pd.Series(index=remaining_features)\n",
    "        for new_column in remaining_features:\n",
    "            model = sm.OLS(target, sm.add_constant(data[best_features+[new_column]])).fit()\n",
    "            new_pval[new_column] = model.pvalues[new_column]\n",
    "        min_p_value = new_pval.min()\n",
    "        if(min_p_value<significance_level):\n",
    "            best_features.append(new_pval.idxmin())\n",
    "        else:\n",
    "            break\n",
    "    return best_features\n",
    "\n",
    "def backward_elimination(data, target,significance_level = 0.05):\n",
    "    features = data.columns.tolist()\n",
    "    while(len(features)>0):\n",
    "        features_with_constant = sm.add_constant(data[features])\n",
    "        p_values = sm.OLS(target, features_with_constant).fit().pvalues[1:]\n",
    "        max_p_value = p_values.max()\n",
    "        if(max_p_value >= significance_level):\n",
    "            excluded_feature = p_values.idxmax()\n",
    "            features.remove(excluded_feature)\n",
    "        else:\n",
    "            break \n",
    "    return features"
   ]
  },
  {
   "cell_type": "code",
   "execution_count": 3,
   "metadata": {
    "id": "GqUGlu5nKOil"
   },
   "outputs": [],
   "source": [
    "def to_df(X, y):\n",
    "  df = X.copy()\n",
    "  df['homeWin'] = y\n",
    "  return df\n",
    "\n",
    "def logit(X_train, y_train, X_test, y_test):\n",
    "  f = y_train.name + ' ~ ' + ' + '.join([col for col in X_train.columns])\n",
    "  result = smf.logit(f, data=to_df(X_train, y_train)).fit()\n",
    "  y_pred = result.predict(X_test)\n",
    "  return brier_score_loss(y_test, y_pred)\n",
    "\n",
    "def randomForest(X_train, y_train, X_test, y_test):\n",
    "  rf = RandomForestClassifier()\n",
    "  rf.fit(X_train, y_train)\n",
    "  y_pred = rf.predict_proba(X_test)[:, 1]\n",
    "  return brier_score_loss(y_test, y_pred)"
   ]
  },
  {
   "cell_type": "code",
   "execution_count": 4,
   "metadata": {
    "id": "vR153ApxY92S"
   },
   "outputs": [],
   "source": [
    "df = pd.read_csv('soccer18.csv', parse_dates = ['Date'])\n",
    "df = df.replace('Evian Thonon Gaillard', 'Evian')\n",
    "df['GameID'] = df.index\n",
    "df['PD_H'] = df.FTHG - df.FTAG\n",
    "df['PD_A'] = df.FTAG - df.FTHG\n",
    "df = df.sort_values('Date')"
   ]
  },
  {
   "cell_type": "markdown",
   "metadata": {
    "id": "w3-Si48Zcq6c"
   },
   "source": [
    "We can add a few metrics based off data we have to add dimensionality to the dataset.\n",
    "\n",
    "From Q1\n",
    "* h/a historical goal differential\n",
    "* absolute disparity\n",
    "\n",
    "\n"
   ]
  },
  {
   "cell_type": "code",
   "execution_count": 5,
   "metadata": {
    "id": "tRAxpk8scp4R"
   },
   "outputs": [],
   "source": [
    "df_melt = pd.melt(df, id_vars='GameID', value_vars=['HomeTeam', 'AwayTeam'], var_name='isHome', value_name='Team')\n",
    "df_melt['isHome'] = np.where(df_melt.isHome =='HomeTeam', 'H', 'A')\n",
    "df_melt2 = pd.melt(df, id_vars='GameID', value_vars=['PD_H', 'PD_A'], var_name='isHome', value_name='PD')\n",
    "df_melt2['isHome'] = np.where(df_melt2.isHome =='PD_H', 'H', 'A')\n",
    "df_merge = df_melt.merge(df_melt2, on=['GameID', 'isHome']).merge(df[['GameID', 'Date']], on='GameID').sort_values('Date')\n",
    "df_merge['hAGD'] = df_merge.groupby(['Team']).PD.transform(lambda x : x.expanding().mean().shift(1, fill_value = 0))\n",
    "df_pivot = df_merge.pivot(index='GameID', columns='isHome')\n",
    "df_pivot.columns = [f'{i}_{j}' for i, j in df_pivot.columns]\n",
    "df_pivot = df_pivot.reset_index()\n",
    "df_pivot = df[['GameID', 'Div', 'Y', 'HomeTeam', 'AwayTeam']].merge(\n",
    "    df_pivot[['GameID', 'hAGD_H', 'hAGD_A']], on='GameID')\n",
    "df = pd.merge(df, df_pivot[['GameID', 'hAGD_H', 'hAGD_A']], how='left')\n",
    "df['homeWin'] = 1*(df.FTHG > df.FTAG)"
   ]
  },
  {
   "cell_type": "code",
   "execution_count": 6,
   "metadata": {
    "id": "63a-BVLNic-6"
   },
   "outputs": [],
   "source": [
    "train = df[df.Y < 18]\n",
    "test = df[df.Y == 18]"
   ]
  },
  {
   "cell_type": "markdown",
   "metadata": {
    "id": "ww_XdaRRK-Zq"
   },
   "source": [
    "Using Question 1d Intercept + historical goal differential"
   ]
  },
  {
   "cell_type": "code",
   "execution_count": 7,
   "metadata": {
    "colab": {
     "base_uri": "https://localhost:8080/"
    },
    "id": "xIJBqyttghMB",
    "outputId": "fa15dadc-c01d-4c79-cd33-1956ffb487ea"
   },
   "outputs": [
    {
     "name": "stdout",
     "output_type": "stream",
     "text": [
      "Optimization terminated successfully.\n",
      "         Current function value: 0.630677\n",
      "         Iterations 5\n"
     ]
    },
    {
     "data": {
      "text/plain": [
       "0.21726101075298782"
      ]
     },
     "execution_count": 7,
     "metadata": {
      "tags": []
     },
     "output_type": "execute_result"
    }
   ],
   "source": [
    "result = smf.logit('homeWin ~ 1+hAGD_H+hAGD_A', data=train).fit()\n",
    "y_pred = result.predict(test)\n",
    "brier_score_loss(test['homeWin'], y_pred)"
   ]
  },
  {
   "cell_type": "markdown",
   "metadata": {
    "id": "nZRxDKBSqaQm"
   },
   "source": [
    "Here we have the baseline model with a brier score of **0.21727**"
   ]
  },
  {
   "cell_type": "code",
   "execution_count": 8,
   "metadata": {
    "id": "kVIv2k2lWODe"
   },
   "outputs": [],
   "source": [
    "X_train, y_train = df[df.Y < 18][['hAGD_H', 'hAGD_A']], df[df.Y < 18].homeWin\n",
    "X_test, y_test = df[df.Y == 18][['hAGD_H', 'hAGD_A']], df[df.Y == 18].homeWin"
   ]
  },
  {
   "cell_type": "code",
   "execution_count": 9,
   "metadata": {
    "colab": {
     "base_uri": "https://localhost:8080/"
    },
    "id": "Azen48BOnp0l",
    "outputId": "c2465f86-2f58-43ee-e348-c2fdb2f7015f"
   },
   "outputs": [
    {
     "name": "stdout",
     "output_type": "stream",
     "text": [
      "Random forest brier score: 0.26095649642657215\n"
     ]
    }
   ],
   "source": [
    "bsl = randomForest(X_train, y_train, X_test, y_test)\n",
    "print('Random forest brier score:', bsl)"
   ]
  },
  {
   "cell_type": "markdown",
   "metadata": {
    "id": "okbM26InrSDF"
   },
   "source": [
    "Now we have the baseline model, we can add more features with the other available columns of data (HS/AS, HST/AST, home_xG/away_xG). Since these stats are only calculated during/after the game, we can convert this data into historical features like we did the goal differentials."
   ]
  },
  {
   "cell_type": "code",
   "execution_count": 10,
   "metadata": {
    "id": "j10YTS1OiFdQ"
   },
   "outputs": [],
   "source": [
    "df['STD_H'] = df.HST - df.AST\n",
    "df['STD_A'] = df.AST - df.HST\n",
    "df['xGD_H'] = df.home_xG - df.away_xG\n",
    "df['xGD_A'] = df.away_xG - df.home_xG"
   ]
  },
  {
   "cell_type": "code",
   "execution_count": 11,
   "metadata": {
    "id": "0GGsGUwjdjnS"
   },
   "outputs": [],
   "source": [
    "df_melt3 = pd.melt(df, id_vars='GameID', value_vars=['xGD_H', 'xGD_A'], var_name='isHome', value_name='xGD')\n",
    "df_melt3['isHome'] = np.where(df_melt3.isHome =='xGD_H', 'H', 'A')\n",
    "df_merge = df_melt.merge(df_melt3, on=['GameID', 'isHome']).merge(df[['GameID', 'Date', 'Y']], on='GameID').sort_values('Date')\n",
    "df_merge['hxGD'] = df_merge.groupby(['Team', 'Y']).xGD.transform(lambda x : x.expanding().mean().shift(1, fill_value = 0))\n",
    "df_pivot = df_merge.pivot(index='GameID', columns='isHome')\n",
    "df_pivot.columns = [f'{i}_{j}' for i, j in df_pivot.columns]\n",
    "df_pivot = df_pivot.reset_index()\n",
    "df_pivot = df[['GameID', 'Div', 'Y', 'HomeTeam', 'AwayTeam']].merge(df_pivot[['GameID', 'hxGD_H', 'hxGD_A']], on='GameID')\n",
    "df = pd.merge(df, df_pivot[['GameID', 'hxGD_H', 'hxGD_A']], how='left')"
   ]
  },
  {
   "cell_type": "code",
   "execution_count": 12,
   "metadata": {
    "id": "qhN9RVL-gQmi"
   },
   "outputs": [],
   "source": [
    "df_melt4 = pd.melt(df, id_vars='GameID', value_vars=['STD_H', 'STD_A'], var_name='isHome', value_name='STD')\n",
    "df_melt4['isHome'] = np.where(df_melt4.isHome =='STD_H', 'H', 'A')\n",
    "df_merge = df_melt.merge(df_melt4, on=['GameID', 'isHome']).merge(df[['GameID', 'Date', 'Y']], on='GameID').sort_values('Date')\n",
    "df_merge['hST'] = df_merge.groupby(['Team', 'Y']).STD.transform(lambda x : x.expanding().mean().shift(1, fill_value = 0))\n",
    "df_pivot = df_merge.pivot(index='GameID', columns='isHome')\n",
    "df_pivot.columns = [f'{i}_{j}' for i, j in df_pivot.columns]\n",
    "df_pivot = df_pivot.reset_index()\n",
    "df_pivot = df[['GameID', 'Div', 'Y', 'HomeTeam', 'AwayTeam']].merge(df_pivot[['GameID', 'hST_H', 'hST_A']], on='GameID')\n",
    "df = pd.merge(df, df_pivot[['GameID', 'hST_H', 'hST_A']], how='left')"
   ]
  },
  {
   "cell_type": "code",
   "execution_count": 13,
   "metadata": {
    "id": "iXFvw1Hfjb4g"
   },
   "outputs": [],
   "source": [
    "# Drop all game and post game stats\n",
    "pgs = ['FTHG', 'FTAG', 'HTHG', 'HTAG', 'HS', 'AS', 'HST', 'AST', 'home_xG', 'away_xG', 'PD_H', 'PD_A', 'STD_H', 'STD_A', 'xGD_H', 'xGD_A']\n",
    "df_hs = df.drop(pgs, 1)"
   ]
  },
  {
   "cell_type": "code",
   "execution_count": 14,
   "metadata": {
    "id": "VxogvQtUl8xw"
   },
   "outputs": [],
   "source": [
    "# Drop GameID and Y after train/test splits\n",
    "X_train, y_train = df_hs[df.Y < 18].drop('homeWin', 1), df_hs[df.Y < 18].homeWin\n",
    "X_test, y_test = df_hs[df.Y == 18].drop('homeWin', 1), df_hs[df.Y == 18].homeWin\n",
    "X_train = X_train.drop(['GameID', 'Y'], 1).select_dtypes(include=np.number)\n",
    "X_test = X_test.drop(['GameID', 'Y'], 1).select_dtypes(include=np.number)"
   ]
  },
  {
   "cell_type": "code",
   "execution_count": 15,
   "metadata": {
    "colab": {
     "base_uri": "https://localhost:8080/"
    },
    "id": "sGzMMmJIY0NM",
    "outputId": "c7b916b7-7b7e-4d18-f124-e3947044b6cd"
   },
   "outputs": [
    {
     "data": {
      "text/plain": [
       "0.22452999892117875"
      ]
     },
     "execution_count": 15,
     "metadata": {
      "tags": []
     },
     "output_type": "execute_result"
    }
   ],
   "source": [
    "randomForest(X_train, y_train, X_test, y_test)"
   ]
  },
  {
   "cell_type": "code",
   "execution_count": 16,
   "metadata": {
    "colab": {
     "base_uri": "https://localhost:8080/"
    },
    "id": "TmU8yiA1XaxC",
    "outputId": "af6d71cf-a5c3-44f3-d431-9b28327488e4"
   },
   "outputs": [
    {
     "name": "stdout",
     "output_type": "stream",
     "text": [
      "Optimization terminated successfully.\n",
      "         Current function value: 0.623677\n",
      "         Iterations 5\n"
     ]
    },
    {
     "data": {
      "text/plain": [
       "0.21519929870245788"
      ]
     },
     "execution_count": 16,
     "metadata": {
      "tags": []
     },
     "output_type": "execute_result"
    }
   ],
   "source": [
    "logit(X_train, y_train, X_test, y_test)"
   ]
  },
  {
   "cell_type": "markdown",
   "metadata": {
    "id": "bETeIQmZkK8X"
   },
   "source": [
    "Let's add a few more metrics using available data\n",
    "* Home Shot Quantity = FTHG / HS\n",
    "* Home Shot Quality = FTHG / HST\n",
    "* Away Shot Quantity = FTAG / AS\n",
    "* Away Shot Quality = FTAG / AST\n",
    "* Home Win Percentage = $\\frac{\\sum I \\cdot \\text{homeWin}}{total games}$\n",
    "\n",
    "Because these are fractions, there will be NaN values. If there are zero total shots and/or shots on target but a goal was scored for home/away respectively, we can interpret that as self goals. Therefore the shot quantity/quality percentage can be 0%"
   ]
  },
  {
   "cell_type": "code",
   "execution_count": 17,
   "metadata": {
    "id": "RbjY0epOoDNZ"
   },
   "outputs": [],
   "source": [
    "# Create Shot Quantity and Shot Quality columns for Home/Away\n",
    "df['shotQntD_H'] = df.FTHG / df.HS\n",
    "df['shotQntD_A'] = df.FTAG / df.AS\n",
    "df['shotQltD_H'] = df.FTHG / df.HST\n",
    "df['shotQltD_A'] = df.FTAG / df.AST\n",
    "\n",
    "# Fill the percentages with 0 if Shots / Shots on Target are equal to zero\n",
    "df = df.fillna(0)"
   ]
  },
  {
   "cell_type": "code",
   "execution_count": 18,
   "metadata": {
    "id": "jl94mCo8rSlE"
   },
   "outputs": [],
   "source": [
    "# Replace the columns values with the difference of home/away\n",
    "df['shotQntD_H'] = df.shotQntD_H - df.shotQntD_A\n",
    "df['shotQntD_A'] = df.shotQntD_A - df.shotQntD_H\n",
    "df['shotQltD_H'] = df.shotQltD_H - df.shotQltD_A\n",
    "df['shotQltD_A'] = df.shotQltD_A - df.shotQltD_H"
   ]
  },
  {
   "cell_type": "code",
   "execution_count": 19,
   "metadata": {
    "id": "2RHRrKBksH_i"
   },
   "outputs": [],
   "source": [
    "df_melt5 = pd.melt(df, id_vars='GameID', value_vars=['shotQntD_H', 'shotQntD_A'], var_name='isHome', value_name='sQntD')\n",
    "df_melt5['isHome'] = np.where(df_melt5.isHome =='shotQntD_H', 'H', 'A')\n",
    "df_merge = df_melt.merge(df_melt5, on=['GameID', 'isHome']).merge(df[['GameID', 'Date', 'Y']], on='GameID').sort_values('Date')\n",
    "df_merge['hsQntD'] = df_merge.groupby(['Team', 'Y']).sQntD.transform(lambda x : x.expanding().mean().shift(1, fill_value = 0))\n",
    "df_pivot = df_merge.pivot(index='GameID', columns='isHome')\n",
    "df_pivot.columns = [f'{i}_{j}' for i, j in df_pivot.columns]\n",
    "df_pivot = df_pivot.reset_index()\n",
    "df_pivot = df[['GameID', 'Div', 'Y', 'HomeTeam', 'AwayTeam']].merge(df_pivot[['GameID', 'hsQntD_H', 'hsQntD_A']], on='GameID')\n",
    "df = pd.merge(df, df_pivot[['GameID', 'hsQntD_H', 'hsQntD_A']], how='left')"
   ]
  },
  {
   "cell_type": "code",
   "execution_count": 20,
   "metadata": {
    "id": "wbxQXtxdsqL0"
   },
   "outputs": [],
   "source": [
    "df_melt6 = pd.melt(df, id_vars='GameID', value_vars=['shotQltD_H', 'shotQltD_A'], var_name='isHome', value_name='sQltD')\n",
    "df_melt6['isHome'] = np.where(df_melt6.isHome =='shotQltD_H', 'H', 'A')\n",
    "df_merge = df_melt.merge(df_melt6, on=['GameID', 'isHome']).merge(df[['GameID', 'Date', 'Y']], on='GameID').sort_values('Date')\n",
    "df_merge['hsQltD'] = df_merge.groupby(['Team', 'Y']).sQltD.transform(lambda x : x.expanding().mean().shift(1, fill_value = 0))\n",
    "df_pivot = df_merge.pivot(index='GameID', columns='isHome')\n",
    "df_pivot.columns = [f'{i}_{j}' for i, j in df_pivot.columns]\n",
    "df_pivot = df_pivot.reset_index()\n",
    "df_pivot = df[['GameID', 'Div', 'Y', 'HomeTeam', 'AwayTeam']].merge(df_pivot[['GameID', 'hsQltD_H', 'hsQltD_A']], on='GameID')\n",
    "df = pd.merge(df, df_pivot[['GameID', 'hsQltD_H', 'hsQltD_A']], how='left')"
   ]
  },
  {
   "cell_type": "code",
   "execution_count": 21,
   "metadata": {
    "colab": {
     "base_uri": "https://localhost:8080/",
     "height": 609
    },
    "id": "nWgntgc_tXvt",
    "outputId": "fc937bca-7816-40f6-8a7c-a8fbb3d460e6"
   },
   "outputs": [
    {
     "data": {
      "text/html": [
       "<div>\n",
       "<style scoped>\n",
       "    .dataframe tbody tr th:only-of-type {\n",
       "        vertical-align: middle;\n",
       "    }\n",
       "\n",
       "    .dataframe tbody tr th {\n",
       "        vertical-align: top;\n",
       "    }\n",
       "\n",
       "    .dataframe thead th {\n",
       "        text-align: right;\n",
       "    }\n",
       "</style>\n",
       "<table border=\"1\" class=\"dataframe\">\n",
       "  <thead>\n",
       "    <tr style=\"text-align: right;\">\n",
       "      <th></th>\n",
       "      <th>Div</th>\n",
       "      <th>Date</th>\n",
       "      <th>Y</th>\n",
       "      <th>HomeTeam</th>\n",
       "      <th>AwayTeam</th>\n",
       "      <th>GameID</th>\n",
       "      <th>hAGD_H</th>\n",
       "      <th>hAGD_A</th>\n",
       "      <th>homeWin</th>\n",
       "      <th>hxGD_H</th>\n",
       "      <th>hxGD_A</th>\n",
       "      <th>hST_H</th>\n",
       "      <th>hST_A</th>\n",
       "      <th>hsQntD_H</th>\n",
       "      <th>hsQntD_A</th>\n",
       "      <th>hsQltD_H</th>\n",
       "      <th>hsQltD_A</th>\n",
       "      <th>home_win_pct</th>\n",
       "    </tr>\n",
       "  </thead>\n",
       "  <tbody>\n",
       "    <tr>\n",
       "      <th>0</th>\n",
       "      <td>Ligue_1</td>\n",
       "      <td>2014-08-08</td>\n",
       "      <td>14</td>\n",
       "      <td>Reims</td>\n",
       "      <td>Paris SG</td>\n",
       "      <td>5306</td>\n",
       "      <td>0.000000</td>\n",
       "      <td>0.000000</td>\n",
       "      <td>0</td>\n",
       "      <td>0.000000</td>\n",
       "      <td>0.000000</td>\n",
       "      <td>0.000000</td>\n",
       "      <td>0.000000</td>\n",
       "      <td>0.000000</td>\n",
       "      <td>0.000000</td>\n",
       "      <td>0.000000</td>\n",
       "      <td>0.000000</td>\n",
       "      <td>0.000000</td>\n",
       "    </tr>\n",
       "    <tr>\n",
       "      <th>1</th>\n",
       "      <td>Ligue_1</td>\n",
       "      <td>2014-08-09</td>\n",
       "      <td>14</td>\n",
       "      <td>Nice</td>\n",
       "      <td>Toulouse</td>\n",
       "      <td>5313</td>\n",
       "      <td>0.000000</td>\n",
       "      <td>0.000000</td>\n",
       "      <td>1</td>\n",
       "      <td>0.000000</td>\n",
       "      <td>0.000000</td>\n",
       "      <td>0.000000</td>\n",
       "      <td>0.000000</td>\n",
       "      <td>0.000000</td>\n",
       "      <td>0.000000</td>\n",
       "      <td>0.000000</td>\n",
       "      <td>0.000000</td>\n",
       "      <td>0.000000</td>\n",
       "    </tr>\n",
       "    <tr>\n",
       "      <th>2</th>\n",
       "      <td>Ligue_1</td>\n",
       "      <td>2014-08-09</td>\n",
       "      <td>14</td>\n",
       "      <td>Nantes</td>\n",
       "      <td>Lens</td>\n",
       "      <td>5312</td>\n",
       "      <td>0.000000</td>\n",
       "      <td>0.000000</td>\n",
       "      <td>1</td>\n",
       "      <td>0.000000</td>\n",
       "      <td>0.000000</td>\n",
       "      <td>0.000000</td>\n",
       "      <td>0.000000</td>\n",
       "      <td>0.000000</td>\n",
       "      <td>0.000000</td>\n",
       "      <td>0.000000</td>\n",
       "      <td>0.000000</td>\n",
       "      <td>0.000000</td>\n",
       "    </tr>\n",
       "    <tr>\n",
       "      <th>3</th>\n",
       "      <td>Ligue_1</td>\n",
       "      <td>2014-08-09</td>\n",
       "      <td>14</td>\n",
       "      <td>Montpellier</td>\n",
       "      <td>Bordeaux</td>\n",
       "      <td>5311</td>\n",
       "      <td>0.000000</td>\n",
       "      <td>0.000000</td>\n",
       "      <td>0</td>\n",
       "      <td>0.000000</td>\n",
       "      <td>0.000000</td>\n",
       "      <td>0.000000</td>\n",
       "      <td>0.000000</td>\n",
       "      <td>0.000000</td>\n",
       "      <td>0.000000</td>\n",
       "      <td>0.000000</td>\n",
       "      <td>0.000000</td>\n",
       "      <td>0.000000</td>\n",
       "    </tr>\n",
       "    <tr>\n",
       "      <th>4</th>\n",
       "      <td>Ligue_1</td>\n",
       "      <td>2014-08-09</td>\n",
       "      <td>14</td>\n",
       "      <td>Bastia</td>\n",
       "      <td>Marseille</td>\n",
       "      <td>5307</td>\n",
       "      <td>0.000000</td>\n",
       "      <td>0.000000</td>\n",
       "      <td>0</td>\n",
       "      <td>0.000000</td>\n",
       "      <td>0.000000</td>\n",
       "      <td>0.000000</td>\n",
       "      <td>0.000000</td>\n",
       "      <td>0.000000</td>\n",
       "      <td>0.000000</td>\n",
       "      <td>0.000000</td>\n",
       "      <td>0.000000</td>\n",
       "      <td>0.000000</td>\n",
       "    </tr>\n",
       "    <tr>\n",
       "      <th>...</th>\n",
       "      <td>...</td>\n",
       "      <td>...</td>\n",
       "      <td>...</td>\n",
       "      <td>...</td>\n",
       "      <td>...</td>\n",
       "      <td>...</td>\n",
       "      <td>...</td>\n",
       "      <td>...</td>\n",
       "      <td>...</td>\n",
       "      <td>...</td>\n",
       "      <td>...</td>\n",
       "      <td>...</td>\n",
       "      <td>...</td>\n",
       "      <td>...</td>\n",
       "      <td>...</td>\n",
       "      <td>...</td>\n",
       "      <td>...</td>\n",
       "      <td>...</td>\n",
       "    </tr>\n",
       "    <tr>\n",
       "      <th>9125</th>\n",
       "      <td>Serie_A</td>\n",
       "      <td>2019-05-26</td>\n",
       "      <td>18</td>\n",
       "      <td>Fiorentina</td>\n",
       "      <td>Genoa</td>\n",
       "      <td>9080</td>\n",
       "      <td>0.259259</td>\n",
       "      <td>-0.222222</td>\n",
       "      <td>0</td>\n",
       "      <td>0.265487</td>\n",
       "      <td>-0.313340</td>\n",
       "      <td>1.189189</td>\n",
       "      <td>-1.081081</td>\n",
       "      <td>0.034188</td>\n",
       "      <td>0.019620</td>\n",
       "      <td>0.138975</td>\n",
       "      <td>0.093488</td>\n",
       "      <td>0.277778</td>\n",
       "    </tr>\n",
       "    <tr>\n",
       "      <th>9126</th>\n",
       "      <td>Serie_A</td>\n",
       "      <td>2019-05-26</td>\n",
       "      <td>18</td>\n",
       "      <td>Inter</td>\n",
       "      <td>Empoli</td>\n",
       "      <td>9081</td>\n",
       "      <td>0.555556</td>\n",
       "      <td>-0.430464</td>\n",
       "      <td>1</td>\n",
       "      <td>0.732493</td>\n",
       "      <td>-0.278262</td>\n",
       "      <td>1.945946</td>\n",
       "      <td>-1.810811</td>\n",
       "      <td>0.130969</td>\n",
       "      <td>0.037091</td>\n",
       "      <td>0.223951</td>\n",
       "      <td>0.027068</td>\n",
       "      <td>0.555556</td>\n",
       "    </tr>\n",
       "    <tr>\n",
       "      <th>9127</th>\n",
       "      <td>Serie_A</td>\n",
       "      <td>2019-05-26</td>\n",
       "      <td>18</td>\n",
       "      <td>Roma</td>\n",
       "      <td>Parma</td>\n",
       "      <td>9082</td>\n",
       "      <td>0.883598</td>\n",
       "      <td>-0.813333</td>\n",
       "      <td>1</td>\n",
       "      <td>0.404511</td>\n",
       "      <td>-0.628353</td>\n",
       "      <td>1.756757</td>\n",
       "      <td>-3.135135</td>\n",
       "      <td>0.092146</td>\n",
       "      <td>0.122316</td>\n",
       "      <td>0.136268</td>\n",
       "      <td>0.202230</td>\n",
       "      <td>0.611111</td>\n",
       "    </tr>\n",
       "    <tr>\n",
       "      <th>9128</th>\n",
       "      <td>Serie_A</td>\n",
       "      <td>2019-05-26</td>\n",
       "      <td>18</td>\n",
       "      <td>Sampdoria</td>\n",
       "      <td>Juventus</td>\n",
       "      <td>9083</td>\n",
       "      <td>-0.052910</td>\n",
       "      <td>1.359788</td>\n",
       "      <td>1</td>\n",
       "      <td>-0.034591</td>\n",
       "      <td>0.802564</td>\n",
       "      <td>0.783784</td>\n",
       "      <td>2.459459</td>\n",
       "      <td>0.146211</td>\n",
       "      <td>0.177717</td>\n",
       "      <td>0.199632</td>\n",
       "      <td>0.282999</td>\n",
       "      <td>0.500000</td>\n",
       "    </tr>\n",
       "    <tr>\n",
       "      <th>9129</th>\n",
       "      <td>Serie_A</td>\n",
       "      <td>2019-05-26</td>\n",
       "      <td>18</td>\n",
       "      <td>Spal</td>\n",
       "      <td>Milan</td>\n",
       "      <td>9084</td>\n",
       "      <td>-0.413333</td>\n",
       "      <td>0.296296</td>\n",
       "      <td>0</td>\n",
       "      <td>-0.253420</td>\n",
       "      <td>0.246284</td>\n",
       "      <td>-1.297297</td>\n",
       "      <td>1.405405</td>\n",
       "      <td>0.066654</td>\n",
       "      <td>0.089337</td>\n",
       "      <td>0.119181</td>\n",
       "      <td>0.082793</td>\n",
       "      <td>0.277778</td>\n",
       "    </tr>\n",
       "  </tbody>\n",
       "</table>\n",
       "<p>9130 rows × 18 columns</p>\n",
       "</div>"
      ],
      "text/plain": [
       "          Div       Date   Y  ...  hsQltD_H  hsQltD_A  home_win_pct\n",
       "0     Ligue_1 2014-08-08  14  ...  0.000000  0.000000      0.000000\n",
       "1     Ligue_1 2014-08-09  14  ...  0.000000  0.000000      0.000000\n",
       "2     Ligue_1 2014-08-09  14  ...  0.000000  0.000000      0.000000\n",
       "3     Ligue_1 2014-08-09  14  ...  0.000000  0.000000      0.000000\n",
       "4     Ligue_1 2014-08-09  14  ...  0.000000  0.000000      0.000000\n",
       "...       ...        ...  ..  ...       ...       ...           ...\n",
       "9125  Serie_A 2019-05-26  18  ...  0.138975  0.093488      0.277778\n",
       "9126  Serie_A 2019-05-26  18  ...  0.223951  0.027068      0.555556\n",
       "9127  Serie_A 2019-05-26  18  ...  0.136268  0.202230      0.611111\n",
       "9128  Serie_A 2019-05-26  18  ...  0.199632  0.282999      0.500000\n",
       "9129  Serie_A 2019-05-26  18  ...  0.119181  0.082793      0.277778\n",
       "\n",
       "[9130 rows x 18 columns]"
      ]
     },
     "execution_count": 21,
     "metadata": {
      "tags": []
     },
     "output_type": "execute_result"
    }
   ],
   "source": [
    "df_hs = df_hs.merge(df[['GameID', 'hsQntD_H', 'hsQntD_A', 'hsQltD_H', 'hsQltD_A']], how='left')\n",
    "# Create Home Win Percentage Column\n",
    "hw = df_hs.groupby(['HomeTeam', 'Y']).homeWin.transform(lambda x : x.expanding().sum().shift(1, fill_value = 0))\n",
    "hg = df_hs.groupby(['HomeTeam', 'Y']).homeWin.transform(lambda x : x.expanding().count().shift(1, fill_value = 0))\n",
    "\n",
    "df_hs['home_win_pct'] = hw / hg\n",
    "df_hs = df_hs.fillna(0)\n",
    "df_hs"
   ]
  },
  {
   "cell_type": "code",
   "execution_count": 22,
   "metadata": {
    "id": "MDX59nBTuZE0"
   },
   "outputs": [],
   "source": [
    "# Drop GameID and Y after train/test splits\n",
    "X_train, y_train = df_hs[df.Y < 18].drop('homeWin', 1), df_hs[df.Y < 18].homeWin\n",
    "X_test, y_test = df_hs[df.Y == 18].drop('homeWin', 1), df_hs[df.Y == 18].homeWin\n",
    "X_train = X_train.drop(['GameID', 'Y'], 1).select_dtypes(include=np.number)\n",
    "X_test = X_test.drop(['GameID', 'Y'], 1).select_dtypes(include=np.number)"
   ]
  },
  {
   "cell_type": "code",
   "execution_count": 23,
   "metadata": {
    "colab": {
     "base_uri": "https://localhost:8080/"
    },
    "id": "07JkbudHysWt",
    "outputId": "4dcb179f-8c38-4de5-cd3b-9d7d661fb2eb"
   },
   "outputs": [
    {
     "name": "stdout",
     "output_type": "stream",
     "text": [
      "Optimization terminated successfully.\n",
      "         Current function value: 0.623616\n",
      "         Iterations 5\n"
     ]
    }
   ],
   "source": [
    "lr_bsl = logit(X_train, y_train, X_test, y_test)"
   ]
  },
  {
   "cell_type": "code",
   "execution_count": 24,
   "metadata": {
    "id": "8mY5s51EufKN"
   },
   "outputs": [],
   "source": [
    "rf_bsl = randomForest(X_train, y_train, X_test, y_test)"
   ]
  },
  {
   "cell_type": "markdown",
   "metadata": {
    "id": "4cakuzN6nMjS"
   },
   "source": [
    "Even after all the operations we went through, the random forest model without hyperparameter tuning does not perform better than the logit. From here, I will create a validation set using Y=17 from the training data and perform a Grid Search to optimize the hyperparameters in order to boost performance."
   ]
  },
  {
   "cell_type": "code",
   "execution_count": 25,
   "metadata": {
    "id": "p6rg205rnsvz"
   },
   "outputs": [],
   "source": [
    "# Create validation splits along with training and testing\n",
    "X_train, y_train = df_hs[df.Y < 17].drop('homeWin', 1), df_hs[df.Y < 17].homeWin\n",
    "X_val, y_val = df_hs[df.Y == 17].drop('homeWin', 1), df_hs[df.Y == 17].homeWin\n",
    "X_test, y_test = df_hs[df.Y == 18].drop('homeWin', 1), df_hs[df.Y == 18].homeWin\n",
    "\n",
    "X_train = X_train.drop(['GameID', 'Y'], 1).select_dtypes(include=np.number)\n",
    "X_val = X_val.drop(['GameID', 'Y'], 1).select_dtypes(include=np.number)\n",
    "X_test = X_test.drop(['GameID', 'Y'], 1).select_dtypes(include=np.number)"
   ]
  },
  {
   "cell_type": "code",
   "execution_count": 26,
   "metadata": {
    "colab": {
     "base_uri": "https://localhost:8080/"
    },
    "id": "m0JgKZr39yQV",
    "outputId": "ad18416a-0753-43c2-bcdd-df68db36f3b6"
   },
   "outputs": [
    {
     "data": {
      "text/plain": [
       "{'max_depth': 5, 'n_estimators': 500}"
      ]
     },
     "execution_count": 26,
     "metadata": {
      "tags": []
     },
     "output_type": "execute_result"
    }
   ],
   "source": [
    "from sklearn.model_selection import GridSearchCV\n",
    "\n",
    "param_grid = { \n",
    "    'n_estimators': [100, 200, 500],\n",
    "    'max_depth' : [1, 3, 5, 7]\n",
    "}\n",
    "\n",
    "rf_CV = GridSearchCV(estimator=RandomForestClassifier(), param_grid=param_grid, scoring = 'neg_brier_score', cv=4)\n",
    "rf_CV.fit(X_val, y_val)\n",
    "rf_CV.best_params_"
   ]
  },
  {
   "cell_type": "code",
   "execution_count": 27,
   "metadata": {
    "id": "SoZOlU0C-dAo"
   },
   "outputs": [],
   "source": [
    "rf = RandomForestClassifier(max_depth=5, n_estimators=200)\n",
    "rf.fit(X_train, y_train)\n",
    "y_pred = rf.predict_proba(X_test)[:, 1]\n",
    "rf_GS_bsl = brier_score_loss(y_test, y_pred)"
   ]
  },
  {
   "cell_type": "code",
   "execution_count": 28,
   "metadata": {
    "id": "KUOLitWs2-U4"
   },
   "outputs": [],
   "source": [
    "# Implementing forward and backward selection\n",
    "fs = forward_selection(X_train, y_train)\n",
    "bs = backward_elimination(X_train, y_train)"
   ]
  },
  {
   "cell_type": "code",
   "execution_count": 29,
   "metadata": {
    "colab": {
     "base_uri": "https://localhost:8080/"
    },
    "id": "94Du_CPw4D7j",
    "outputId": "31ad7a93-ab7e-4a7a-a9b3-76b43e996fe4"
   },
   "outputs": [
    {
     "name": "stdout",
     "output_type": "stream",
     "text": [
      "Optimization terminated successfully.\n",
      "         Current function value: 0.628785\n",
      "         Iterations 5\n",
      "Optimization terminated successfully.\n",
      "         Current function value: 0.628785\n",
      "         Iterations 5\n"
     ]
    }
   ],
   "source": [
    "lr_bsl_fs = logit(X_train[fs], y_train, X_test[fs], y_test)\n",
    "rf_bsl_fs = randomForest(X_train[fs], y_train, X_test[fs], y_test)\n",
    "lr_bsl_bs = logit(X_train[bs], y_train, X_test[bs], y_test)\n",
    "rf_bsl_bs = randomForest(X_train[bs], y_train, X_test[bs], y_test)"
   ]
  },
  {
   "cell_type": "code",
   "execution_count": 30,
   "metadata": {
    "colab": {
     "base_uri": "https://localhost:8080/"
    },
    "id": "mI8Xn89t4x-A",
    "outputId": "297f4ea3-8b65-47c0-a22b-b2c0cb4d0d13"
   },
   "outputs": [
    {
     "data": {
      "text/plain": [
       "(0.21540507985187357, 0.2279123860912145)"
      ]
     },
     "execution_count": 30,
     "metadata": {
      "tags": []
     },
     "output_type": "execute_result"
    }
   ],
   "source": [
    "lr_bsl_fs, rf_bsl_fs"
   ]
  },
  {
   "cell_type": "code",
   "execution_count": 31,
   "metadata": {
    "colab": {
     "base_uri": "https://localhost:8080/"
    },
    "id": "5UcKLipc5A5A",
    "outputId": "91910b38-0fbe-415c-b3e7-ccc7e21e2b91"
   },
   "outputs": [
    {
     "data": {
      "text/plain": [
       "(0.21540507985187352, 0.2304679629872942)"
      ]
     },
     "execution_count": 31,
     "metadata": {
      "tags": []
     },
     "output_type": "execute_result"
    }
   ],
   "source": [
    "lr_bsl_bs, rf_bsl_bs"
   ]
  },
  {
   "cell_type": "code",
   "execution_count": 32,
   "metadata": {
    "colab": {
     "base_uri": "https://localhost:8080/",
     "height": 338
    },
    "id": "M_Wyy9tKQs-F",
    "outputId": "6e2fdbff-8294-4940-a1ef-63d8f79df847"
   },
   "outputs": [
    {
     "data": {
      "text/plain": [
       "<BarContainer object of 11 artists>"
      ]
     },
     "execution_count": 32,
     "metadata": {
      "tags": []
     },
     "output_type": "execute_result"
    },
    {
     "data": {
      "image/png": "[encoded data removed]",
      "text/plain": [
       "<Figure size 1296x360 with 1 Axes>"
      ]
     },
     "metadata": {
      "needs_background": "light",
      "tags": []
     },
     "output_type": "display_data"
    }
   ],
   "source": [
    "importances = pd.DataFrame(list(zip(X_train.columns, rf.feature_importances_)), columns = ['attribute', 'importance'])\n",
    "sorted_imp = importances.sort_values('importance')\n",
    "plt.figure(figsize=(18,5))\n",
    "plt.bar(sorted_imp['attribute'], sorted_imp['importance'])"
   ]
  },
  {
   "cell_type": "code",
   "execution_count": 33,
   "metadata": {
    "colab": {
     "base_uri": "https://localhost:8080/"
    },
    "id": "aKFPA9E_Q6Xa",
    "outputId": "ce4268d5-3863-4e90-8af5-b2f5a3ec8877"
   },
   "outputs": [
    {
     "name": "stdout",
     "output_type": "stream",
     "text": [
      "Optimization terminated successfully.\n",
      "         Current function value: 0.628655\n",
      "         Iterations 5\n"
     ]
    }
   ],
   "source": [
    "bf = sorted_imp[5:].attribute.values\n",
    "lr_bsl_bf = logit(X_train[bf], y_train, X_test[bf], y_test)\n",
    "rf_bsl_bf = randomForest(X_train[bf], y_train, X_test[bf], y_test)"
   ]
  },
  {
   "cell_type": "code",
   "execution_count": 34,
   "metadata": {
    "colab": {
     "base_uri": "https://localhost:8080/"
    },
    "id": "tELOOTnJRbww",
    "outputId": "14e29013-da62-4c90-d20a-f33cc4d9c223"
   },
   "outputs": [
    {
     "data": {
      "text/plain": [
       "(0.2153547126025551, 0.22501157243688358)"
      ]
     },
     "execution_count": 34,
     "metadata": {
      "tags": []
     },
     "output_type": "execute_result"
    }
   ],
   "source": [
    "lr_bsl_bf, rf_bsl_bf"
   ]
  },
  {
   "cell_type": "markdown",
   "metadata": {
    "id": "PWnzAoXswRel"
   },
   "source": [
    "# 2a. Your out-of-sample Brier score on 2018.\n",
    "\n"
   ]
  },
  {
   "cell_type": "code",
   "execution_count": 35,
   "metadata": {
    "colab": {
     "base_uri": "https://localhost:8080/"
    },
    "id": "qySwfaviv1lb",
    "outputId": "82eca9ad-7c2c-498e-a37a-4379e660b789"
   },
   "outputs": [
    {
     "name": "stdout",
     "output_type": "stream",
     "text": [
      "Brier Scores \n",
      "\u001b[1mLogit: 0.21502632234832797\n",
      "\u001b[0mRandom Forest without Hyperparameter tuning: 0.2209693651033026\n",
      "Random Forest with Hyperparameter tuning: 0.21661814417100592\n"
     ]
    }
   ],
   "source": [
    "print('Brier Scores ')\n",
    "print('\\033[1mLogit:', lr_bsl)\n",
    "print('\\033[0mRandom Forest without Hyperparameter tuning:', rf_bsl)\n",
    "print('Random Forest with Hyperparameter tuning:', rf_GS_bsl)"
   ]
  },
  {
   "cell_type": "markdown",
   "metadata": {
    "id": "XV41WHFyw63R"
   },
   "source": [
    "# 2b. The type of model you fit\n",
    "\n",
    "I used **Logit** and **Random Forest Classifier**"
   ]
  },
  {
   "cell_type": "markdown",
   "metadata": {
    "id": "vEyq3MOVxJlc"
   },
   "source": [
    "# 2c. A very brief summary of the features used in your model. Be terse but precise so that the reader can figure out exactly how your features are computed.\n",
    "\n",
    "Since much of the data is computed after the fact, I decided to use historical representations of the data based on the same stats just from previous games. I also decided to group these by year because stats do not usually translate from season to season.\n",
    "\n",
    "I implemented historical representations of the following variables\n",
    "* Goal Differential (hAGD)\n",
    "* Shots on Target (hST)\n",
    "* Expected Goals (hxG)\n",
    "\n",
    "I also created new variables based on the given data and also transformed them into historical representations\n",
    "* Shot Quantity (hsQntD)\n",
    "* Shot Quality (hsQltD)\n",
    "* Team Win Percentage (home_win_pct)\n",
    "\n"
   ]
  },
  {
   "cell_type": "markdown",
   "metadata": {
    "id": "9JOdvXxSxRRQ"
   },
   "source": [
    "# 2d. A write-up of the process you used to build your model."
   ]
  },
  {
   "cell_type": "markdown",
   "metadata": {
    "id": "QUWpjzjsy3LH"
   },
   "source": [
    "I wanted to start with the baseline model introduced in question 1 of the this assignment. Since it was close enough to market implied probabilities, I decided to see if implementing a simple Random Forest would improve the brier score. However, the result proved that Logit was the better initial baseline. \n",
    "\n",
    "From there I worked to include some more features - all of which were outlined in question 2c. I thought that combining some of the features available to us could be useful in terms of creating new interactions between variables. Shot quantity was especially intriguing to me because, more opportunities generally lead to better results. Tangentially, shot quality should, ideally, be a better indicator because conversion rate of shots on target are much higher.  \n",
    "\n",
    "With a higher complexity data space available, I turned to feature selection in the form of forward and backward selection. After running brier scores on the data set with the selected features the scores got slightly worse. I then went to feature selection via a feature importance plot. In the plot, 6 features stood above the rest, so I used those \"best features\" on the train/test data. This again drew poorer results. The drawbacks from these two feature selection approaches could be attributed to the fact that 11 columns of feature variables may not be enough to warrant greedy selection, so I decided to keep all 11 columns.\n",
    "\n",
    "Going into the final model selection, I was able to create a Logit model with a brier score of **0.21503** (which beats the initial baseline measure of **0.21727**), but wanted to bring back random forest with some hyperparameter tuning. To do that, I created a validation set with `Y=17` from the training set and applied a GridSearch (with variable `max_depth` and `num_estimators`). Even with this approach, the Logit model still beat out the hyperparameter tuned Random Forest.\n",
    "\n",
    "Ultimately, the dataset that I created did not lend itself to creative feature selection techniques, cross-validation, or complex machine learning models. It could be due to the limited number of features that were available or due to not having more datapoints, but in the end the result just proves how powerful Logit models are with simple datasets."
   ]
  }
 ],
 "metadata": {
  "colab": {
   "authorship_tag": "ABX9TyPzriUHGeuRtq60LUVpSHa9",
   "include_colab_link": true,
   "name": "HW2_2.ipynb",
   "provenance": []
  },
  "kernelspec": {
   "display_name": "Python 3",
   "language": "python",
   "name": "python3"
  },
  "language_info": {
   "codemirror_mode": {
    "name": "ipython",
    "version": 3
   },
   "file_extension": ".py",
   "mimetype": "text/x-python",
   "name": "python",
   "nbconvert_exporter": "python",
   "pygments_lexer": "ipython3",
   "version": "3.7.6"
  }
 },
 "nbformat": 4,
 "nbformat_minor": 1
}
