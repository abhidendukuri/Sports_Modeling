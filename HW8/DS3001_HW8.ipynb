{
  "nbformat": 4,
  "nbformat_minor": 0,
  "metadata": {
    "colab": {
      "name": "DS3001_HW8.ipynb",
      "provenance": [],
      "collapsed_sections": [],
      "authorship_tag": "ABX9TyPzS8oz6ivZSWGjvwyTw91G",
      "include_colab_link": true
    },
    "kernelspec": {
      "name": "python3",
      "display_name": "Python 3"
    },
    "language_info": {
      "name": "python"
    }
  },
  "cells": [
    {
      "cell_type": "markdown",
      "metadata": {
        "id": "view-in-github",
        "colab_type": "text"
      },
      "source": [
        "<a href=\"https://colab.research.google.com/github/abhidendukuri/Sports_Modeling/blob/HW8/DS3001_HW8.ipynb\" target=\"_parent\"><img src=\"https://colab.research.google.com/assets/colab-badge.svg\" alt=\"Open In Colab\"/></a>"
      ]
    },
    {
      "cell_type": "code",
      "metadata": {
        "id": "I8VriQSuPqvr"
      },
      "source": [
        "!pip install pylogit"
      ],
      "execution_count": null,
      "outputs": []
    },
    {
      "cell_type": "code",
      "metadata": {
        "id": "GzLNSO18LO9I",
        "colab": {
          "base_uri": "https://localhost:8080/"
        },
        "outputId": "d99231ba-5ad4-44e1-f081-188acc7d2eac"
      },
      "source": [
        "import pandas as pd\n",
        "import numpy as np\n",
        "import matplotlib.pyplot as plt\n",
        "\n",
        "import pylogit\n",
        "import statsmodels.formula.api as smf\n",
        "\n",
        "from sklearn.metrics import mean_squared_error, brier_score_loss\n",
        "\n",
        "from scipy.special import logit\n",
        "from tqdm import tqdm\n",
        "pd.options.display.max_columns = 100"
      ],
      "execution_count": 1,
      "outputs": [
        {
          "output_type": "stream",
          "text": [
            "/usr/local/lib/python3.7/dist-packages/statsmodels/tools/_testing.py:19: FutureWarning: pandas.util.testing is deprecated. Use the functions in the public API at pandas.testing instead.\n",
            "  import pandas.util.testing as tm\n"
          ],
          "name": "stderr"
        }
      ]
    },
    {
      "cell_type": "code",
      "metadata": {
        "id": "WThpuXdv-gH8"
      },
      "source": [
        "def mlogit(formula, df, obs_id, alt_id) :\n",
        "    \"\"\"\n",
        "    df must be sorted by obs_id to use this function\n",
        "    \"\"\"\n",
        "    from patsy import dmatrices\n",
        "    from collections import OrderedDict\n",
        "    import pylogit as pl\n",
        "    import numpy as np\n",
        "    data = dmatrices(formula+' -1', df, return_type = \"dataframe\")\n",
        "    all_alts = sorted(df.loc[:,alt_id].unique())\n",
        "    \n",
        "    spec = OrderedDict()\n",
        "    names = OrderedDict()\n",
        "    spec['intercept'] = all_alts[1:]\n",
        "    names['intercept'] = [f'(Intercept):{alt}' for alt in all_alts[1:]]\n",
        "    c_names = data[1].design_info.column_names\n",
        "    choice = data[0].design_info.column_names[0]\n",
        "    data[1][choice] = data[0]\n",
        "    data[1][[obs_id,alt_id]] = df[[obs_id,alt_id]]    \n",
        "    for c in c_names :\n",
        "        spec[c] = [all_alts]\n",
        "        names[c] = [c]\n",
        "    model = pl.create_choice_model(data = data[1], alt_id_col = alt_id, obs_id_col = obs_id, \n",
        "                                   choice_col = choice, specification = spec, names = names, model_type = 'MNL')\n",
        "    model.fit_mle(np.zeros(model.design.shape[1]), method = 'Powell')\n",
        "    return model"
      ],
      "execution_count": 2,
      "outputs": []
    },
    {
      "cell_type": "code",
      "metadata": {
        "id": "eIfsVMhfLVb4"
      },
      "source": [
        "df = pd.read_csv('xc.csv', parse_dates = ['dt'])\n",
        "df = df.rename(columns = {'dt' : 'date'})\n",
        "df = df.loc[df.race_type == 'flat_race']\n",
        "df = df.sort_values('date')"
      ],
      "execution_count": 3,
      "outputs": []
    },
    {
      "cell_type": "code",
      "metadata": {
        "id": "ODAP4c_IMAIF"
      },
      "source": [
        "win_choice = df.loc[df.winner == 1].sample(frac = 1.0).groupby('race_id').head(1).loc[:,['race_id','box']].copy()\n",
        "win_choice['twinner'] = 1\n",
        "df = df.merge(win_choice, on = ['race_id','box'], how = 'left')\n",
        "df.twinner = df.twinner.fillna(0)\n",
        "\n",
        "df = df.sort_values(['race_id','box'])\n",
        "df = df[df.race_type == 'flat_race']"
      ],
      "execution_count": 4,
      "outputs": []
    },
    {
      "cell_type": "code",
      "metadata": {
        "id": "2EKIP5Zx50YR",
        "colab": {
          "base_uri": "https://localhost:8080/"
        },
        "outputId": "034cade6-5cd6-4172-cb90-8465342b66f1"
      },
      "source": [
        "startupTime = 1.75\n",
        "distDft = 400\n",
        "distExp = 0.11\n",
        "alpha = 0.03\n",
        "\n",
        "halflife = pd.Timedelta(-np.log(2)/np.log(1-alpha), unit = 'Days')\n",
        "print(halflife, (1-alpha)**(halflife/pd.Timedelta(1, unit = 'Days')))"
      ],
      "execution_count": 5,
      "outputs": [
        {
          "output_type": "stream",
          "text": [
            "22 days 18:09:27.912643200 0.4999999999965491\n"
          ],
          "name": "stdout"
        }
      ]
    },
    {
      "cell_type": "code",
      "metadata": {
        "id": "l-9bC-K86VKB"
      },
      "source": [
        "df['mmps'] = df.distance_m/(df.time-startupTime)*(df.distance_m/distDft)**distExp\n",
        "df['avg_mmps'] = df.groupby('dog_id').mmps.transform(lambda x : x.expanding().mean().shift(1, fill_value = 0))\n",
        "df['ema_mmps'] = df.groupby('dog_id').apply(\n",
        "    lambda x : x.mmps.ewm(halflife=halflife,times = x.date).mean().shift(1, fill_value=0)\n",
        ").reset_index(level = 'dog_id',drop = True)"
      ],
      "execution_count": 6,
      "outputs": []
    },
    {
      "cell_type": "code",
      "metadata": {
        "id": "vjbWpPOnBk8P"
      },
      "source": [
        "df['prior_races'] = df.groupby(['dog_id']).mmps.transform(lambda x : x.expanding().count().shift(1, fill_value = 0))\n",
        "dt_prev = df.groupby(['dog_id']).date.transform(lambda x : x.shift(1, fill_value = np.NaN))\n",
        "df['dt_prev'] = 1*(df.date - dt_prev <= '90 days')\n",
        "df['drop_race'] = 1*((df.dt_prev == 0) | (df.prior_races < 3))\n",
        "df2 = df[~df.race_id.map(df.groupby('race_id').sum().drop_race > 0)]\n",
        "df2 = df2.dropna()"
      ],
      "execution_count": 7,
      "outputs": []
    },
    {
      "cell_type": "code",
      "metadata": {
        "id": "ljFh1bJ4BsH4"
      },
      "source": [
        "train = df2[df2.date.between('2019-07-01', '2020-01-31')]\n",
        "test = df2[df2.date >= '2020-02-01']"
      ],
      "execution_count": 8,
      "outputs": []
    },
    {
      "cell_type": "code",
      "metadata": {
        "id": "W1vf1yxpLS5N",
        "colab": {
          "base_uri": "https://localhost:8080/",
          "height": 35
        },
        "outputId": "98b47f21-a4b0-441e-8abe-4a936abe9f31"
      },
      "source": [
        "pylogit.choice_calcs.__file__"
      ],
      "execution_count": 9,
      "outputs": [
        {
          "output_type": "execute_result",
          "data": {
            "application/vnd.google.colaboratory.intrinsic+json": {
              "type": "string"
            },
            "text/plain": [
              "'/usr/local/lib/python3.7/dist-packages/pylogit/choice_calcs.py'"
            ]
          },
          "metadata": {
            "tags": []
          },
          "execution_count": 9
        }
      ]
    },
    {
      "cell_type": "markdown",
      "metadata": {
        "id": "yXwxj5mIFPZ4"
      },
      "source": [
        "# 1."
      ]
    },
    {
      "cell_type": "code",
      "metadata": {
        "colab": {
          "base_uri": "https://localhost:8080/",
          "height": 502
        },
        "id": "594nk6Hp_EsP",
        "outputId": "d6105ea4-a5ed-4cb3-a3b5-205d83bc2496"
      },
      "source": [
        "model = mlogit('twinner ~ avg_mmps', train, 'race_id', 'box')\n",
        "model.get_statsmodels_summary()"
      ],
      "execution_count": 10,
      "outputs": [
        {
          "output_type": "stream",
          "text": [
            "Log-likelihood at zero: -34,859.3900\n",
            "Initial Log-likelihood: -34,859.3900\n"
          ],
          "name": "stdout"
        },
        {
          "output_type": "stream",
          "text": [
            "/usr/local/lib/python3.7/dist-packages/scipy/optimize/_minimize.py:506: RuntimeWarning: Method Powell does not use gradient information (jac).\n",
            "  RuntimeWarning)\n",
            "/usr/local/lib/python3.7/dist-packages/scipy/optimize/_minimize.py:511: RuntimeWarning: Method Powell does not use Hessian information (hess).\n",
            "  RuntimeWarning)\n",
            "/usr/local/lib/python3.7/dist-packages/pylogit/estimation.py:686: OptimizeWarning: Unknown solver options: gtol\n",
            "  **kwargs)\n"
          ],
          "name": "stderr"
        },
        {
          "output_type": "stream",
          "text": [
            "Estimation Time for Point Estimation: 8.59 seconds.\n",
            "Final log-likelihood: -34,479.9548\n"
          ],
          "name": "stdout"
        },
        {
          "output_type": "execute_result",
          "data": {
            "text/html": [
              "<table class=\"simpletable\">\n",
              "<caption>Multinomial Logit Model Regression Results</caption>\n",
              "<tr>\n",
              "  <th>Dep. Variable:</th>         <td>twinner</td>         <th>  No. Observations:  </th>   <td>19,877</td>   \n",
              "</tr>\n",
              "<tr>\n",
              "  <th>Model:</th>         <td>Multinomial Logit Model</td> <th>  Df Residuals:      </th>   <td>19,871</td>   \n",
              "</tr>\n",
              "<tr>\n",
              "  <th>Method:</th>                  <td>MLE</td>           <th>  Df Model:          </th>      <td>6</td>     \n",
              "</tr>\n",
              "<tr>\n",
              "  <th>Date:</th>             <td>Tue, 11 May 2021</td>     <th>  Pseudo R-squ.:     </th>    <td>0.011</td>   \n",
              "</tr>\n",
              "<tr>\n",
              "  <th>Time:</th>                 <td>15:23:21</td>         <th>  Pseudo R-bar-squ.: </th>    <td>0.011</td>   \n",
              "</tr>\n",
              "<tr>\n",
              "  <th>AIC:</th>                 <td>68,971.910</td>        <th>  Log-Likelihood:    </th> <td>-34,479.955</td>\n",
              "</tr>\n",
              "<tr>\n",
              "  <th>BIC:</th>                 <td>69,019.294</td>        <th>  LL-Null:           </th> <td>-34,859.390</td>\n",
              "</tr>\n",
              "</table>\n",
              "<table class=\"simpletable\">\n",
              "<tr>\n",
              "        <td></td>           <th>coef</th>     <th>std err</th>      <th>z</th>      <th>P>|z|</th>  <th>[0.025</th>    <th>0.975]</th>  \n",
              "</tr>\n",
              "<tr>\n",
              "  <th>(Intercept):2</th> <td>   -0.0438</td> <td>    0.025</td> <td>   -1.778</td> <td> 0.075</td> <td>   -0.092</td> <td>    0.004</td>\n",
              "</tr>\n",
              "<tr>\n",
              "  <th>(Intercept):3</th> <td>    0.0193</td> <td>    0.024</td> <td>    0.793</td> <td> 0.428</td> <td>   -0.028</td> <td>    0.067</td>\n",
              "</tr>\n",
              "<tr>\n",
              "  <th>(Intercept):4</th> <td>   -0.0150</td> <td>    0.025</td> <td>   -0.609</td> <td> 0.542</td> <td>   -0.063</td> <td>    0.033</td>\n",
              "</tr>\n",
              "<tr>\n",
              "  <th>(Intercept):5</th> <td>   -0.1073</td> <td>    0.025</td> <td>   -4.277</td> <td> 0.000</td> <td>   -0.156</td> <td>   -0.058</td>\n",
              "</tr>\n",
              "<tr>\n",
              "  <th>(Intercept):6</th> <td>    0.0114</td> <td>    0.024</td> <td>    0.465</td> <td> 0.642</td> <td>   -0.037</td> <td>    0.059</td>\n",
              "</tr>\n",
              "<tr>\n",
              "  <th>avg_mmps</th>      <td>    1.2638</td> <td>    0.048</td> <td>   26.555</td> <td> 0.000</td> <td>    1.171</td> <td>    1.357</td>\n",
              "</tr>\n",
              "</table>"
            ],
            "text/plain": [
              "<class 'statsmodels.iolib.summary.Summary'>\n",
              "\"\"\"\n",
              "                     Multinomial Logit Model Regression Results                    \n",
              "===================================================================================\n",
              "Dep. Variable:                     twinner   No. Observations:               19,877\n",
              "Model:             Multinomial Logit Model   Df Residuals:                   19,871\n",
              "Method:                                MLE   Df Model:                            6\n",
              "Date:                     Tue, 11 May 2021   Pseudo R-squ.:                   0.011\n",
              "Time:                             15:23:21   Pseudo R-bar-squ.:               0.011\n",
              "AIC:                            68,971.910   Log-Likelihood:            -34,479.955\n",
              "BIC:                            69,019.294   LL-Null:                   -34,859.390\n",
              "=================================================================================\n",
              "                    coef    std err          z      P>|z|      [0.025      0.975]\n",
              "---------------------------------------------------------------------------------\n",
              "(Intercept):2    -0.0438      0.025     -1.778      0.075      -0.092       0.004\n",
              "(Intercept):3     0.0193      0.024      0.793      0.428      -0.028       0.067\n",
              "(Intercept):4    -0.0150      0.025     -0.609      0.542      -0.063       0.033\n",
              "(Intercept):5    -0.1073      0.025     -4.277      0.000      -0.156      -0.058\n",
              "(Intercept):6     0.0114      0.024      0.465      0.642      -0.037       0.059\n",
              "avg_mmps          1.2638      0.048     26.555      0.000       1.171       1.357\n",
              "=================================================================================\n",
              "\"\"\""
            ]
          },
          "metadata": {
            "tags": []
          },
          "execution_count": 10
        }
      ]
    },
    {
      "cell_type": "code",
      "metadata": {
        "colab": {
          "base_uri": "https://localhost:8080/"
        },
        "id": "h3FrgwJ9FfNu",
        "outputId": "fbd103b5-a6e8-4326-eeb3-d25734935321"
      },
      "source": [
        "y_pred = model.predict(test)\n",
        "brier_score_loss(test.twinner, y_pred)"
      ],
      "execution_count": 11,
      "outputs": [
        {
          "output_type": "stream",
          "text": [
            "/usr/local/lib/python3.7/dist-packages/pylogit/base_multinomial_cm_v2.py:381: SettingWithCopyWarning: \n",
            "A value is trying to be set on a copy of a slice from a DataFrame.\n",
            "Try using .loc[row_indexer,col_indexer] = value instead\n",
            "\n",
            "See the caveats in the documentation: https://pandas.pydata.org/pandas-docs/stable/user_guide/indexing.html#returning-a-view-versus-a-copy\n",
            "  dataframe[\"intercept\"] = 1.0\n"
          ],
          "name": "stderr"
        },
        {
          "output_type": "execute_result",
          "data": {
            "text/plain": [
              "0.14061682987350585"
            ]
          },
          "metadata": {
            "tags": []
          },
          "execution_count": 11
        }
      ]
    },
    {
      "cell_type": "markdown",
      "metadata": {
        "id": "6_XusLKZFRzq"
      },
      "source": [
        "# 2."
      ]
    },
    {
      "cell_type": "markdown",
      "metadata": {
        "id": "cbgu6KcdFThj"
      },
      "source": [
        "## a.\n"
      ]
    },
    {
      "cell_type": "code",
      "metadata": {
        "colab": {
          "base_uri": "https://localhost:8080/",
          "height": 444
        },
        "id": "8Z-LV0-OUr29",
        "outputId": "19abebb7-4987-4e5d-9454-c1b952fefcc6"
      },
      "source": [
        "train_2 = df2[df2.date.between('2019-07-01','2019-11-30')]\n",
        "test_2 = df2[df2.date.between('2019-12-01', '2020-01-31')]\n",
        "\n",
        "model = smf.ols('mmps ~ ema_mmps', data = train_2).fit()\n",
        "model.summary()"
      ],
      "execution_count": 12,
      "outputs": [
        {
          "output_type": "execute_result",
          "data": {
            "text/html": [
              "<table class=\"simpletable\">\n",
              "<caption>OLS Regression Results</caption>\n",
              "<tr>\n",
              "  <th>Dep. Variable:</th>          <td>mmps</td>       <th>  R-squared:         </th> <td>   0.758</td> \n",
              "</tr>\n",
              "<tr>\n",
              "  <th>Model:</th>                   <td>OLS</td>       <th>  Adj. R-squared:    </th> <td>   0.758</td> \n",
              "</tr>\n",
              "<tr>\n",
              "  <th>Method:</th>             <td>Least Squares</td>  <th>  F-statistic:       </th> <td>2.469e+05</td>\n",
              "</tr>\n",
              "<tr>\n",
              "  <th>Date:</th>             <td>Tue, 11 May 2021</td> <th>  Prob (F-statistic):</th>  <td>  0.00</td>  \n",
              "</tr>\n",
              "<tr>\n",
              "  <th>Time:</th>                 <td>15:23:21</td>     <th>  Log-Likelihood:    </th> <td> -6561.1</td> \n",
              "</tr>\n",
              "<tr>\n",
              "  <th>No. Observations:</th>      <td> 78634</td>      <th>  AIC:               </th> <td>1.313e+04</td>\n",
              "</tr>\n",
              "<tr>\n",
              "  <th>Df Residuals:</th>          <td> 78632</td>      <th>  BIC:               </th> <td>1.314e+04</td>\n",
              "</tr>\n",
              "<tr>\n",
              "  <th>Df Model:</th>              <td>     1</td>      <th>                     </th>     <td> </td>    \n",
              "</tr>\n",
              "<tr>\n",
              "  <th>Covariance Type:</th>      <td>nonrobust</td>    <th>                     </th>     <td> </td>    \n",
              "</tr>\n",
              "</table>\n",
              "<table class=\"simpletable\">\n",
              "<tr>\n",
              "      <td></td>         <th>coef</th>     <th>std err</th>      <th>t</th>      <th>P>|t|</th>  <th>[0.025</th>    <th>0.975]</th>  \n",
              "</tr>\n",
              "<tr>\n",
              "  <th>Intercept</th> <td>    0.8223</td> <td>    0.033</td> <td>   24.691</td> <td> 0.000</td> <td>    0.757</td> <td>    0.888</td>\n",
              "</tr>\n",
              "<tr>\n",
              "  <th>ema_mmps</th>  <td>    0.9530</td> <td>    0.002</td> <td>  496.869</td> <td> 0.000</td> <td>    0.949</td> <td>    0.957</td>\n",
              "</tr>\n",
              "</table>\n",
              "<table class=\"simpletable\">\n",
              "<tr>\n",
              "  <th>Omnibus:</th>       <td>6909.391</td> <th>  Durbin-Watson:     </th> <td>   1.360</td> \n",
              "</tr>\n",
              "<tr>\n",
              "  <th>Prob(Omnibus):</th>  <td> 0.000</td>  <th>  Jarque-Bera (JB):  </th> <td>24137.597</td>\n",
              "</tr>\n",
              "<tr>\n",
              "  <th>Skew:</th>           <td>-0.420</td>  <th>  Prob(JB):          </th> <td>    0.00</td> \n",
              "</tr>\n",
              "<tr>\n",
              "  <th>Kurtosis:</th>       <td> 5.581</td>  <th>  Cond. No.          </th> <td>    619.</td> \n",
              "</tr>\n",
              "</table><br/><br/>Warnings:<br/>[1] Standard Errors assume that the covariance matrix of the errors is correctly specified."
            ],
            "text/plain": [
              "<class 'statsmodels.iolib.summary.Summary'>\n",
              "\"\"\"\n",
              "                            OLS Regression Results                            \n",
              "==============================================================================\n",
              "Dep. Variable:                   mmps   R-squared:                       0.758\n",
              "Model:                            OLS   Adj. R-squared:                  0.758\n",
              "Method:                 Least Squares   F-statistic:                 2.469e+05\n",
              "Date:                Tue, 11 May 2021   Prob (F-statistic):               0.00\n",
              "Time:                        15:23:21   Log-Likelihood:                -6561.1\n",
              "No. Observations:               78634   AIC:                         1.313e+04\n",
              "Df Residuals:                   78632   BIC:                         1.314e+04\n",
              "Df Model:                           1                                         \n",
              "Covariance Type:            nonrobust                                         \n",
              "==============================================================================\n",
              "                 coef    std err          t      P>|t|      [0.025      0.975]\n",
              "------------------------------------------------------------------------------\n",
              "Intercept      0.8223      0.033     24.691      0.000       0.757       0.888\n",
              "ema_mmps       0.9530      0.002    496.869      0.000       0.949       0.957\n",
              "==============================================================================\n",
              "Omnibus:                     6909.391   Durbin-Watson:                   1.360\n",
              "Prob(Omnibus):                  0.000   Jarque-Bera (JB):            24137.597\n",
              "Skew:                          -0.420   Prob(JB):                         0.00\n",
              "Kurtosis:                       5.581   Cond. No.                         619.\n",
              "==============================================================================\n",
              "\n",
              "Warnings:\n",
              "[1] Standard Errors assume that the covariance matrix of the errors is correctly specified.\n",
              "\"\"\""
            ]
          },
          "metadata": {
            "tags": []
          },
          "execution_count": 12
        }
      ]
    },
    {
      "cell_type": "code",
      "metadata": {
        "colab": {
          "base_uri": "https://localhost:8080/"
        },
        "id": "eg1v-7RCH4F5",
        "outputId": "31a03383-e33c-447a-a517-75e935354130"
      },
      "source": [
        "y_pred = model.predict(test_2.drop('mmps',1))\n",
        "mean_squared_error(test_2.mmps, y_pred)"
      ],
      "execution_count": 13,
      "outputs": [
        {
          "output_type": "execute_result",
          "data": {
            "text/plain": [
              "0.06873040620569776"
            ]
          },
          "metadata": {
            "tags": []
          },
          "execution_count": 13
        }
      ]
    },
    {
      "cell_type": "markdown",
      "metadata": {
        "id": "RZgyb1HoH2pT"
      },
      "source": [
        "## b."
      ]
    },
    {
      "cell_type": "code",
      "metadata": {
        "colab": {
          "base_uri": "https://localhost:8080/"
        },
        "id": "Le_fJWJYPoxn",
        "outputId": "d1bd9236-cd74-4210-d828-9e9b521b331a"
      },
      "source": [
        "for sid in tqdm(sorted(df2.stadium_id.unique())):\n",
        "  a = 'a' + str(sid)\n",
        "  b = 'b' + str(sid)\n",
        "  df2[a] = 1*(df2.stadium_id == sid)\n",
        "  df2[b] = df2.groupby('dog_id').apply(\n",
        "    lambda x : x[a].ewm(halflife=halflife, times = x.date).mean().shift(1, fill_value=0)\n",
        ").reset_index(level = 'dog_id', drop = True)\n",
        "\n",
        "for sid in sorted(df2.stadium_id.unique()):\n",
        "  i = 'i' + str(sid)\n",
        "  a = 'a' + str(sid)\n",
        "  b = 'b' + str(sid)\n",
        "  \n",
        "  df2[i] = df2[a] - df2[b]"
      ],
      "execution_count": 14,
      "outputs": [
        {
          "output_type": "stream",
          "text": [
            "100%|██████████| 21/21 [11:21<00:00, 32.44s/it]\n"
          ],
          "name": "stderr"
        }
      ]
    },
    {
      "cell_type": "code",
      "metadata": {
        "colab": {
          "base_uri": "https://localhost:8080/",
          "height": 885
        },
        "id": "nUFwWMhdZdRW",
        "outputId": "f4fa1d18-f8b1-496c-b7a5-8d3a42d10692"
      },
      "source": [
        "train_2 = df2[df2.date.between('2019-07-01','2019-11-30')]\n",
        "test_2 = df2[df2.date.between('2019-12-01', '2020-01-31')]\n",
        "\n",
        "stadium_id = ' + '.join(df2.columns[-21:])\n",
        "\n",
        "f = 'mmps ~ ema_mmps + ' + stadium_id\n",
        "model = smf.ols(f, data = train_2).fit()\n",
        "model.summary()"
      ],
      "execution_count": 15,
      "outputs": [
        {
          "output_type": "execute_result",
          "data": {
            "text/html": [
              "<table class=\"simpletable\">\n",
              "<caption>OLS Regression Results</caption>\n",
              "<tr>\n",
              "  <th>Dep. Variable:</th>          <td>mmps</td>       <th>  R-squared:         </th> <td>   0.784</td> \n",
              "</tr>\n",
              "<tr>\n",
              "  <th>Model:</th>                   <td>OLS</td>       <th>  Adj. R-squared:    </th> <td>   0.784</td> \n",
              "</tr>\n",
              "<tr>\n",
              "  <th>Method:</th>             <td>Least Squares</td>  <th>  F-statistic:       </th> <td>1.294e+04</td>\n",
              "</tr>\n",
              "<tr>\n",
              "  <th>Date:</th>             <td>Tue, 11 May 2021</td> <th>  Prob (F-statistic):</th>  <td>  0.00</td>  \n",
              "</tr>\n",
              "<tr>\n",
              "  <th>Time:</th>                 <td>15:34:43</td>     <th>  Log-Likelihood:    </th> <td> -2235.8</td> \n",
              "</tr>\n",
              "<tr>\n",
              "  <th>No. Observations:</th>      <td> 78634</td>      <th>  AIC:               </th> <td>   4518.</td> \n",
              "</tr>\n",
              "<tr>\n",
              "  <th>Df Residuals:</th>          <td> 78611</td>      <th>  BIC:               </th> <td>   4731.</td> \n",
              "</tr>\n",
              "<tr>\n",
              "  <th>Df Model:</th>              <td>    22</td>      <th>                     </th>     <td> </td>    \n",
              "</tr>\n",
              "<tr>\n",
              "  <th>Covariance Type:</th>      <td>nonrobust</td>    <th>                     </th>     <td> </td>    \n",
              "</tr>\n",
              "</table>\n",
              "<table class=\"simpletable\">\n",
              "<tr>\n",
              "      <td></td>         <th>coef</th>     <th>std err</th>      <th>t</th>      <th>P>|t|</th>  <th>[0.025</th>    <th>0.975]</th>  \n",
              "</tr>\n",
              "<tr>\n",
              "  <th>Intercept</th> <td>    1.0219</td> <td>    0.032</td> <td>   32.283</td> <td> 0.000</td> <td>    0.960</td> <td>    1.084</td>\n",
              "</tr>\n",
              "<tr>\n",
              "  <th>ema_mmps</th>  <td>    0.9413</td> <td>    0.002</td> <td>  516.399</td> <td> 0.000</td> <td>    0.938</td> <td>    0.945</td>\n",
              "</tr>\n",
              "<tr>\n",
              "  <th>i13003</th>    <td>    0.0877</td> <td>    0.015</td> <td>    5.970</td> <td> 0.000</td> <td>    0.059</td> <td>    0.117</td>\n",
              "</tr>\n",
              "<tr>\n",
              "  <th>i13004</th>    <td>    0.0838</td> <td>    0.011</td> <td>    7.353</td> <td> 0.000</td> <td>    0.061</td> <td>    0.106</td>\n",
              "</tr>\n",
              "<tr>\n",
              "  <th>i13007</th>    <td>   -0.2217</td> <td>    0.010</td> <td>  -21.384</td> <td> 0.000</td> <td>   -0.242</td> <td>   -0.201</td>\n",
              "</tr>\n",
              "<tr>\n",
              "  <th>i13008</th>    <td>   -0.0141</td> <td>    0.015</td> <td>   -0.920</td> <td> 0.357</td> <td>   -0.044</td> <td>    0.016</td>\n",
              "</tr>\n",
              "<tr>\n",
              "  <th>i13009</th>    <td>   -0.0712</td> <td>    0.009</td> <td>   -7.882</td> <td> 0.000</td> <td>   -0.089</td> <td>   -0.054</td>\n",
              "</tr>\n",
              "<tr>\n",
              "  <th>i13010</th>    <td>    0.3991</td> <td>    0.010</td> <td>   38.140</td> <td> 0.000</td> <td>    0.379</td> <td>    0.420</td>\n",
              "</tr>\n",
              "<tr>\n",
              "  <th>i13013</th>    <td>    0.1243</td> <td>    0.019</td> <td>    6.598</td> <td> 0.000</td> <td>    0.087</td> <td>    0.161</td>\n",
              "</tr>\n",
              "<tr>\n",
              "  <th>i13014</th>    <td>    0.0825</td> <td>    0.013</td> <td>    6.272</td> <td> 0.000</td> <td>    0.057</td> <td>    0.108</td>\n",
              "</tr>\n",
              "<tr>\n",
              "  <th>i13019</th>    <td>    0.0439</td> <td>    0.010</td> <td>    4.561</td> <td> 0.000</td> <td>    0.025</td> <td>    0.063</td>\n",
              "</tr>\n",
              "<tr>\n",
              "  <th>i13020</th>    <td>    0.0012</td> <td>    0.015</td> <td>    0.081</td> <td> 0.935</td> <td>   -0.029</td> <td>    0.031</td>\n",
              "</tr>\n",
              "<tr>\n",
              "  <th>i13021</th>    <td>    0.0151</td> <td>    0.043</td> <td>    0.350</td> <td> 0.726</td> <td>   -0.069</td> <td>    0.099</td>\n",
              "</tr>\n",
              "<tr>\n",
              "  <th>i13023</th>    <td>    0.1025</td> <td>    0.014</td> <td>    7.327</td> <td> 0.000</td> <td>    0.075</td> <td>    0.130</td>\n",
              "</tr>\n",
              "<tr>\n",
              "  <th>i13025</th>    <td>    0.4453</td> <td>    0.010</td> <td>   43.201</td> <td> 0.000</td> <td>    0.425</td> <td>    0.466</td>\n",
              "</tr>\n",
              "<tr>\n",
              "  <th>i13026</th>    <td>   -0.1618</td> <td>    0.010</td> <td>  -16.897</td> <td> 0.000</td> <td>   -0.181</td> <td>   -0.143</td>\n",
              "</tr>\n",
              "<tr>\n",
              "  <th>i13035</th>    <td>    0.1772</td> <td>    0.016</td> <td>   11.290</td> <td> 0.000</td> <td>    0.146</td> <td>    0.208</td>\n",
              "</tr>\n",
              "<tr>\n",
              "  <th>i13037</th>    <td>    0.2322</td> <td>    0.010</td> <td>   23.770</td> <td> 0.000</td> <td>    0.213</td> <td>    0.251</td>\n",
              "</tr>\n",
              "<tr>\n",
              "  <th>i13043</th>    <td>    0.0697</td> <td>    0.012</td> <td>    6.016</td> <td> 0.000</td> <td>    0.047</td> <td>    0.092</td>\n",
              "</tr>\n",
              "<tr>\n",
              "  <th>i13048</th>    <td>   -0.4168</td> <td>    0.011</td> <td>  -38.122</td> <td> 0.000</td> <td>   -0.438</td> <td>   -0.395</td>\n",
              "</tr>\n",
              "<tr>\n",
              "  <th>i13053</th>    <td>    0.0340</td> <td>    0.020</td> <td>    1.711</td> <td> 0.087</td> <td>   -0.005</td> <td>    0.073</td>\n",
              "</tr>\n",
              "<tr>\n",
              "  <th>i13059</th>    <td>    0.1144</td> <td>    0.021</td> <td>    5.423</td> <td> 0.000</td> <td>    0.073</td> <td>    0.156</td>\n",
              "</tr>\n",
              "<tr>\n",
              "  <th>i13061</th>    <td>   -0.3863</td> <td>    0.012</td> <td>  -31.739</td> <td> 0.000</td> <td>   -0.410</td> <td>   -0.362</td>\n",
              "</tr>\n",
              "</table>\n",
              "<table class=\"simpletable\">\n",
              "<tr>\n",
              "  <th>Omnibus:</th>       <td>5075.159</td> <th>  Durbin-Watson:     </th> <td>   1.396</td> \n",
              "</tr>\n",
              "<tr>\n",
              "  <th>Prob(Omnibus):</th>  <td> 0.000</td>  <th>  Jarque-Bera (JB):  </th> <td>11118.431</td>\n",
              "</tr>\n",
              "<tr>\n",
              "  <th>Skew:</th>           <td>-0.428</td>  <th>  Prob(JB):          </th> <td>    0.00</td> \n",
              "</tr>\n",
              "<tr>\n",
              "  <th>Kurtosis:</th>       <td> 4.632</td>  <th>  Cond. No.          </th> <td>    844.</td> \n",
              "</tr>\n",
              "</table><br/><br/>Warnings:<br/>[1] Standard Errors assume that the covariance matrix of the errors is correctly specified."
            ],
            "text/plain": [
              "<class 'statsmodels.iolib.summary.Summary'>\n",
              "\"\"\"\n",
              "                            OLS Regression Results                            \n",
              "==============================================================================\n",
              "Dep. Variable:                   mmps   R-squared:                       0.784\n",
              "Model:                            OLS   Adj. R-squared:                  0.784\n",
              "Method:                 Least Squares   F-statistic:                 1.294e+04\n",
              "Date:                Tue, 11 May 2021   Prob (F-statistic):               0.00\n",
              "Time:                        15:34:43   Log-Likelihood:                -2235.8\n",
              "No. Observations:               78634   AIC:                             4518.\n",
              "Df Residuals:                   78611   BIC:                             4731.\n",
              "Df Model:                          22                                         \n",
              "Covariance Type:            nonrobust                                         \n",
              "==============================================================================\n",
              "                 coef    std err          t      P>|t|      [0.025      0.975]\n",
              "------------------------------------------------------------------------------\n",
              "Intercept      1.0219      0.032     32.283      0.000       0.960       1.084\n",
              "ema_mmps       0.9413      0.002    516.399      0.000       0.938       0.945\n",
              "i13003         0.0877      0.015      5.970      0.000       0.059       0.117\n",
              "i13004         0.0838      0.011      7.353      0.000       0.061       0.106\n",
              "i13007        -0.2217      0.010    -21.384      0.000      -0.242      -0.201\n",
              "i13008        -0.0141      0.015     -0.920      0.357      -0.044       0.016\n",
              "i13009        -0.0712      0.009     -7.882      0.000      -0.089      -0.054\n",
              "i13010         0.3991      0.010     38.140      0.000       0.379       0.420\n",
              "i13013         0.1243      0.019      6.598      0.000       0.087       0.161\n",
              "i13014         0.0825      0.013      6.272      0.000       0.057       0.108\n",
              "i13019         0.0439      0.010      4.561      0.000       0.025       0.063\n",
              "i13020         0.0012      0.015      0.081      0.935      -0.029       0.031\n",
              "i13021         0.0151      0.043      0.350      0.726      -0.069       0.099\n",
              "i13023         0.1025      0.014      7.327      0.000       0.075       0.130\n",
              "i13025         0.4453      0.010     43.201      0.000       0.425       0.466\n",
              "i13026        -0.1618      0.010    -16.897      0.000      -0.181      -0.143\n",
              "i13035         0.1772      0.016     11.290      0.000       0.146       0.208\n",
              "i13037         0.2322      0.010     23.770      0.000       0.213       0.251\n",
              "i13043         0.0697      0.012      6.016      0.000       0.047       0.092\n",
              "i13048        -0.4168      0.011    -38.122      0.000      -0.438      -0.395\n",
              "i13053         0.0340      0.020      1.711      0.087      -0.005       0.073\n",
              "i13059         0.1144      0.021      5.423      0.000       0.073       0.156\n",
              "i13061        -0.3863      0.012    -31.739      0.000      -0.410      -0.362\n",
              "==============================================================================\n",
              "Omnibus:                     5075.159   Durbin-Watson:                   1.396\n",
              "Prob(Omnibus):                  0.000   Jarque-Bera (JB):            11118.431\n",
              "Skew:                          -0.428   Prob(JB):                         0.00\n",
              "Kurtosis:                       4.632   Cond. No.                         844.\n",
              "==============================================================================\n",
              "\n",
              "Warnings:\n",
              "[1] Standard Errors assume that the covariance matrix of the errors is correctly specified.\n",
              "\"\"\""
            ]
          },
          "metadata": {
            "tags": []
          },
          "execution_count": 15
        }
      ]
    },
    {
      "cell_type": "code",
      "metadata": {
        "colab": {
          "base_uri": "https://localhost:8080/"
        },
        "id": "855dvfXGf57W",
        "outputId": "3e53cf39-7bb2-400a-c2b5-4060bca705f6"
      },
      "source": [
        "y_pred = model.predict(test_2.drop('mmps',1))\n",
        "mean_squared_error(test_2.mmps, y_pred)"
      ],
      "execution_count": 16,
      "outputs": [
        {
          "output_type": "execute_result",
          "data": {
            "text/plain": [
              "0.06479001360980052"
            ]
          },
          "metadata": {
            "tags": []
          },
          "execution_count": 16
        }
      ]
    },
    {
      "cell_type": "code",
      "metadata": {
        "id": "uE8_A_OiOX0e"
      },
      "source": [
        "df2.to_csv('xc2.csv', index=False)"
      ],
      "execution_count": 17,
      "outputs": []
    },
    {
      "cell_type": "markdown",
      "metadata": {
        "id": "OohknXOmkCKS"
      },
      "source": [
        "# 3."
      ]
    },
    {
      "cell_type": "code",
      "metadata": {
        "id": "uut43B9wTVbm"
      },
      "source": [
        "df3 = pd.read_csv('xc2.csv', parse_dates=['date'])\n",
        "df3['comment'] = df3.comment.fillna('')"
      ],
      "execution_count": 18,
      "outputs": []
    },
    {
      "cell_type": "code",
      "metadata": {
        "id": "IsYnw1XltWo9"
      },
      "source": [
        "race_comments = [\n",
        "    'QAw|QAway|QuickAway',\n",
        "    'SAw|SAway|SlowAway',\n",
        "    'MsdBrk|MsdBreak|MissedBreak',\n",
        "    'TurnedInTrap',\n",
        "    'Disp|DispLd',\n",
        "    'NvShw',\n",
        "    'CmAg',\n",
        "    'ClrRun|ClearRun',\n",
        "    'HldOn|HeldOn',\n",
        "    'FinWll|FinWell|FinishedWell',\n",
        "    'Railed',\n",
        "    'Bmp|Bumped',\n",
        "    'Blk|Baulk|Baulked',\n",
        "    'Crd|Crowded|CrD',\n",
        "    'Imp|Impeded',\n",
        "    'StruckInto',\n",
        "    'Ck|Chk|Checked',\n",
        "    'Stb|Stumbled',\n",
        "    'KO',\n",
        "    'EP|EarlyPace|EPace|Ep|EarlyP',\n",
        "    'LckEP|LackedEP',\n",
        "    'Ld|Led',\n",
        "    'ALd|ALed|AlwaysLed',\n",
        "    'LdNrLn|LdNrLine|LedNearLine',\n",
        "    'LedToNearLine',\n",
        "    'W|Wide',\n",
        "    'VW|VWide|VeryWide',\n",
        "    'Badly',\n",
        "    'VB|VBadly',\n",
        "    'Fcd|Forced'\n",
        "]\n"
      ],
      "execution_count": 19,
      "outputs": []
    },
    {
      "cell_type": "code",
      "metadata": {
        "colab": {
          "base_uri": "https://localhost:8080/"
        },
        "id": "DYoKpoI6FKoP",
        "outputId": "d7c0a489-dcca-453f-ef7a-4050348120d2"
      },
      "source": [
        "for cmt in tqdm(race_comments):\n",
        "  a = 'a' + cmt.split('|')[0]\n",
        "  b = 'b' + cmt.split('|')[0]\n",
        "  df3[a] = 1*(df3.comment.str.contains(cmt))\n",
        "  df3[a] = df3.groupby('dog_id')[a].shift(1)\n",
        "  df3[b] = df3.groupby('dog_id').apply(\n",
        "    lambda x: x[a].ewm(halflife=halflife, times = x.date).mean()\n",
        ").reset_index(level = 'dog_id', drop = True)\n",
        "\n",
        "df3 = df3.dropna()\n",
        "for cmt in race_comments:\n",
        "  i = 'i' + cmt.split('|')[0]\n",
        "  a = 'a' + cmt.split('|')[0]\n",
        "  b = 'b' + cmt.split('|')[0]\n",
        "  \n",
        "  df3[i] = df3[a] - df3[b]"
      ],
      "execution_count": 20,
      "outputs": [
        {
          "output_type": "stream",
          "text": [
            "100%|██████████| 30/30 [15:04<00:00, 30.15s/it]\n"
          ],
          "name": "stderr"
        }
      ]
    },
    {
      "cell_type": "markdown",
      "metadata": {
        "id": "xdHNY1EyFMek"
      },
      "source": [
        "## a."
      ]
    },
    {
      "cell_type": "code",
      "metadata": {
        "colab": {
          "base_uri": "https://localhost:8080/",
          "height": 1000
        },
        "id": "2M9hlV8j6CHk",
        "outputId": "f0578785-b98f-40ec-866c-2a15fc7177b8"
      },
      "source": [
        "train_2 = df3[df3.date.between('2019-07-01','2019-11-30')]\n",
        "test_2 = df3[df3.date.between('2019-12-01', '2020-01-31')]\n",
        "\n",
        "indicators = ' + '.join(df3.columns[df3.columns.str.startswith('i')])\n",
        "\n",
        "f = 'mmps ~ ema_mmps + ' + indicators\n",
        "model = smf.ols(f, data = train_2).fit()\n",
        "model.summary()"
      ],
      "execution_count": 21,
      "outputs": [
        {
          "output_type": "execute_result",
          "data": {
            "text/html": [
              "<table class=\"simpletable\">\n",
              "<caption>OLS Regression Results</caption>\n",
              "<tr>\n",
              "  <th>Dep. Variable:</th>          <td>mmps</td>       <th>  R-squared:         </th> <td>   0.795</td>\n",
              "</tr>\n",
              "<tr>\n",
              "  <th>Model:</th>                   <td>OLS</td>       <th>  Adj. R-squared:    </th> <td>   0.794</td>\n",
              "</tr>\n",
              "<tr>\n",
              "  <th>Method:</th>             <td>Least Squares</td>  <th>  F-statistic:       </th> <td>   5719.</td>\n",
              "</tr>\n",
              "<tr>\n",
              "  <th>Date:</th>             <td>Tue, 11 May 2021</td> <th>  Prob (F-statistic):</th>  <td>  0.00</td> \n",
              "</tr>\n",
              "<tr>\n",
              "  <th>Time:</th>                 <td>15:53:39</td>     <th>  Log-Likelihood:    </th> <td> -135.91</td>\n",
              "</tr>\n",
              "<tr>\n",
              "  <th>No. Observations:</th>      <td> 75494</td>      <th>  AIC:               </th> <td>   375.8</td>\n",
              "</tr>\n",
              "<tr>\n",
              "  <th>Df Residuals:</th>          <td> 75442</td>      <th>  BIC:               </th> <td>   855.9</td>\n",
              "</tr>\n",
              "<tr>\n",
              "  <th>Df Model:</th>              <td>    51</td>      <th>                     </th>     <td> </td>   \n",
              "</tr>\n",
              "<tr>\n",
              "  <th>Covariance Type:</th>      <td>nonrobust</td>    <th>                     </th>     <td> </td>   \n",
              "</tr>\n",
              "</table>\n",
              "<table class=\"simpletable\">\n",
              "<tr>\n",
              "         <td></td>           <th>coef</th>     <th>std err</th>      <th>t</th>      <th>P>|t|</th>  <th>[0.025</th>    <th>0.975]</th>  \n",
              "</tr>\n",
              "<tr>\n",
              "  <th>Intercept</th>      <td>    0.7061</td> <td>    0.031</td> <td>   22.444</td> <td> 0.000</td> <td>    0.644</td> <td>    0.768</td>\n",
              "</tr>\n",
              "<tr>\n",
              "  <th>ema_mmps</th>       <td>    0.9595</td> <td>    0.002</td> <td>  529.524</td> <td> 0.000</td> <td>    0.956</td> <td>    0.963</td>\n",
              "</tr>\n",
              "<tr>\n",
              "  <th>i13003</th>         <td>   -0.0394</td> <td>    0.017</td> <td>   -2.365</td> <td> 0.018</td> <td>   -0.072</td> <td>   -0.007</td>\n",
              "</tr>\n",
              "<tr>\n",
              "  <th>i13004</th>         <td>    0.1070</td> <td>    0.012</td> <td>    8.825</td> <td> 0.000</td> <td>    0.083</td> <td>    0.131</td>\n",
              "</tr>\n",
              "<tr>\n",
              "  <th>i13007</th>         <td>   -0.4453</td> <td>    0.012</td> <td>  -36.217</td> <td> 0.000</td> <td>   -0.469</td> <td>   -0.421</td>\n",
              "</tr>\n",
              "<tr>\n",
              "  <th>i13008</th>         <td>    0.0246</td> <td>    0.023</td> <td>    1.087</td> <td> 0.277</td> <td>   -0.020</td> <td>    0.069</td>\n",
              "</tr>\n",
              "<tr>\n",
              "  <th>i13009</th>         <td>   -0.1908</td> <td>    0.010</td> <td>  -18.641</td> <td> 0.000</td> <td>   -0.211</td> <td>   -0.171</td>\n",
              "</tr>\n",
              "<tr>\n",
              "  <th>i13010</th>         <td>    0.4940</td> <td>    0.012</td> <td>   42.009</td> <td> 0.000</td> <td>    0.471</td> <td>    0.517</td>\n",
              "</tr>\n",
              "<tr>\n",
              "  <th>i13013</th>         <td>    0.1775</td> <td>    0.027</td> <td>    6.570</td> <td> 0.000</td> <td>    0.125</td> <td>    0.230</td>\n",
              "</tr>\n",
              "<tr>\n",
              "  <th>i13014</th>         <td>    0.1378</td> <td>    0.017</td> <td>    8.032</td> <td> 0.000</td> <td>    0.104</td> <td>    0.171</td>\n",
              "</tr>\n",
              "<tr>\n",
              "  <th>i13019</th>         <td>   -0.0730</td> <td>    0.011</td> <td>   -6.391</td> <td> 0.000</td> <td>   -0.095</td> <td>   -0.051</td>\n",
              "</tr>\n",
              "<tr>\n",
              "  <th>i13020</th>         <td>   -0.1216</td> <td>    0.018</td> <td>   -6.917</td> <td> 0.000</td> <td>   -0.156</td> <td>   -0.087</td>\n",
              "</tr>\n",
              "<tr>\n",
              "  <th>i13021</th>         <td>   -0.0329</td> <td>    0.054</td> <td>   -0.610</td> <td> 0.542</td> <td>   -0.139</td> <td>    0.073</td>\n",
              "</tr>\n",
              "<tr>\n",
              "  <th>i13023</th>         <td>    0.1047</td> <td>    0.016</td> <td>    6.376</td> <td> 0.000</td> <td>    0.073</td> <td>    0.137</td>\n",
              "</tr>\n",
              "<tr>\n",
              "  <th>i13025</th>         <td>    0.4528</td> <td>    0.012</td> <td>   38.168</td> <td> 0.000</td> <td>    0.430</td> <td>    0.476</td>\n",
              "</tr>\n",
              "<tr>\n",
              "  <th>i13026</th>         <td>   -0.3221</td> <td>    0.011</td> <td>  -28.987</td> <td> 0.000</td> <td>   -0.344</td> <td>   -0.300</td>\n",
              "</tr>\n",
              "<tr>\n",
              "  <th>i13035</th>         <td>    0.2358</td> <td>    0.019</td> <td>   12.356</td> <td> 0.000</td> <td>    0.198</td> <td>    0.273</td>\n",
              "</tr>\n",
              "<tr>\n",
              "  <th>i13037</th>         <td>    0.2901</td> <td>    0.012</td> <td>   24.976</td> <td> 0.000</td> <td>    0.267</td> <td>    0.313</td>\n",
              "</tr>\n",
              "<tr>\n",
              "  <th>i13043</th>         <td>    0.0697</td> <td>    0.014</td> <td>    5.101</td> <td> 0.000</td> <td>    0.043</td> <td>    0.097</td>\n",
              "</tr>\n",
              "<tr>\n",
              "  <th>i13048</th>         <td>   -0.6694</td> <td>    0.012</td> <td>  -54.361</td> <td> 0.000</td> <td>   -0.694</td> <td>   -0.645</td>\n",
              "</tr>\n",
              "<tr>\n",
              "  <th>i13053</th>         <td>    0.1014</td> <td>    0.032</td> <td>    3.126</td> <td> 0.002</td> <td>    0.038</td> <td>    0.165</td>\n",
              "</tr>\n",
              "<tr>\n",
              "  <th>i13059</th>         <td>    0.1825</td> <td>    0.027</td> <td>    6.643</td> <td> 0.000</td> <td>    0.129</td> <td>    0.236</td>\n",
              "</tr>\n",
              "<tr>\n",
              "  <th>i13061</th>         <td>   -0.4835</td> <td>    0.013</td> <td>  -36.779</td> <td> 0.000</td> <td>   -0.509</td> <td>   -0.458</td>\n",
              "</tr>\n",
              "<tr>\n",
              "  <th>iQAw</th>           <td>   -0.0079</td> <td>    0.005</td> <td>   -1.478</td> <td> 0.139</td> <td>   -0.018</td> <td>    0.003</td>\n",
              "</tr>\n",
              "<tr>\n",
              "  <th>iSAw</th>           <td>-5.732e-05</td> <td>    0.004</td> <td>   -0.014</td> <td> 0.989</td> <td>   -0.008</td> <td>    0.008</td>\n",
              "</tr>\n",
              "<tr>\n",
              "  <th>iMsdBrk</th>        <td>    0.0091</td> <td>    0.008</td> <td>    1.157</td> <td> 0.247</td> <td>   -0.006</td> <td>    0.024</td>\n",
              "</tr>\n",
              "<tr>\n",
              "  <th>iTurnedInTrap</th>  <td>    0.2735</td> <td>    0.395</td> <td>    0.692</td> <td> 0.489</td> <td>   -0.502</td> <td>    1.048</td>\n",
              "</tr>\n",
              "<tr>\n",
              "  <th>iDisp</th>          <td>   -0.0026</td> <td>    0.016</td> <td>   -0.164</td> <td> 0.869</td> <td>   -0.033</td> <td>    0.028</td>\n",
              "</tr>\n",
              "<tr>\n",
              "  <th>iNvShw</th>         <td>    0.3401</td> <td>    0.129</td> <td>    2.639</td> <td> 0.008</td> <td>    0.088</td> <td>    0.593</td>\n",
              "</tr>\n",
              "<tr>\n",
              "  <th>iCmAg</th>          <td>    0.0104</td> <td>    0.022</td> <td>    0.477</td> <td> 0.634</td> <td>   -0.032</td> <td>    0.053</td>\n",
              "</tr>\n",
              "<tr>\n",
              "  <th>iClrRun</th>        <td>   -0.0046</td> <td>    0.006</td> <td>   -0.736</td> <td> 0.462</td> <td>   -0.017</td> <td>    0.008</td>\n",
              "</tr>\n",
              "<tr>\n",
              "  <th>iHldOn</th>         <td>   -0.0041</td> <td>    0.021</td> <td>   -0.194</td> <td> 0.846</td> <td>   -0.045</td> <td>    0.037</td>\n",
              "</tr>\n",
              "<tr>\n",
              "  <th>iFinWll</th>        <td>    0.0138</td> <td>    0.016</td> <td>    0.870</td> <td> 0.384</td> <td>   -0.017</td> <td>    0.045</td>\n",
              "</tr>\n",
              "<tr>\n",
              "  <th>iRailed</th>        <td>    0.0046</td> <td>    0.024</td> <td>    0.192</td> <td> 0.848</td> <td>   -0.042</td> <td>    0.051</td>\n",
              "</tr>\n",
              "<tr>\n",
              "  <th>iBmp</th>           <td>    0.0158</td> <td>    0.004</td> <td>    3.675</td> <td> 0.000</td> <td>    0.007</td> <td>    0.024</td>\n",
              "</tr>\n",
              "<tr>\n",
              "  <th>iBlk</th>           <td>    0.0229</td> <td>    0.006</td> <td>    3.609</td> <td> 0.000</td> <td>    0.010</td> <td>    0.035</td>\n",
              "</tr>\n",
              "<tr>\n",
              "  <th>iCrd</th>           <td>    0.0131</td> <td>    0.003</td> <td>    4.146</td> <td> 0.000</td> <td>    0.007</td> <td>    0.019</td>\n",
              "</tr>\n",
              "<tr>\n",
              "  <th>iImp</th>           <td>   -0.0092</td> <td>    0.023</td> <td>   -0.408</td> <td> 0.683</td> <td>   -0.053</td> <td>    0.035</td>\n",
              "</tr>\n",
              "<tr>\n",
              "  <th>iStruckInto</th>    <td>    0.0425</td> <td>    0.063</td> <td>    0.676</td> <td> 0.499</td> <td>   -0.081</td> <td>    0.166</td>\n",
              "</tr>\n",
              "<tr>\n",
              "  <th>iCk</th>            <td>   -0.0041</td> <td>    0.014</td> <td>   -0.287</td> <td> 0.774</td> <td>   -0.032</td> <td>    0.024</td>\n",
              "</tr>\n",
              "<tr>\n",
              "  <th>iStb</th>           <td>    0.0024</td> <td>    0.017</td> <td>    0.146</td> <td> 0.884</td> <td>   -0.030</td> <td>    0.035</td>\n",
              "</tr>\n",
              "<tr>\n",
              "  <th>iKO</th>            <td>   -0.8360</td> <td>    0.688</td> <td>   -1.216</td> <td> 0.224</td> <td>   -2.184</td> <td>    0.512</td>\n",
              "</tr>\n",
              "<tr>\n",
              "  <th>iEP</th>            <td>    0.0026</td> <td>    0.004</td> <td>    0.646</td> <td> 0.519</td> <td>   -0.005</td> <td>    0.010</td>\n",
              "</tr>\n",
              "<tr>\n",
              "  <th>iLckEP</th>         <td>   -0.0261</td> <td>    0.017</td> <td>   -1.501</td> <td> 0.133</td> <td>   -0.060</td> <td>    0.008</td>\n",
              "</tr>\n",
              "<tr>\n",
              "  <th>iLd</th>            <td>   -0.0053</td> <td>    0.004</td> <td>   -1.414</td> <td> 0.157</td> <td>   -0.013</td> <td>    0.002</td>\n",
              "</tr>\n",
              "<tr>\n",
              "  <th>iALd</th>           <td>   -0.0146</td> <td>    0.007</td> <td>   -2.018</td> <td> 0.044</td> <td>   -0.029</td> <td>   -0.000</td>\n",
              "</tr>\n",
              "<tr>\n",
              "  <th>iLdNrLn</th>        <td>    0.0129</td> <td>    0.015</td> <td>    0.885</td> <td> 0.376</td> <td>   -0.016</td> <td>    0.042</td>\n",
              "</tr>\n",
              "<tr>\n",
              "  <th>iLedToNearLine</th> <td>   -0.0521</td> <td>    0.042</td> <td>   -1.241</td> <td> 0.215</td> <td>   -0.134</td> <td>    0.030</td>\n",
              "</tr>\n",
              "<tr>\n",
              "  <th>iW</th>             <td>-6.789e-05</td> <td>    0.006</td> <td>   -0.012</td> <td> 0.990</td> <td>   -0.011</td> <td>    0.011</td>\n",
              "</tr>\n",
              "<tr>\n",
              "  <th>iVW</th>            <td>    0.0277</td> <td>    0.019</td> <td>    1.474</td> <td> 0.141</td> <td>   -0.009</td> <td>    0.064</td>\n",
              "</tr>\n",
              "<tr>\n",
              "  <th>iBadly</th>         <td>   -0.0204</td> <td>    0.016</td> <td>   -1.244</td> <td> 0.213</td> <td>   -0.053</td> <td>    0.012</td>\n",
              "</tr>\n",
              "<tr>\n",
              "  <th>iVB</th>            <td>    0.1639</td> <td>    0.036</td> <td>    4.499</td> <td> 0.000</td> <td>    0.093</td> <td>    0.235</td>\n",
              "</tr>\n",
              "<tr>\n",
              "  <th>iFcd</th>           <td>    0.0096</td> <td>    0.014</td> <td>    0.666</td> <td> 0.506</td> <td>   -0.019</td> <td>    0.038</td>\n",
              "</tr>\n",
              "</table>\n",
              "<table class=\"simpletable\">\n",
              "<tr>\n",
              "  <th>Omnibus:</th>       <td>5161.598</td> <th>  Durbin-Watson:     </th> <td>   1.384</td> \n",
              "</tr>\n",
              "<tr>\n",
              "  <th>Prob(Omnibus):</th>  <td> 0.000</td>  <th>  Jarque-Bera (JB):  </th> <td>10931.936</td>\n",
              "</tr>\n",
              "<tr>\n",
              "  <th>Skew:</th>           <td>-0.461</td>  <th>  Prob(JB):          </th> <td>    0.00</td> \n",
              "</tr>\n",
              "<tr>\n",
              "  <th>Kurtosis:</th>       <td> 4.620</td>  <th>  Cond. No.          </th> <td>1.00e+16</td> \n",
              "</tr>\n",
              "</table><br/><br/>Warnings:<br/>[1] Standard Errors assume that the covariance matrix of the errors is correctly specified.<br/>[2] The smallest eigenvalue is 2.27e-25. This might indicate that there are<br/>strong multicollinearity problems or that the design matrix is singular."
            ],
            "text/plain": [
              "<class 'statsmodels.iolib.summary.Summary'>\n",
              "\"\"\"\n",
              "                            OLS Regression Results                            \n",
              "==============================================================================\n",
              "Dep. Variable:                   mmps   R-squared:                       0.795\n",
              "Model:                            OLS   Adj. R-squared:                  0.794\n",
              "Method:                 Least Squares   F-statistic:                     5719.\n",
              "Date:                Tue, 11 May 2021   Prob (F-statistic):               0.00\n",
              "Time:                        15:53:39   Log-Likelihood:                -135.91\n",
              "No. Observations:               75494   AIC:                             375.8\n",
              "Df Residuals:                   75442   BIC:                             855.9\n",
              "Df Model:                          51                                         \n",
              "Covariance Type:            nonrobust                                         \n",
              "==================================================================================\n",
              "                     coef    std err          t      P>|t|      [0.025      0.975]\n",
              "----------------------------------------------------------------------------------\n",
              "Intercept          0.7061      0.031     22.444      0.000       0.644       0.768\n",
              "ema_mmps           0.9595      0.002    529.524      0.000       0.956       0.963\n",
              "i13003            -0.0394      0.017     -2.365      0.018      -0.072      -0.007\n",
              "i13004             0.1070      0.012      8.825      0.000       0.083       0.131\n",
              "i13007            -0.4453      0.012    -36.217      0.000      -0.469      -0.421\n",
              "i13008             0.0246      0.023      1.087      0.277      -0.020       0.069\n",
              "i13009            -0.1908      0.010    -18.641      0.000      -0.211      -0.171\n",
              "i13010             0.4940      0.012     42.009      0.000       0.471       0.517\n",
              "i13013             0.1775      0.027      6.570      0.000       0.125       0.230\n",
              "i13014             0.1378      0.017      8.032      0.000       0.104       0.171\n",
              "i13019            -0.0730      0.011     -6.391      0.000      -0.095      -0.051\n",
              "i13020            -0.1216      0.018     -6.917      0.000      -0.156      -0.087\n",
              "i13021            -0.0329      0.054     -0.610      0.542      -0.139       0.073\n",
              "i13023             0.1047      0.016      6.376      0.000       0.073       0.137\n",
              "i13025             0.4528      0.012     38.168      0.000       0.430       0.476\n",
              "i13026            -0.3221      0.011    -28.987      0.000      -0.344      -0.300\n",
              "i13035             0.2358      0.019     12.356      0.000       0.198       0.273\n",
              "i13037             0.2901      0.012     24.976      0.000       0.267       0.313\n",
              "i13043             0.0697      0.014      5.101      0.000       0.043       0.097\n",
              "i13048            -0.6694      0.012    -54.361      0.000      -0.694      -0.645\n",
              "i13053             0.1014      0.032      3.126      0.002       0.038       0.165\n",
              "i13059             0.1825      0.027      6.643      0.000       0.129       0.236\n",
              "i13061            -0.4835      0.013    -36.779      0.000      -0.509      -0.458\n",
              "iQAw              -0.0079      0.005     -1.478      0.139      -0.018       0.003\n",
              "iSAw           -5.732e-05      0.004     -0.014      0.989      -0.008       0.008\n",
              "iMsdBrk            0.0091      0.008      1.157      0.247      -0.006       0.024\n",
              "iTurnedInTrap      0.2735      0.395      0.692      0.489      -0.502       1.048\n",
              "iDisp             -0.0026      0.016     -0.164      0.869      -0.033       0.028\n",
              "iNvShw             0.3401      0.129      2.639      0.008       0.088       0.593\n",
              "iCmAg              0.0104      0.022      0.477      0.634      -0.032       0.053\n",
              "iClrRun           -0.0046      0.006     -0.736      0.462      -0.017       0.008\n",
              "iHldOn            -0.0041      0.021     -0.194      0.846      -0.045       0.037\n",
              "iFinWll            0.0138      0.016      0.870      0.384      -0.017       0.045\n",
              "iRailed            0.0046      0.024      0.192      0.848      -0.042       0.051\n",
              "iBmp               0.0158      0.004      3.675      0.000       0.007       0.024\n",
              "iBlk               0.0229      0.006      3.609      0.000       0.010       0.035\n",
              "iCrd               0.0131      0.003      4.146      0.000       0.007       0.019\n",
              "iImp              -0.0092      0.023     -0.408      0.683      -0.053       0.035\n",
              "iStruckInto        0.0425      0.063      0.676      0.499      -0.081       0.166\n",
              "iCk               -0.0041      0.014     -0.287      0.774      -0.032       0.024\n",
              "iStb               0.0024      0.017      0.146      0.884      -0.030       0.035\n",
              "iKO               -0.8360      0.688     -1.216      0.224      -2.184       0.512\n",
              "iEP                0.0026      0.004      0.646      0.519      -0.005       0.010\n",
              "iLckEP            -0.0261      0.017     -1.501      0.133      -0.060       0.008\n",
              "iLd               -0.0053      0.004     -1.414      0.157      -0.013       0.002\n",
              "iALd              -0.0146      0.007     -2.018      0.044      -0.029      -0.000\n",
              "iLdNrLn            0.0129      0.015      0.885      0.376      -0.016       0.042\n",
              "iLedToNearLine    -0.0521      0.042     -1.241      0.215      -0.134       0.030\n",
              "iW             -6.789e-05      0.006     -0.012      0.990      -0.011       0.011\n",
              "iVW                0.0277      0.019      1.474      0.141      -0.009       0.064\n",
              "iBadly            -0.0204      0.016     -1.244      0.213      -0.053       0.012\n",
              "iVB                0.1639      0.036      4.499      0.000       0.093       0.235\n",
              "iFcd               0.0096      0.014      0.666      0.506      -0.019       0.038\n",
              "==============================================================================\n",
              "Omnibus:                     5161.598   Durbin-Watson:                   1.384\n",
              "Prob(Omnibus):                  0.000   Jarque-Bera (JB):            10931.936\n",
              "Skew:                          -0.461   Prob(JB):                         0.00\n",
              "Kurtosis:                       4.620   Cond. No.                     1.00e+16\n",
              "==============================================================================\n",
              "\n",
              "Warnings:\n",
              "[1] Standard Errors assume that the covariance matrix of the errors is correctly specified.\n",
              "[2] The smallest eigenvalue is 2.27e-25. This might indicate that there are\n",
              "strong multicollinearity problems or that the design matrix is singular.\n",
              "\"\"\""
            ]
          },
          "metadata": {
            "tags": []
          },
          "execution_count": 21
        }
      ]
    },
    {
      "cell_type": "markdown",
      "metadata": {
        "id": "-eUkQp8OFOJp"
      },
      "source": [
        "## b."
      ]
    },
    {
      "cell_type": "code",
      "metadata": {
        "colab": {
          "base_uri": "https://localhost:8080/"
        },
        "id": "o7Alatn4Q1TV",
        "outputId": "8fa48708-cac7-4c6d-8f9a-51da7f24b65b"
      },
      "source": [
        "y_pred = model.predict(test_2.drop('mmps',1))\n",
        "mean_squared_error(test_2.mmps, y_pred)"
      ],
      "execution_count": 22,
      "outputs": [
        {
          "output_type": "execute_result",
          "data": {
            "text/plain": [
              "0.06283450130513628"
            ]
          },
          "metadata": {
            "tags": []
          },
          "execution_count": 22
        }
      ]
    },
    {
      "cell_type": "code",
      "metadata": {
        "id": "2BSZP3jIbbPo"
      },
      "source": [
        "df3.to_csv('xc3.csv', index=False)"
      ],
      "execution_count": 23,
      "outputs": []
    },
    {
      "cell_type": "markdown",
      "metadata": {
        "id": "TlZVj__it-_2"
      },
      "source": [
        "# 4."
      ]
    },
    {
      "cell_type": "markdown",
      "metadata": {
        "id": "ZTQ_RWCIFGSZ"
      },
      "source": [
        "## a."
      ]
    },
    {
      "cell_type": "code",
      "metadata": {
        "id": "G5i_99A0snXZ"
      },
      "source": [
        "df4 = pd.read_csv('xc3.csv', parse_dates=['date'])\n",
        "df4['mmps_pred'] = model.predict(df4)\n",
        "train_4 = df4[df4.date < '2020-02-01']\n",
        "test_4 = df4[df4.date >= '2020-02-01']"
      ],
      "execution_count": 24,
      "outputs": []
    },
    {
      "cell_type": "code",
      "metadata": {
        "colab": {
          "base_uri": "https://localhost:8080/",
          "height": 502
        },
        "id": "0gDI2ZQ2s7GU",
        "outputId": "aed69284-a37e-4142-ecca-918577a691bb"
      },
      "source": [
        "model = mlogit('twinner ~ mmps_pred', train_4, 'race_id', 'box')\n",
        "model.get_statsmodels_summary()"
      ],
      "execution_count": 25,
      "outputs": [
        {
          "output_type": "stream",
          "text": [
            "Log-likelihood at zero: -51,357.1101\n",
            "Initial Log-likelihood: -51,357.1101\n"
          ],
          "name": "stdout"
        },
        {
          "output_type": "stream",
          "text": [
            "/usr/local/lib/python3.7/dist-packages/scipy/optimize/_minimize.py:506: RuntimeWarning: Method Powell does not use gradient information (jac).\n",
            "  RuntimeWarning)\n",
            "/usr/local/lib/python3.7/dist-packages/scipy/optimize/_minimize.py:511: RuntimeWarning: Method Powell does not use Hessian information (hess).\n",
            "  RuntimeWarning)\n",
            "/usr/local/lib/python3.7/dist-packages/pylogit/estimation.py:686: OptimizeWarning: Unknown solver options: gtol\n",
            "  **kwargs)\n"
          ],
          "name": "stderr"
        },
        {
          "output_type": "stream",
          "text": [
            "Estimation Time for Point Estimation: 15.79 seconds.\n",
            "Final log-likelihood: -50,091.5004\n"
          ],
          "name": "stdout"
        },
        {
          "output_type": "execute_result",
          "data": {
            "text/html": [
              "<table class=\"simpletable\">\n",
              "<caption>Multinomial Logit Model Regression Results</caption>\n",
              "<tr>\n",
              "  <th>Dep. Variable:</th>         <td>twinner</td>         <th>  No. Observations:  </th>   <td>32,682</td>   \n",
              "</tr>\n",
              "<tr>\n",
              "  <th>Model:</th>         <td>Multinomial Logit Model</td> <th>  Df Residuals:      </th>   <td>32,676</td>   \n",
              "</tr>\n",
              "<tr>\n",
              "  <th>Method:</th>                  <td>MLE</td>           <th>  Df Model:          </th>      <td>6</td>     \n",
              "</tr>\n",
              "<tr>\n",
              "  <th>Date:</th>             <td>Tue, 11 May 2021</td>     <th>  Pseudo R-squ.:     </th>    <td>0.025</td>   \n",
              "</tr>\n",
              "<tr>\n",
              "  <th>Time:</th>                 <td>16:00:49</td>         <th>  Pseudo R-bar-squ.: </th>    <td>0.025</td>   \n",
              "</tr>\n",
              "<tr>\n",
              "  <th>AIC:</th>                 <td>100,195.001</td>       <th>  Log-Likelihood:    </th> <td>-50,091.500</td>\n",
              "</tr>\n",
              "<tr>\n",
              "  <th>BIC:</th>                 <td>100,245.368</td>       <th>  LL-Null:           </th> <td>-51,357.110</td>\n",
              "</tr>\n",
              "</table>\n",
              "<table class=\"simpletable\">\n",
              "<tr>\n",
              "        <td></td>           <th>coef</th>     <th>std err</th>      <th>z</th>      <th>P>|z|</th>  <th>[0.025</th>    <th>0.975]</th>  \n",
              "</tr>\n",
              "<tr>\n",
              "  <th>(Intercept):2</th> <td>   -0.0431</td> <td>    0.020</td> <td>   -2.199</td> <td> 0.028</td> <td>   -0.082</td> <td>   -0.005</td>\n",
              "</tr>\n",
              "<tr>\n",
              "  <th>(Intercept):3</th> <td>    0.0436</td> <td>    0.019</td> <td>    2.245</td> <td> 0.025</td> <td>    0.006</td> <td>    0.082</td>\n",
              "</tr>\n",
              "<tr>\n",
              "  <th>(Intercept):4</th> <td>    0.0013</td> <td>    0.020</td> <td>    0.068</td> <td> 0.945</td> <td>   -0.037</td> <td>    0.040</td>\n",
              "</tr>\n",
              "<tr>\n",
              "  <th>(Intercept):5</th> <td>   -0.1241</td> <td>    0.020</td> <td>   -6.220</td> <td> 0.000</td> <td>   -0.163</td> <td>   -0.085</td>\n",
              "</tr>\n",
              "<tr>\n",
              "  <th>(Intercept):6</th> <td>    0.0039</td> <td>    0.019</td> <td>    0.201</td> <td> 0.841</td> <td>   -0.034</td> <td>    0.042</td>\n",
              "</tr>\n",
              "<tr>\n",
              "  <th>mmps_pred</th>     <td>    2.8236</td> <td>    0.057</td> <td>   49.489</td> <td> 0.000</td> <td>    2.712</td> <td>    2.935</td>\n",
              "</tr>\n",
              "</table>"
            ],
            "text/plain": [
              "<class 'statsmodels.iolib.summary.Summary'>\n",
              "\"\"\"\n",
              "                     Multinomial Logit Model Regression Results                    \n",
              "===================================================================================\n",
              "Dep. Variable:                     twinner   No. Observations:               32,682\n",
              "Model:             Multinomial Logit Model   Df Residuals:                   32,676\n",
              "Method:                                MLE   Df Model:                            6\n",
              "Date:                     Tue, 11 May 2021   Pseudo R-squ.:                   0.025\n",
              "Time:                             16:00:49   Pseudo R-bar-squ.:               0.025\n",
              "AIC:                           100,195.001   Log-Likelihood:            -50,091.500\n",
              "BIC:                           100,245.368   LL-Null:                   -51,357.110\n",
              "=================================================================================\n",
              "                    coef    std err          z      P>|z|      [0.025      0.975]\n",
              "---------------------------------------------------------------------------------\n",
              "(Intercept):2    -0.0431      0.020     -2.199      0.028      -0.082      -0.005\n",
              "(Intercept):3     0.0436      0.019      2.245      0.025       0.006       0.082\n",
              "(Intercept):4     0.0013      0.020      0.068      0.945      -0.037       0.040\n",
              "(Intercept):5    -0.1241      0.020     -6.220      0.000      -0.163      -0.085\n",
              "(Intercept):6     0.0039      0.019      0.201      0.841      -0.034       0.042\n",
              "mmps_pred         2.8236      0.057     49.489      0.000       2.712       2.935\n",
              "=================================================================================\n",
              "\"\"\""
            ]
          },
          "metadata": {
            "tags": []
          },
          "execution_count": 25
        }
      ]
    },
    {
      "cell_type": "code",
      "metadata": {
        "colab": {
          "base_uri": "https://localhost:8080/"
        },
        "id": "DhbGzIx4tTy_",
        "outputId": "7ac078a0-6258-4756-b69c-2f1e7e5f2434"
      },
      "source": [
        "y_pred = model.predict(test_4.drop('twinner', 1))\n",
        "brier_score_loss(test_4['twinner'], y_pred)"
      ],
      "execution_count": 26,
      "outputs": [
        {
          "output_type": "execute_result",
          "data": {
            "text/plain": [
              "0.13894176040798398"
            ]
          },
          "metadata": {
            "tags": []
          },
          "execution_count": 26
        }
      ]
    },
    {
      "cell_type": "markdown",
      "metadata": {
        "id": "pt_JTgivcnEk"
      },
      "source": [
        "## b."
      ]
    },
    {
      "cell_type": "code",
      "metadata": {
        "id": "uQ_MRRBYc5zl"
      },
      "source": [
        "df4['going_prev'] = df4.groupby('dog_id').going.transform(lambda x : x.expanding().mean().shift(1, fill_value = 0))\n",
        "df4['decimal_price_prob'] = df4.decimal_price / (df4.decimal_price + 1)\n",
        "df4['decimal_price_prev'] = df4.groupby('dog_id').decimal_price_prob.transform(lambda x : x.expanding().mean().shift(1))"
      ],
      "execution_count": 64,
      "outputs": []
    },
    {
      "cell_type": "code",
      "metadata": {
        "id": "Klt3inWtdrXT"
      },
      "source": [
        "df4 = df4.dropna()"
      ],
      "execution_count": 66,
      "outputs": []
    },
    {
      "cell_type": "code",
      "metadata": {
        "id": "evOPZAewdSgu"
      },
      "source": [
        "train_4 = df4[df4.date < '2020-02-01']\n",
        "test_4 = df4[df4.date >= '2020-02-01']"
      ],
      "execution_count": 67,
      "outputs": []
    },
    {
      "cell_type": "code",
      "metadata": {
        "colab": {
          "base_uri": "https://localhost:8080/",
          "height": 599
        },
        "id": "O1EqFgcw1lvq",
        "outputId": "12928ad9-296e-4f27-c78b-f7fbd2315de2"
      },
      "source": [
        "model = mlogit('twinner ~ mmps_pred + distance_m + going_prev + decimal_price_prev', train_4, 'race_id', 'box')\n",
        "model.get_statsmodels_summary()"
      ],
      "execution_count": 68,
      "outputs": [
        {
          "output_type": "stream",
          "text": [
            "Log-likelihood at zero: -45,678.2921\n",
            "Initial Log-likelihood: -45,678.2921\n"
          ],
          "name": "stdout"
        },
        {
          "output_type": "stream",
          "text": [
            "/usr/local/lib/python3.7/dist-packages/scipy/optimize/_minimize.py:506: RuntimeWarning: Method Powell does not use gradient information (jac).\n",
            "  RuntimeWarning)\n",
            "/usr/local/lib/python3.7/dist-packages/scipy/optimize/_minimize.py:511: RuntimeWarning: Method Powell does not use Hessian information (hess).\n",
            "  RuntimeWarning)\n",
            "/usr/local/lib/python3.7/dist-packages/pylogit/estimation.py:686: OptimizeWarning: Unknown solver options: gtol\n",
            "  **kwargs)\n"
          ],
          "name": "stderr"
        },
        {
          "output_type": "stream",
          "text": [
            "Estimation Time for Point Estimation: 21.40 seconds.\n",
            "Final log-likelihood: -44,318.3010\n"
          ],
          "name": "stdout"
        },
        {
          "output_type": "stream",
          "text": [
            "/usr/local/lib/python3.7/dist-packages/pylogit/base_multinomial_cm_v2.py:1228: RuntimeWarning: invalid value encountered in sqrt\n",
            "  self._store_inferential_results(np.sqrt(np.diag(self.cov)),\n"
          ],
          "name": "stderr"
        },
        {
          "output_type": "execute_result",
          "data": {
            "text/html": [
              "<table class=\"simpletable\">\n",
              "<caption>Multinomial Logit Model Regression Results</caption>\n",
              "<tr>\n",
              "  <th>Dep. Variable:</th>         <td>twinner</td>         <th>  No. Observations:  </th>   <td>31,992</td>   \n",
              "</tr>\n",
              "<tr>\n",
              "  <th>Model:</th>         <td>Multinomial Logit Model</td> <th>  Df Residuals:      </th>   <td>31,983</td>   \n",
              "</tr>\n",
              "<tr>\n",
              "  <th>Method:</th>                  <td>MLE</td>           <th>  Df Model:          </th>      <td>9</td>     \n",
              "</tr>\n",
              "<tr>\n",
              "  <th>Date:</th>             <td>Tue, 11 May 2021</td>     <th>  Pseudo R-squ.:     </th>    <td>0.030</td>   \n",
              "</tr>\n",
              "<tr>\n",
              "  <th>Time:</th>                 <td>17:27:40</td>         <th>  Pseudo R-bar-squ.: </th>    <td>0.030</td>   \n",
              "</tr>\n",
              "<tr>\n",
              "  <th>AIC:</th>                 <td>88,654.602</td>        <th>  Log-Likelihood:    </th> <td>-44,318.301</td>\n",
              "</tr>\n",
              "<tr>\n",
              "  <th>BIC:</th>                 <td>88,729.961</td>        <th>  LL-Null:           </th> <td>-45,678.292</td>\n",
              "</tr>\n",
              "</table>\n",
              "<table class=\"simpletable\">\n",
              "<tr>\n",
              "           <td></td>             <th>coef</th>     <th>std err</th>      <th>z</th>      <th>P>|z|</th>  <th>[0.025</th>    <th>0.975]</th>  \n",
              "</tr>\n",
              "<tr>\n",
              "  <th>(Intercept):2</th>      <td>   -0.0573</td> <td>    0.020</td> <td>   -2.838</td> <td> 0.005</td> <td>   -0.097</td> <td>   -0.018</td>\n",
              "</tr>\n",
              "<tr>\n",
              "  <th>(Intercept):3</th>      <td>    0.0383</td> <td>    0.020</td> <td>    1.915</td> <td> 0.055</td> <td>   -0.001</td> <td>    0.078</td>\n",
              "</tr>\n",
              "<tr>\n",
              "  <th>(Intercept):4</th>      <td>    0.0006</td> <td>    0.020</td> <td>    0.030</td> <td> 0.976</td> <td>   -0.039</td> <td>    0.040</td>\n",
              "</tr>\n",
              "<tr>\n",
              "  <th>(Intercept):5</th>      <td>   -0.1130</td> <td>    0.020</td> <td>   -5.531</td> <td> 0.000</td> <td>   -0.153</td> <td>   -0.073</td>\n",
              "</tr>\n",
              "<tr>\n",
              "  <th>(Intercept):6</th>      <td>    0.0211</td> <td>    0.020</td> <td>    1.069</td> <td> 0.285</td> <td>   -0.018</td> <td>    0.060</td>\n",
              "</tr>\n",
              "<tr>\n",
              "  <th>mmps_pred</th>          <td>    2.7686</td> <td>    0.005</td> <td>  508.047</td> <td> 0.000</td> <td>    2.758</td> <td>    2.779</td>\n",
              "</tr>\n",
              "<tr>\n",
              "  <th>distance_m</th>         <td>    0.0401</td> <td>      nan</td> <td>      nan</td> <td>   nan</td> <td>      nan</td> <td>      nan</td>\n",
              "</tr>\n",
              "<tr>\n",
              "  <th>going_prev</th>         <td>   -0.1806</td> <td>    0.093</td> <td>   -1.944</td> <td> 0.052</td> <td>   -0.363</td> <td>    0.001</td>\n",
              "</tr>\n",
              "<tr>\n",
              "  <th>decimal_price_prev</th> <td>   -3.5815</td> <td>    0.168</td> <td>  -21.268</td> <td> 0.000</td> <td>   -3.912</td> <td>   -3.251</td>\n",
              "</tr>\n",
              "</table>"
            ],
            "text/plain": [
              "<class 'statsmodels.iolib.summary.Summary'>\n",
              "\"\"\"\n",
              "                     Multinomial Logit Model Regression Results                    \n",
              "===================================================================================\n",
              "Dep. Variable:                     twinner   No. Observations:               31,992\n",
              "Model:             Multinomial Logit Model   Df Residuals:                   31,983\n",
              "Method:                                MLE   Df Model:                            9\n",
              "Date:                     Tue, 11 May 2021   Pseudo R-squ.:                   0.030\n",
              "Time:                             17:27:40   Pseudo R-bar-squ.:               0.030\n",
              "AIC:                            88,654.602   Log-Likelihood:            -44,318.301\n",
              "BIC:                            88,729.961   LL-Null:                   -45,678.292\n",
              "======================================================================================\n",
              "                         coef    std err          z      P>|z|      [0.025      0.975]\n",
              "--------------------------------------------------------------------------------------\n",
              "(Intercept):2         -0.0573      0.020     -2.838      0.005      -0.097      -0.018\n",
              "(Intercept):3          0.0383      0.020      1.915      0.055      -0.001       0.078\n",
              "(Intercept):4          0.0006      0.020      0.030      0.976      -0.039       0.040\n",
              "(Intercept):5         -0.1130      0.020     -5.531      0.000      -0.153      -0.073\n",
              "(Intercept):6          0.0211      0.020      1.069      0.285      -0.018       0.060\n",
              "mmps_pred              2.7686      0.005    508.047      0.000       2.758       2.779\n",
              "distance_m             0.0401        nan        nan        nan         nan         nan\n",
              "going_prev            -0.1806      0.093     -1.944      0.052      -0.363       0.001\n",
              "decimal_price_prev    -3.5815      0.168    -21.268      0.000      -3.912      -3.251\n",
              "======================================================================================\n",
              "\"\"\""
            ]
          },
          "metadata": {
            "tags": []
          },
          "execution_count": 68
        }
      ]
    },
    {
      "cell_type": "code",
      "metadata": {
        "colab": {
          "base_uri": "https://localhost:8080/"
        },
        "id": "GkFqwqcadi55",
        "outputId": "528c6239-7a42-4b60-f459-26b071374265"
      },
      "source": [
        "y_pred = model.predict(test_4.drop('twinner', 1))\n",
        "brier_score_loss(test_4['twinner'], y_pred)"
      ],
      "execution_count": 69,
      "outputs": [
        {
          "output_type": "execute_result",
          "data": {
            "text/plain": [
              "0.1379358197967272"
            ]
          },
          "metadata": {
            "tags": []
          },
          "execution_count": 69
        }
      ]
    },
    {
      "cell_type": "markdown",
      "metadata": {
        "id": "x4gJ8OfgfV15"
      },
      "source": [
        "## c."
      ]
    },
    {
      "cell_type": "code",
      "metadata": {
        "colab": {
          "base_uri": "https://localhost:8080/"
        },
        "id": "Fmq2oP8Agbex",
        "outputId": "6a9e2269-b8f7-4019-f0be-7105411c9e5b"
      },
      "source": [
        "from scipy.special import logit\n",
        "\n",
        "df4['twin_pred'] = model.predict(df4)\n",
        "df4['twin_pred'] = np.where(df4.twin_pred == 1, df4.twin_pred - 0.00000000001, df4.twin_pred)\n",
        "df4['logit_twin_pred'] = logit(df4.twin_pred)\n",
        "df4['logit_dml_price'] = logit(df4.decimal_price_prob)"
      ],
      "execution_count": 84,
      "outputs": [
        {
          "output_type": "stream",
          "text": [
            "/usr/local/lib/python3.7/dist-packages/ipykernel_launcher.py:1: SettingWithCopyWarning: \n",
            "A value is trying to be set on a copy of a slice from a DataFrame.\n",
            "Try using .loc[row_indexer,col_indexer] = value instead\n",
            "\n",
            "See the caveats in the documentation: https://pandas.pydata.org/pandas-docs/stable/user_guide/indexing.html#returning-a-view-versus-a-copy\n",
            "  \"\"\"Entry point for launching an IPython kernel.\n",
            "/usr/local/lib/python3.7/dist-packages/ipykernel_launcher.py:2: SettingWithCopyWarning: \n",
            "A value is trying to be set on a copy of a slice from a DataFrame.\n",
            "Try using .loc[row_indexer,col_indexer] = value instead\n",
            "\n",
            "See the caveats in the documentation: https://pandas.pydata.org/pandas-docs/stable/user_guide/indexing.html#returning-a-view-versus-a-copy\n",
            "  \n"
          ],
          "name": "stderr"
        }
      ]
    },
    {
      "cell_type": "code",
      "metadata": {
        "id": "1Qf1_Xkpp6tB"
      },
      "source": [
        "train_4 = df4[df4.date < '2020-02-01']\n",
        "test_4 = df4[df4.date >= '2020-02-01']"
      ],
      "execution_count": 87,
      "outputs": []
    },
    {
      "cell_type": "code",
      "metadata": {
        "colab": {
          "base_uri": "https://localhost:8080/",
          "height": 586
        },
        "id": "kokCk2QFgB2P",
        "outputId": "db560a29-e26c-4817-d9a1-7f621ccb55f1"
      },
      "source": [
        "model = mlogit('twinner ~ logit_twin_pred + logit_dml_price + mmps_pred + distance_m + going_prev', train_4, 'race_id', 'box')\n",
        "model.get_statsmodels_summary()"
      ],
      "execution_count": 97,
      "outputs": [
        {
          "output_type": "stream",
          "text": [
            "Log-likelihood at zero: -45,678.2921\n",
            "Initial Log-likelihood: -45,678.2921\n"
          ],
          "name": "stdout"
        },
        {
          "output_type": "stream",
          "text": [
            "/usr/local/lib/python3.7/dist-packages/scipy/optimize/_minimize.py:506: RuntimeWarning: Method Powell does not use gradient information (jac).\n",
            "  RuntimeWarning)\n",
            "/usr/local/lib/python3.7/dist-packages/scipy/optimize/_minimize.py:511: RuntimeWarning: Method Powell does not use Hessian information (hess).\n",
            "  RuntimeWarning)\n",
            "/usr/local/lib/python3.7/dist-packages/pylogit/estimation.py:686: OptimizeWarning: Unknown solver options: gtol\n",
            "  **kwargs)\n"
          ],
          "name": "stderr"
        },
        {
          "output_type": "stream",
          "text": [
            "Estimation Time for Point Estimation: 1.12 minutes.\n",
            "Final log-likelihood: -44,329.0428\n"
          ],
          "name": "stdout"
        },
        {
          "output_type": "execute_result",
          "data": {
            "text/html": [
              "<table class=\"simpletable\">\n",
              "<caption>Multinomial Logit Model Regression Results</caption>\n",
              "<tr>\n",
              "  <th>Dep. Variable:</th>         <td>twinner</td>         <th>  No. Observations:  </th>   <td>31,992</td>   \n",
              "</tr>\n",
              "<tr>\n",
              "  <th>Model:</th>         <td>Multinomial Logit Model</td> <th>  Df Residuals:      </th>   <td>31,982</td>   \n",
              "</tr>\n",
              "<tr>\n",
              "  <th>Method:</th>                  <td>MLE</td>           <th>  Df Model:          </th>     <td>10</td>     \n",
              "</tr>\n",
              "<tr>\n",
              "  <th>Date:</th>             <td>Tue, 11 May 2021</td>     <th>  Pseudo R-squ.:     </th>    <td>0.030</td>   \n",
              "</tr>\n",
              "<tr>\n",
              "  <th>Time:</th>                 <td>17:55:53</td>         <th>  Pseudo R-bar-squ.: </th>    <td>0.029</td>   \n",
              "</tr>\n",
              "<tr>\n",
              "  <th>AIC:</th>                 <td>88,678.086</td>        <th>  Log-Likelihood:    </th> <td>-44,329.043</td>\n",
              "</tr>\n",
              "<tr>\n",
              "  <th>BIC:</th>                 <td>88,761.818</td>        <th>  LL-Null:           </th> <td>-45,678.292</td>\n",
              "</tr>\n",
              "</table>\n",
              "<table class=\"simpletable\">\n",
              "<tr>\n",
              "         <td></td>            <th>coef</th>     <th>std err</th>      <th>z</th>      <th>P>|z|</th>  <th>[0.025</th>    <th>0.975]</th>  \n",
              "</tr>\n",
              "<tr>\n",
              "  <th>(Intercept):2</th>   <td>   -0.0551</td> <td>    0.021</td> <td>   -2.668</td> <td> 0.008</td> <td>   -0.096</td> <td>   -0.015</td>\n",
              "</tr>\n",
              "<tr>\n",
              "  <th>(Intercept):3</th>   <td>    0.0361</td> <td>    0.020</td> <td>    1.791</td> <td> 0.073</td> <td>   -0.003</td> <td>    0.076</td>\n",
              "</tr>\n",
              "<tr>\n",
              "  <th>(Intercept):4</th>   <td>    0.0002</td> <td>    0.020</td> <td>    0.012</td> <td> 0.990</td> <td>   -0.039</td> <td>    0.040</td>\n",
              "</tr>\n",
              "<tr>\n",
              "  <th>(Intercept):5</th>   <td>   -0.1092</td> <td>    0.022</td> <td>   -4.965</td> <td> 0.000</td> <td>   -0.152</td> <td>   -0.066</td>\n",
              "</tr>\n",
              "<tr>\n",
              "  <th>(Intercept):6</th>   <td>    0.0191</td> <td>    0.020</td> <td>    0.967</td> <td> 0.333</td> <td>   -0.020</td> <td>    0.058</td>\n",
              "</tr>\n",
              "<tr>\n",
              "  <th>logit_twin_pred</th> <td>    0.0290</td> <td>    0.054</td> <td>    0.537</td> <td> 0.591</td> <td>   -0.077</td> <td>    0.135</td>\n",
              "</tr>\n",
              "<tr>\n",
              "  <th>logit_dml_price</th> <td>   -0.4904</td> <td>    0.045</td> <td>  -10.822</td> <td> 0.000</td> <td>   -0.579</td> <td>   -0.402</td>\n",
              "</tr>\n",
              "<tr>\n",
              "  <th>mmps_pred</th>       <td>    2.6764</td> <td>    0.205</td> <td>   13.026</td> <td> 0.000</td> <td>    2.274</td> <td>    3.079</td>\n",
              "</tr>\n",
              "<tr>\n",
              "  <th>distance_m</th>      <td>   -0.2332</td> <td>  457.947</td> <td>   -0.001</td> <td> 1.000</td> <td> -897.792</td> <td>  897.326</td>\n",
              "</tr>\n",
              "<tr>\n",
              "  <th>going_prev</th>      <td>   -0.1705</td> <td>    0.094</td> <td>   -1.811</td> <td> 0.070</td> <td>   -0.355</td> <td>    0.014</td>\n",
              "</tr>\n",
              "</table>"
            ],
            "text/plain": [
              "<class 'statsmodels.iolib.summary.Summary'>\n",
              "\"\"\"\n",
              "                     Multinomial Logit Model Regression Results                    \n",
              "===================================================================================\n",
              "Dep. Variable:                     twinner   No. Observations:               31,992\n",
              "Model:             Multinomial Logit Model   Df Residuals:                   31,982\n",
              "Method:                                MLE   Df Model:                           10\n",
              "Date:                     Tue, 11 May 2021   Pseudo R-squ.:                   0.030\n",
              "Time:                             17:55:53   Pseudo R-bar-squ.:               0.029\n",
              "AIC:                            88,678.086   Log-Likelihood:            -44,329.043\n",
              "BIC:                            88,761.818   LL-Null:                   -45,678.292\n",
              "===================================================================================\n",
              "                      coef    std err          z      P>|z|      [0.025      0.975]\n",
              "-----------------------------------------------------------------------------------\n",
              "(Intercept):2      -0.0551      0.021     -2.668      0.008      -0.096      -0.015\n",
              "(Intercept):3       0.0361      0.020      1.791      0.073      -0.003       0.076\n",
              "(Intercept):4       0.0002      0.020      0.012      0.990      -0.039       0.040\n",
              "(Intercept):5      -0.1092      0.022     -4.965      0.000      -0.152      -0.066\n",
              "(Intercept):6       0.0191      0.020      0.967      0.333      -0.020       0.058\n",
              "logit_twin_pred     0.0290      0.054      0.537      0.591      -0.077       0.135\n",
              "logit_dml_price    -0.4904      0.045    -10.822      0.000      -0.579      -0.402\n",
              "mmps_pred           2.6764      0.205     13.026      0.000       2.274       3.079\n",
              "distance_m         -0.2332    457.947     -0.001      1.000    -897.792     897.326\n",
              "going_prev         -0.1705      0.094     -1.811      0.070      -0.355       0.014\n",
              "===================================================================================\n",
              "\"\"\""
            ]
          },
          "metadata": {
            "tags": []
          },
          "execution_count": 97
        }
      ]
    },
    {
      "cell_type": "code",
      "metadata": {
        "colab": {
          "base_uri": "https://localhost:8080/"
        },
        "id": "03Mxk8G1ldH4",
        "outputId": "338887c2-f57e-4e6d-a8d2-173a609b6a6c"
      },
      "source": [
        "y_pred = model.predict(test_4)\n",
        "brier_score_loss(test_4['twinner'], y_pred)"
      ],
      "execution_count": 98,
      "outputs": [
        {
          "output_type": "execute_result",
          "data": {
            "text/plain": [
              "0.13798327766307228"
            ]
          },
          "metadata": {
            "tags": []
          },
          "execution_count": 98
        }
      ]
    }
  ]
}